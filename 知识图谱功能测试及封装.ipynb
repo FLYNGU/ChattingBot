{
 "cells": [
  {
   "cell_type": "code",
   "execution_count": 1,
   "metadata": {
    "ExecuteTime": {
     "end_time": "2022-07-03T03:20:39.385668Z",
     "start_time": "2022-07-03T03:20:38.257622Z"
    }
   },
   "outputs": [],
   "source": [
    "from py2neo import Graph\n",
    "from pyhanlp import *\n",
    "\n",
    "class GraphSearch():\n",
    "    def __init__(self):\n",
    "        self.graph = Graph(\"http://localhost:7474\", username=\"neo4j\", password=\"123\")\n",
    "        \n",
    "    # 基于科目，寻求课程\n",
    "    def forintent0(self,entity):\n",
    "            sql = \"match p = (n:%s)-[]->(m:km2) where n.name = '%s' return m.name\"%(entity[1],entity[0])\n",
    "            res = self.graph.run(sql).data()\n",
    "            return [i['m.name'] for i in res]\n",
    "\n",
    "    # 基于课程、科目、知识点，寻求问题\n",
    "    def forintent2(self,entity):\n",
    "        if 1:\n",
    "            if entity[1] == 'km1':\n",
    "                sql = \"match p = (n:%s)-[]->()-[]->()-[]->(m:question) where n.name = '%s' return m.name limit 10\"%(entity[1],entity[0])\n",
    "            elif entity[1] == 'km2':\n",
    "                sql = \"match p = (n:%s)-[]->()-[]->(m:question) where n.name = '%s' return m.name limit 10\"%(entity[1],entity[0])\n",
    "            else:\n",
    "                sql = \"match p = (n:%s)-[]->(m:question) where n.name = '%s' return m.name limit 10\"%(entity[1],entity[0])\n",
    "            res = self.graph.run(sql).data()\n",
    "            return [i['m.name'] for i in res]\n",
    "        \n",
    "    # 基于科目或课程，寻求知识点\n",
    "    def forintent4(self,entity):\n",
    "        if 1:\n",
    "            if entity[1] == 'km1':\n",
    "                sql = \"match p = (n:%s)-[]->()-[]->(m:kg) where n.name = '%s' return m.name\"%(entity[1],entity[0])\n",
    "            else:\n",
    "                sql = \"match p = (n:%s)-[]->(m:kg) where n.name = '%s' return m.name\"%(entity[1],entity[0])\n",
    "            res = self.graph.run(sql).data()\n",
    "            return [i['m.name'] for i in res]\n",
    "        \n",
    "    # 基于课程、科目、知识点，寻求问题\n",
    "    def forintent5(self,entity):\n",
    "        if 1:\n",
    "            if entity[1] == 'km1':\n",
    "                sql = \"match p = (n:%s)-[]->()-[]->()-[]->(m:question) where n.name = '%s' return m.name limit 10\"%(entity[1],entity[0])\n",
    "            elif entity[1] == 'km2':\n",
    "                sql = \"match p = (n:%s)-[]->()-[]->(m:question) where n.name = '%s' return m.name limit 10\"%(entity[1],entity[0])\n",
    "            else:\n",
    "                sql = \"match p = (n:%s)-[]->(m:question) where n.name = '%s' return m.name limit 10\"%(entity[1],entity[0])\n",
    "            res = self.graph.run(sql).data()\n",
    "            return [i['m.name'] for i in res]\n",
    "        \n",
    "    # 基于科目，寻求课程\n",
    "    def forintent6(self,entity):\n",
    "        if 1:\n",
    "            sql = \"match p = (n:km1)-[]->(m:%s) where m.name = '%s' return n.name limit 10\"%(entity[1],entity[0])\n",
    "            res = self.graph.run(sql).data()\n",
    "            return [i['n.name'] for i in res]\n",
    "        \n",
    "    # 基于作者，寻求诗句名\n",
    "    def forintent9(self,entity):\n",
    "        sql = \"match p = (n:%s)-[]->(m:title) where n.name = '%s' return m.name\"%(entity[1],entity[0])\n",
    "        res = self.graph.run(sql).data()\n",
    "        return [i['m.name'] for i in res]\n",
    "\n",
    "    # 基于作者名，寻求简介\n",
    "    def forintent10(self,entity):\n",
    "        sql = \"match p = (n:%s)-[]->(m:introduce) where n.name = '%s' return m.name\"%(entity[1],entity[0])\n",
    "        res = self.graph.run(sql).data()\n",
    "        return res[0]['m.name']\n",
    "\n",
    "    # 基于诗名，寻求诗文\n",
    "    def forintent12(self,entity):\n",
    "        if 1:\n",
    "            sql = \"match p = (n:title)-[]->(m:content) where n.name = '%s' return m.name\"%(entity[0])\n",
    "            res = self.graph.run(sql).data()\n",
    "            return [i['m.name'] for i in res]\n",
    "\n",
    "    # 基于诗名，寻求翻译\n",
    "    def forintent13(self,entity):\n",
    "        if 1:\n",
    "            sql = \"match p = (n:title)-[]->(m:translate) where n.name = '%s' return m.name\"%(entity[0])\n",
    "            res = self.graph.run(sql).data()\n",
    "            return [i['m.name'] for i in res]\n",
    "    \n",
    "    # 基于诗名，寻求类型\n",
    "    def forintent14(self,entity):\n",
    "        if 1:\n",
    "            sql = \"match p = (n:title)<-[]-(m:tag) where n.name = '%s' return m.name\"%(entity[0])\n",
    "            res = self.graph.run(sql).data()\n",
    "            return [i['m.name'] for i in res]"
   ]
  },
  {
   "cell_type": "code",
   "execution_count": 2,
   "metadata": {
    "ExecuteTime": {
     "end_time": "2022-07-03T03:20:42.733374Z",
     "start_time": "2022-07-03T03:20:42.646423Z"
    }
   },
   "outputs": [],
   "source": [
    "graph = GraphSearch()"
   ]
  },
  {
   "cell_type": "code",
   "execution_count": 3,
   "metadata": {
    "ExecuteTime": {
     "end_time": "2022-07-03T03:20:50.768210Z",
     "start_time": "2022-07-03T03:20:46.625920Z"
    }
   },
   "outputs": [
    {
     "name": "stdout",
     "output_type": "stream",
     "text": [
      "['生产活动与地域联系', '宇宙中的地球', '地球与地图', '区域可持续发展', '人口与城市'] 0 \n",
      "\n"
     ]
    }
   ],
   "source": [
    "print(graph.forintent0(['高中地理','km1']),0,'\\n')\n",
    "# print(graph.forintent2(['高中地理','km1']),2,'\\n')\n",
    "# print(graph.forintent4(['高中地理','km1']),4,'\\n')\n",
    "# print(graph.forintent5(['高中地理','km1']),5,'\\n')\n",
    "# print(graph.forintent6(['宇宙中的地球','km2']),6,'\\n')\n",
    "# print(graph.forintent9(['杜甫','author']),9,'\\n')\n",
    "# print(graph.forintent10(['杜甫','author']),10,'\\n')\n",
    "# print(graph.forintent12(['静夜思']),12,'\\n')\n",
    "# print(graph.forintent13(['静夜思']),13,'\\n')\n",
    "# print(graph.forintent14(['静夜思']),14,'\\n')"
   ]
  },
  {
   "cell_type": "code",
   "execution_count": null,
   "metadata": {},
   "outputs": [],
   "source": []
  }
 ],
 "metadata": {
  "kernelspec": {
   "display_name": "pytorch",
   "language": "python",
   "name": "pytorch"
  },
  "language_info": {
   "codemirror_mode": {
    "name": "ipython",
    "version": 3
   },
   "file_extension": ".py",
   "mimetype": "text/x-python",
   "name": "python",
   "nbconvert_exporter": "python",
   "pygments_lexer": "ipython3",
   "version": "3.6.13"
  },
  "toc": {
   "base_numbering": 1,
   "nav_menu": {},
   "number_sections": true,
   "sideBar": true,
   "skip_h1_title": false,
   "title_cell": "Table of Contents",
   "title_sidebar": "Contents",
   "toc_cell": false,
   "toc_position": {},
   "toc_section_display": true,
   "toc_window_display": false
  },
  "varInspector": {
   "cols": {
    "lenName": 16,
    "lenType": 16,
    "lenVar": 40
   },
   "kernels_config": {
    "python": {
     "delete_cmd_postfix": "",
     "delete_cmd_prefix": "del ",
     "library": "var_list.py",
     "varRefreshCmd": "print(var_dic_list())"
    },
    "r": {
     "delete_cmd_postfix": ") ",
     "delete_cmd_prefix": "rm(",
     "library": "var_list.r",
     "varRefreshCmd": "cat(var_dic_list()) "
    }
   },
   "types_to_exclude": [
    "module",
    "function",
    "builtin_function_or_method",
    "instance",
    "_Feature"
   ],
   "window_display": false
  }
 },
 "nbformat": 4,
 "nbformat_minor": 2
}
