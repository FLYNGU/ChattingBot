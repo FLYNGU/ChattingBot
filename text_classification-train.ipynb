{
 "cells": [
  {
   "cell_type": "code",
   "execution_count": 1,
   "metadata": {
    "ExecuteTime": {
     "end_time": "2022-07-03T03:05:24.846428Z",
     "start_time": "2022-07-03T03:05:24.338426Z"
    }
   },
   "outputs": [
    {
     "name": "stdout",
     "output_type": "stream",
     "text": [
      "cpu 1.8.0+cpu\n"
     ]
    }
   ],
   "source": [
    "# hava a look version\n",
    "import torch\n",
    "# import tensorflow as tf\n",
    "# torch.__version__,tf.__version__\n",
    "device = torch.device('cuda' if torch.cuda.is_available() else 'cpu')#torch.device('cpu')#\n",
    "print(device,torch.__version__)\n",
    "# print(device,torch.__version__,tf.__version__)"
   ]
  },
  {
   "cell_type": "markdown",
   "metadata": {},
   "source": [
    "# intent0模型训练"
   ]
  },
  {
   "cell_type": "code",
   "execution_count": 3,
   "metadata": {
    "ExecuteTime": {
     "end_time": "2022-07-03T03:05:29.094570Z",
     "start_time": "2022-07-03T03:05:27.745810Z"
    }
   },
   "outputs": [
    {
     "name": "stderr",
     "output_type": "stream",
     "text": [
      "D:\\Anaconda3-5.3\\lib\\site-packages\\ipykernel_launcher.py:107: VisibleDeprecationWarning: Creating an ndarray from ragged nested sequences (which is a list-or-tuple of lists-or-tuples-or ndarrays with different lengths or shapes) is deprecated. If you meant to do this, you must specify 'dtype=object' when creating the ndarray\n",
      "532it [00:00, 512605.04it/s]\n",
      "D:\\Anaconda3-5.3\\lib\\site-packages\\ipykernel_launcher.py:63: VisibleDeprecationWarning: Creating an ndarray from ragged nested sequences (which is a list-or-tuple of lists-or-tuples-or ndarrays with different lengths or shapes) is deprecated. If you meant to do this, you must specify 'dtype=object' when creating the ndarray\n",
      "  0%|                                                                                          | 0/532 [00:00<?, ?it/s]"
     ]
    },
    {
     "data": {
      "text/plain": [
       "(torch.Size([100, 15, 300]), 9)"
      ]
     },
     "execution_count": 3,
     "metadata": {},
     "output_type": "execute_result"
    }
   ],
   "source": [
    "import os\n",
    "import time\n",
    "import gensim\n",
    "import random\n",
    "import numpy as np\n",
    "import pickle as pk\n",
    "import pandas as pd\n",
    "from tqdm import tqdm\n",
    "from operator import itemgetter\n",
    "from collections import defaultdict\n",
    "# from sklearn.cross_validation import train_test_split\n",
    "# import sklearn.model_selection\n",
    "\n",
    "\n",
    "# 准备好模型的参数\n",
    "parameter = {\n",
    "    'min_count_word':1,\n",
    "    'char2ind':None,\n",
    "    'ind2char':None,\n",
    "    'ind2embeding':None,\n",
    "    'output_size': None,\n",
    "    'epoch':300,\n",
    "    'batch_size':100,\n",
    "    'embedding_dim':300,\n",
    "    'hidden_size':128,\n",
    "    'num_layers':2, #堆叠LSTM的层数，默认值为1\n",
    "    'dropout':0.5,\n",
    "    'cuda':device,\n",
    "    'lr':0.001,\n",
    "    'num_unknow':0\n",
    "}\n",
    "\n",
    "def build_dataSet(data,parameter):\n",
    "    # 构建训练集（chars，labels），构建词汇表（char2ind，ind2char）\n",
    "    chars = []\n",
    "    labels = []\n",
    "    vocab = defaultdict(int)\n",
    "    vocab['<pad>'] = parameter['min_count_word']\n",
    "    for text,label in tqdm(zip(data.text,data.label)):\n",
    "        chars.append(text)\n",
    "        labels.append(label)\n",
    "        for char in chars[-1]:\n",
    "            vocab[char] += 1\n",
    "    vocab['<unk>'] = parameter['min_count_word']\n",
    "    for char in vocab:\n",
    "        if vocab[char] < parameter['min_count_word']:\n",
    "            del vocab[char]\n",
    "    char2ind,ind2char = dict(zip(vocab.keys(),range(len(vocab)))), \\\n",
    "    dict(zip(range(len(vocab)),vocab.keys()))\n",
    "    ind2embeding = np.random.randn(len(vocab), parameter['embedding_dim']).astype(np.float32) / np.sqrt(len(vocab))\n",
    "    # 加载词向量\n",
    "    w2v = gensim.models.Word2Vec.load('data/wiki.Mode')\n",
    "    for ind,i in enumerate(char2ind.keys()):\n",
    "        try:\n",
    "            embedding = np.asarray(w2v.wv[i], dtype='float32')\n",
    "            ind2embeding[ind] = embedding\n",
    "        except:\n",
    "            parameter['num_unknow'] += 1\n",
    "    parameter['ind2char'] = ind2char\n",
    "    parameter['char2ind'] = char2ind\n",
    "    parameter['ind2embeding'] = ind2embeding\n",
    "    parameter['output_size'] = len(set(labels))\n",
    "    return np.array(chars),np.array(labels)\n",
    "\n",
    "def batch_yield(chars,labels,parameter,shuffle = True):\n",
    "    for train_epoch in range(parameter['epoch']):\n",
    "        if shuffle:\n",
    "            permutation = np.random.permutation(len(chars))\n",
    "            chars = chars[permutation]\n",
    "            labels = labels[permutation]\n",
    "        max_len = 0\n",
    "        batch_x,batch_y = [],[]\n",
    "        for iters in tqdm(range(len(chars))):\n",
    "            batch_ids = itemgetter(*chars[iters])(parameter['char2ind'])\n",
    "            try:\n",
    "                batch_ids = list(batch_ids)\n",
    "            except:\n",
    "                batch_ids = [batch_ids,0]\n",
    "            if len(batch_ids) > max_len:\n",
    "                max_len = len(batch_ids)\n",
    "            batch_x.append(batch_ids)\n",
    "            batch_y.append(labels[iters])\n",
    "            if len(batch_x) >= parameter['batch_size']:\n",
    "                batch_x = [np.array(list(itemgetter(*x_ids)(parameter['ind2embeding']))+[parameter['ind2embeding'][0]]*(max_len-len(x_ids))) for x_ids in batch_x]\n",
    "                device = parameter['cuda']\n",
    "                yield torch.from_numpy(np.array(batch_x)).to(device),torch.from_numpy(np.array(batch_y)).to(device).long(),True,None\n",
    "                max_len,batch_x,batch_y = 0,[],[]\n",
    "        batch_x = [np.array(list(itemgetter(*x_ids)(parameter['ind2embeding']))+[parameter['ind2embeding'][0]]*(max_len-len(x_ids))) for x_ids in batch_x]\n",
    "        device = parameter['cuda']\n",
    "        yield torch.from_numpy(np.array(batch_x)).to(device),torch.from_numpy(np.array(batch_y)).to(device).long(),True,train_epoch\n",
    "        max_len,batch_x,batch_y = 0,[],[]\n",
    "    yield None,None,False,None\n",
    "    \n",
    "def batch_yield_predict(chars,parameter):\n",
    "    batch_x,batch_y = [],[]\n",
    "    for iters in range(len(chars)):\n",
    "        if chars[iters] in parameter['char2ind']:\n",
    "            batch_x.append(parameter['ind2embeding'][parameter['char2ind'][chars[iters]]])\n",
    "        else:\n",
    "            batch_x.append(parameter['ind2embeding'][parameter['char2ind']['<unk>']])\n",
    "    batch_x = [batch_x]\n",
    "    device = parameter['cuda']\n",
    "    return torch.from_numpy(np.array(batch_x)).to(device)#,torch.from_numpy(np.array(batch_y)).to(device).long()\n",
    "\n",
    "\n",
    "[x_intent,y_intent] = pk.load(open('data/data-intent0.pkl','rb'))\n",
    "data = pd.DataFrame(np.array([x_intent,y_intent]).transpose())\n",
    "data.columns = ['text','label']\n",
    "train_chars,train_labels = build_dataSet(data,parameter)\n",
    "\n",
    "train_yield = batch_yield(train_chars,train_labels,parameter)\n",
    "seqs,label,keys,epoch = next(train_yield)\n",
    "seqs,labels,_,_ = next(train_yield)\n",
    "parameter['model_path'] = 'model/intent0/'\n",
    "os.mkdir(parameter['model_path']) if not os.path.exists(parameter['model_path']) else 1\n",
    "\n",
    "pk.dump(parameter,open(parameter['model_path']+'parameter.pkl','wb'))\n",
    "seqs.shape,parameter['num_unknow']"
   ]
  },
  {
   "cell_type": "code",
   "execution_count": 4,
   "metadata": {
    "ExecuteTime": {
     "end_time": "2022-07-03T03:05:29.299333Z",
     "start_time": "2022-07-03T03:05:29.284336Z"
    }
   },
   "outputs": [
    {
     "data": {
      "text/plain": [
       "(3, 'model/intent0/')"
      ]
     },
     "execution_count": 4,
     "metadata": {},
     "output_type": "execute_result"
    }
   ],
   "source": [
    "# 校验一下\n",
    "parameter['ind2char'] \n",
    "parameter['char2ind'] \n",
    "parameter['ind2embeding'].shape\n",
    "parameter['output_size'],parameter['model_path']"
   ]
  },
  {
   "cell_type": "code",
   "execution_count": 5,
   "metadata": {
    "ExecuteTime": {
     "end_time": "2022-07-03T03:05:31.319726Z",
     "start_time": "2022-07-03T03:05:31.303726Z"
    }
   },
   "outputs": [],
   "source": [
    "import torch.nn.functional as F # pytorch 激活函数的类\n",
    "from torch import nn,optim # 构建模型和优化器\n",
    "\n",
    "# 构建分类模型\n",
    "class TextRNN(nn.Module):\n",
    "    def __init__(self, parameter):\n",
    "        super(TextRNN, self).__init__()\n",
    "        embedding_dim = parameter['embedding_dim']\n",
    "        hidden_size = parameter['hidden_size']\n",
    "        output_size = parameter['output_size']\n",
    "        num_layers = parameter['num_layers']\n",
    "        dropout = parameter['dropout']\n",
    "        self.lstm = nn.LSTM(embedding_dim, hidden_size, num_layers, bidirectional=True, batch_first=True, dropout=dropout)\n",
    "        self.fc = nn.Linear(hidden_size*2, output_size)\n",
    "        \n",
    "    def forward(self, x):\n",
    "        out,(h, c)= self.lstm(x)\n",
    "        out = self.fc(out[:, -1, :])\n",
    "        return out"
   ]
  },
  {
   "cell_type": "code",
   "execution_count": null,
   "metadata": {
    "ExecuteTime": {
     "start_time": "2022-07-03T03:05:32.915Z"
    }
   },
   "outputs": [
    {
     "name": "stderr",
     "output_type": "stream",
     "text": [
      " 37%|█████████████████████████████▉                                                  | 199/532 [00:03<00:06, 50.05it/s]\n",
      " 19%|██████████████▉                                                                 | 99/532 [00:00<00:01, 333.33it/s]\n",
      "100%|██████████████████████████████████████████████████████████████████████████████| 532/532 [00:00<00:00, 1033.01it/s]\n",
      " 38%|█████████████████████████████▎                                                | 200/532 [00:00<00:00, 1015.21it/s]"
     ]
    },
    {
     "name": "stdout",
     "output_type": "stream",
     "text": [
      "epoch [1/300], Loss: 1.0795\n"
     ]
    },
    {
     "name": "stderr",
     "output_type": "stream",
     "text": [
      "100%|██████████████████████████████████████████████████████████████████████████████| 532/532 [00:00<00:00, 1023.07it/s]\n",
      " 19%|██████████████▊                                                                | 100/532 [00:00<00:00, 892.86it/s]"
     ]
    },
    {
     "name": "stdout",
     "output_type": "stream",
     "text": [
      "epoch [2/300], Loss: 1.0355\n"
     ]
    },
    {
     "name": "stderr",
     "output_type": "stream",
     "text": [
      "100%|██████████████████████████████████████████████████████████████████████████████| 532/532 [00:00<00:00, 1031.01it/s]\n",
      " 19%|██████████████▊                                                                | 100/532 [00:00<00:00, 980.04it/s]"
     ]
    },
    {
     "name": "stdout",
     "output_type": "stream",
     "text": [
      "epoch [3/300], Loss: 1.0152\n"
     ]
    },
    {
     "name": "stderr",
     "output_type": "stream",
     "text": [
      "100%|██████████████████████████████████████████████████████████████████████████████| 532/532 [00:00<00:00, 1011.41it/s]\n",
      " 19%|██████████████▊                                                                | 100/532 [00:00<00:00, 934.29it/s]"
     ]
    },
    {
     "name": "stdout",
     "output_type": "stream",
     "text": [
      "epoch [4/300], Loss: 0.9052\n"
     ]
    },
    {
     "name": "stderr",
     "output_type": "stream",
     "text": [
      "100%|██████████████████████████████████████████████████████████████████████████████| 532/532 [00:00<00:00, 1070.42it/s]\n",
      " 38%|█████████████████████████████▎                                                | 200/532 [00:00<00:00, 1063.85it/s]"
     ]
    },
    {
     "name": "stdout",
     "output_type": "stream",
     "text": [
      "epoch [5/300], Loss: 0.6536\n"
     ]
    },
    {
     "name": "stderr",
     "output_type": "stream",
     "text": [
      "100%|██████████████████████████████████████████████████████████████████████████████| 532/532 [00:00<00:00, 1037.04it/s]\n",
      " 19%|██████████████▊                                                                | 100/532 [00:00<00:00, 961.25it/s]"
     ]
    },
    {
     "name": "stdout",
     "output_type": "stream",
     "text": [
      "epoch [6/300], Loss: 0.4947\n"
     ]
    },
    {
     "name": "stderr",
     "output_type": "stream",
     "text": [
      "100%|██████████████████████████████████████████████████████████████████████████████| 532/532 [00:00<00:00, 1045.19it/s]\n",
      " 38%|█████████████████████████████▎                                                | 200/532 [00:00<00:00, 1058.01it/s]"
     ]
    },
    {
     "name": "stdout",
     "output_type": "stream",
     "text": [
      "epoch [7/300], Loss: 0.5538\n"
     ]
    },
    {
     "name": "stderr",
     "output_type": "stream",
     "text": [
      "100%|██████████████████████████████████████████████████████████████████████████████| 532/532 [00:00<00:00, 1094.65it/s]\n",
      " 38%|█████████████████████████████▎                                                | 200/532 [00:00<00:00, 1092.89it/s]"
     ]
    },
    {
     "name": "stdout",
     "output_type": "stream",
     "text": [
      "epoch [8/300], Loss: 0.4447\n"
     ]
    },
    {
     "name": "stderr",
     "output_type": "stream",
     "text": [
      "100%|██████████████████████████████████████████████████████████████████████████████| 532/532 [00:00<00:00, 1106.03it/s]\n",
      " 38%|█████████████████████████████▋                                                 | 200/532 [00:00<00:00, 995.02it/s]"
     ]
    },
    {
     "name": "stdout",
     "output_type": "stream",
     "text": [
      "epoch [9/300], Loss: 0.4193\n"
     ]
    },
    {
     "name": "stderr",
     "output_type": "stream",
     "text": [
      "100%|██████████████████████████████████████████████████████████████████████████████| 532/532 [00:00<00:00, 1000.00it/s]\n",
      " 19%|██████████████▊                                                                | 100/532 [00:00<00:00, 892.85it/s]"
     ]
    },
    {
     "name": "stdout",
     "output_type": "stream",
     "text": [
      "epoch [10/300], Loss: 0.3823\n"
     ]
    },
    {
     "name": "stderr",
     "output_type": "stream",
     "text": [
      "100%|███████████████████████████████████████████████████████████████████████████████| 532/532 [00:00<00:00, 977.94it/s]\n",
      " 19%|██████████████▊                                                                | 100/532 [00:00<00:00, 925.92it/s]"
     ]
    },
    {
     "name": "stdout",
     "output_type": "stream",
     "text": [
      "epoch [11/300], Loss: 0.4230\n"
     ]
    },
    {
     "name": "stderr",
     "output_type": "stream",
     "text": [
      "100%|██████████████████████████████████████████████████████████████████████████████| 532/532 [00:00<00:00, 1076.92it/s]\n",
      " 19%|██████████████▊                                                                | 100/532 [00:00<00:00, 920.34it/s]"
     ]
    },
    {
     "name": "stdout",
     "output_type": "stream",
     "text": [
      "epoch [12/300], Loss: 0.4072\n"
     ]
    },
    {
     "name": "stderr",
     "output_type": "stream",
     "text": [
      "100%|███████████████████████████████████████████████████████████████████████████████| 532/532 [00:00<00:00, 991.25it/s]\n",
      " 19%|██████████████▊                                                                | 100/532 [00:00<00:00, 869.57it/s]"
     ]
    },
    {
     "name": "stdout",
     "output_type": "stream",
     "text": [
      "epoch [13/300], Loss: 0.3826\n"
     ]
    },
    {
     "name": "stderr",
     "output_type": "stream",
     "text": [
      "100%|███████████████████████████████████████████████████████████████████████████████| 532/532 [00:00<00:00, 985.19it/s]\n",
      "  0%|                                                                                          | 0/532 [00:00<?, ?it/s]"
     ]
    },
    {
     "name": "stdout",
     "output_type": "stream",
     "text": [
      "epoch [14/300], Loss: 0.3762\n"
     ]
    },
    {
     "name": "stderr",
     "output_type": "stream",
     "text": [
      "100%|██████████████████████████████████████████████████████████████████████████████| 532/532 [00:00<00:00, 1018.44it/s]\n",
      " 38%|█████████████████████████████▎                                                | 200/532 [00:00<00:00, 1104.98it/s]"
     ]
    },
    {
     "name": "stdout",
     "output_type": "stream",
     "text": [
      "epoch [15/300], Loss: 0.3799\n"
     ]
    },
    {
     "name": "stderr",
     "output_type": "stream",
     "text": [
      "100%|██████████████████████████████████████████████████████████████████████████████| 532/532 [00:00<00:00, 1087.94it/s]\n",
      " 38%|█████████████████████████████▋                                                 | 200/532 [00:00<00:00, 999.83it/s]"
     ]
    },
    {
     "name": "stdout",
     "output_type": "stream",
     "text": [
      "epoch [16/300], Loss: 0.3644\n"
     ]
    },
    {
     "name": "stderr",
     "output_type": "stream",
     "text": [
      "100%|██████████████████████████████████████████████████████████████████████████████| 532/532 [00:00<00:00, 1047.24it/s]\n",
      " 19%|██████████████▊                                                                | 100/532 [00:00<00:00, 819.67it/s]"
     ]
    },
    {
     "name": "stdout",
     "output_type": "stream",
     "text": [
      "epoch [17/300], Loss: 0.3748\n"
     ]
    },
    {
     "name": "stderr",
     "output_type": "stream",
     "text": [
      "100%|███████████████████████████████████████████████████████████████████████████████| 532/532 [00:00<00:00, 963.77it/s]\n",
      " 38%|█████████████████████████████▎                                                | 200/532 [00:00<00:00, 1052.47it/s]"
     ]
    },
    {
     "name": "stdout",
     "output_type": "stream",
     "text": [
      "epoch [18/300], Loss: 0.3819\n"
     ]
    },
    {
     "name": "stderr",
     "output_type": "stream",
     "text": [
      "100%|██████████████████████████████████████████████████████████████████████████████| 532/532 [00:00<00:00, 1066.14it/s]\n",
      " 19%|██████████████▊                                                                | 100/532 [00:00<00:00, 961.55it/s]"
     ]
    },
    {
     "name": "stdout",
     "output_type": "stream",
     "text": [
      "epoch [19/300], Loss: 0.4013\n"
     ]
    },
    {
     "name": "stderr",
     "output_type": "stream",
     "text": [
      "100%|██████████████████████████████████████████████████████████████████████████████| 532/532 [00:00<00:00, 1021.11it/s]\n",
      " 38%|█████████████████████████████▎                                                | 200/532 [00:00<00:00, 1025.62it/s]"
     ]
    },
    {
     "name": "stdout",
     "output_type": "stream",
     "text": [
      "epoch [20/300], Loss: 0.4150\n"
     ]
    },
    {
     "name": "stderr",
     "output_type": "stream",
     "text": [
      "100%|██████████████████████████████████████████████████████████████████████████████| 532/532 [00:00<00:00, 1043.14it/s]\n",
      " 38%|█████████████████████████████▎                                                | 200/532 [00:00<00:00, 1015.22it/s]"
     ]
    },
    {
     "name": "stdout",
     "output_type": "stream",
     "text": [
      "epoch [21/300], Loss: 0.3958\n"
     ]
    },
    {
     "name": "stderr",
     "output_type": "stream",
     "text": [
      "100%|██████████████████████████████████████████████████████████████████████████████| 532/532 [00:00<00:00, 1001.75it/s]\n",
      " 19%|██████████████▊                                                                | 100/532 [00:00<00:00, 917.43it/s]"
     ]
    },
    {
     "name": "stdout",
     "output_type": "stream",
     "text": [
      "epoch [22/300], Loss: 0.3748\n"
     ]
    },
    {
     "name": "stderr",
     "output_type": "stream",
     "text": [
      "100%|██████████████████████████████████████████████████████████████████████████████| 532/532 [00:00<00:00, 1094.65it/s]\n",
      "  0%|                                                                                          | 0/532 [00:00<?, ?it/s]"
     ]
    },
    {
     "name": "stdout",
     "output_type": "stream",
     "text": [
      "epoch [23/300], Loss: 0.3720\n"
     ]
    },
    {
     "name": "stderr",
     "output_type": "stream",
     "text": [
      "100%|██████████████████████████████████████████████████████████████████████████████| 532/532 [00:00<00:00, 1025.05it/s]\n",
      " 38%|█████████████████████████████▎                                                | 200/532 [00:00<00:00, 1015.22it/s]"
     ]
    },
    {
     "name": "stdout",
     "output_type": "stream",
     "text": [
      "epoch [24/300], Loss: 0.3692\n"
     ]
    },
    {
     "name": "stderr",
     "output_type": "stream",
     "text": [
      "100%|██████████████████████████████████████████████████████████████████████████████| 532/532 [00:00<00:00, 1043.07it/s]\n",
      " 38%|█████████████████████████████▎                                                | 200/532 [00:00<00:00, 1086.96it/s]"
     ]
    },
    {
     "name": "stdout",
     "output_type": "stream",
     "text": [
      "epoch [25/300], Loss: 0.3453\n"
     ]
    },
    {
     "name": "stderr",
     "output_type": "stream",
     "text": [
      "100%|██████████████████████████████████████████████████████████████████████████████| 532/532 [00:00<00:00, 1066.07it/s]\n",
      " 19%|██████████████▊                                                                | 100/532 [00:00<00:00, 970.87it/s]"
     ]
    },
    {
     "name": "stdout",
     "output_type": "stream",
     "text": [
      "epoch [26/300], Loss: 0.2785\n"
     ]
    },
    {
     "name": "stderr",
     "output_type": "stream",
     "text": [
      "100%|███████████████████████████████████████████████████████████████████████████████| 532/532 [00:00<00:00, 985.18it/s]\n",
      "  0%|                                                                                          | 0/532 [00:00<?, ?it/s]"
     ]
    },
    {
     "name": "stdout",
     "output_type": "stream",
     "text": [
      "epoch [27/300], Loss: 0.2906\n"
     ]
    },
    {
     "name": "stderr",
     "output_type": "stream",
     "text": [
      "100%|███████████████████████████████████████████████████████████████████████████████| 532/532 [00:00<00:00, 985.12it/s]\n",
      " 19%|██████████████▊                                                                | 100/532 [00:00<00:00, 854.71it/s]"
     ]
    },
    {
     "name": "stdout",
     "output_type": "stream",
     "text": [
      "epoch [28/300], Loss: 0.1883\n"
     ]
    },
    {
     "name": "stderr",
     "output_type": "stream",
     "text": [
      "100%|███████████████████████████████████████████████████████████████████████████████| 532/532 [00:00<00:00, 951.35it/s]\n",
      " 19%|██████████████▊                                                                | 100/532 [00:00<00:00, 826.44it/s]"
     ]
    },
    {
     "name": "stdout",
     "output_type": "stream",
     "text": [
      "epoch [29/300], Loss: 0.1325\n"
     ]
    },
    {
     "name": "stderr",
     "output_type": "stream",
     "text": [
      "100%|███████████████████████████████████████████████████████████████████████████████| 532/532 [00:00<00:00, 826.08it/s]\n",
      " 19%|██████████████▊                                                                | 100/532 [00:00<00:00, 925.93it/s]"
     ]
    },
    {
     "name": "stdout",
     "output_type": "stream",
     "text": [
      "epoch [30/300], Loss: 0.1502\n"
     ]
    },
    {
     "name": "stderr",
     "output_type": "stream",
     "text": [
      "100%|███████████████████████████████████████████████████████████████████████████████| 532/532 [00:00<00:00, 974.36it/s]\n",
      " 19%|██████████████▊                                                                | 100/532 [00:00<00:00, 840.35it/s]"
     ]
    },
    {
     "name": "stdout",
     "output_type": "stream",
     "text": [
      "epoch [31/300], Loss: 0.0938\n"
     ]
    },
    {
     "name": "stderr",
     "output_type": "stream",
     "text": [
      "100%|███████████████████████████████████████████████████████████████████████████████| 532/532 [00:00<00:00, 990.69it/s]\n",
      " 19%|██████████████▊                                                                | 100/532 [00:00<00:00, 788.66it/s]"
     ]
    },
    {
     "name": "stdout",
     "output_type": "stream",
     "text": [
      "epoch [32/300], Loss: 0.0535\n"
     ]
    },
    {
     "name": "stderr",
     "output_type": "stream",
     "text": [
      "100%|███████████████████████████████████████████████████████████████████████████████| 532/532 [00:00<00:00, 923.94it/s]\n",
      " 19%|██████████████▊                                                                | 100/532 [00:00<00:00, 877.19it/s]"
     ]
    },
    {
     "name": "stdout",
     "output_type": "stream",
     "text": [
      "epoch [33/300], Loss: 0.0418\n"
     ]
    },
    {
     "name": "stderr",
     "output_type": "stream",
     "text": [
      "100%|███████████████████████████████████████████████████████████████████████████████| 532/532 [00:00<00:00, 897.13it/s]\n",
      " 19%|██████████████▊                                                                | 100/532 [00:00<00:00, 840.32it/s]"
     ]
    },
    {
     "name": "stdout",
     "output_type": "stream",
     "text": [
      "epoch [34/300], Loss: 0.0331\n"
     ]
    },
    {
     "name": "stderr",
     "output_type": "stream",
     "text": [
      "100%|███████████████████████████████████████████████████████████████████████████████| 532/532 [00:00<00:00, 894.21it/s]\n",
      " 38%|█████████████████████████████▎                                                | 200/532 [00:00<00:00, 1015.23it/s]"
     ]
    },
    {
     "name": "stdout",
     "output_type": "stream",
     "text": [
      "epoch [35/300], Loss: 0.0219\n"
     ]
    },
    {
     "name": "stderr",
     "output_type": "stream",
     "text": [
      "100%|██████████████████████████████████████████████████████████████████████████████| 532/532 [00:00<00:00, 1029.02it/s]\n",
      " 38%|█████████████████████████████▎                                                | 200/532 [00:00<00:00, 1052.41it/s]"
     ]
    },
    {
     "name": "stdout",
     "output_type": "stream",
     "text": [
      "epoch [36/300], Loss: 0.0191\n"
     ]
    },
    {
     "name": "stderr",
     "output_type": "stream",
     "text": [
      "100%|██████████████████████████████████████████████████████████████████████████████| 532/532 [00:00<00:00, 1059.76it/s]\n",
      " 38%|█████████████████████████████▎                                                | 200/532 [00:00<00:00, 1041.67it/s]"
     ]
    },
    {
     "name": "stdout",
     "output_type": "stream",
     "text": [
      "epoch [37/300], Loss: 0.0291\n"
     ]
    },
    {
     "name": "stderr",
     "output_type": "stream",
     "text": [
      "100%|██████████████████████████████████████████████████████████████████████████████| 532/532 [00:00<00:00, 1061.88it/s]\n",
      " 19%|██████████████▊                                                                | 100/532 [00:00<00:00, 869.56it/s]"
     ]
    },
    {
     "name": "stdout",
     "output_type": "stream",
     "text": [
      "epoch [38/300], Loss: 0.0291\n"
     ]
    },
    {
     "name": "stderr",
     "output_type": "stream",
     "text": [
      "100%|██████████████████████████████████████████████████████████████████████████████| 532/532 [00:00<00:00, 1000.00it/s]\n",
      " 38%|█████████████████████████████▎                                                | 200/532 [00:00<00:00, 1031.00it/s]"
     ]
    },
    {
     "name": "stdout",
     "output_type": "stream",
     "text": [
      "epoch [39/300], Loss: 0.0085\n"
     ]
    },
    {
     "name": "stderr",
     "output_type": "stream",
     "text": [
      "100%|██████████████████████████████████████████████████████████████████████████████| 532/532 [00:00<00:00, 1035.04it/s]\n",
      "  0%|                                                                                          | 0/532 [00:00<?, ?it/s]"
     ]
    },
    {
     "name": "stdout",
     "output_type": "stream",
     "text": [
      "epoch [40/300], Loss: 0.0034\n"
     ]
    },
    {
     "name": "stderr",
     "output_type": "stream",
     "text": [
      "100%|██████████████████████████████████████████████████████████████████████████████| 532/532 [00:00<00:00, 1061.88it/s]\n",
      " 19%|██████████████▊                                                                | 100/532 [00:00<00:00, 934.58it/s]"
     ]
    },
    {
     "name": "stdout",
     "output_type": "stream",
     "text": [
      "epoch [41/300], Loss: 0.0120\n"
     ]
    },
    {
     "name": "stderr",
     "output_type": "stream",
     "text": [
      "100%|███████████████████████████████████████████████████████████████████████████████| 532/532 [00:00<00:00, 983.36it/s]\n",
      " 19%|██████████████▊                                                                | 100/532 [00:00<00:00, 989.70it/s]"
     ]
    },
    {
     "name": "stdout",
     "output_type": "stream",
     "text": [
      "epoch [42/300], Loss: 0.0197\n"
     ]
    },
    {
     "name": "stderr",
     "output_type": "stream",
     "text": [
      "100%|██████████████████████████████████████████████████████████████████████████████| 532/532 [00:00<00:00, 1023.08it/s]\n",
      "  0%|                                                                                          | 0/532 [00:00<?, ?it/s]"
     ]
    },
    {
     "name": "stdout",
     "output_type": "stream",
     "text": [
      "epoch [43/300], Loss: 0.0429\n"
     ]
    },
    {
     "name": "stderr",
     "output_type": "stream",
     "text": [
      "100%|██████████████████████████████████████████████████████████████████████████████| 532/532 [00:00<00:00, 1033.01it/s]\n",
      "  0%|                                                                                          | 0/532 [00:00<?, ?it/s]"
     ]
    },
    {
     "name": "stdout",
     "output_type": "stream",
     "text": [
      "epoch [44/300], Loss: 0.0430\n"
     ]
    },
    {
     "name": "stderr",
     "output_type": "stream",
     "text": [
      "100%|██████████████████████████████████████████████████████████████████████████████| 532/532 [00:00<00:00, 1061.87it/s]\n",
      " 19%|██████████████▊                                                                | 100/532 [00:00<00:00, 925.92it/s]"
     ]
    },
    {
     "name": "stdout",
     "output_type": "stream",
     "text": [
      "epoch [45/300], Loss: 0.0438\n"
     ]
    },
    {
     "name": "stderr",
     "output_type": "stream",
     "text": [
      "100%|██████████████████████████████████████████████████████████████████████████████| 532/532 [00:00<00:00, 1013.33it/s]\n",
      " 38%|█████████████████████████████▎                                                | 200/532 [00:00<00:00, 1075.06it/s]"
     ]
    },
    {
     "name": "stdout",
     "output_type": "stream",
     "text": [
      "epoch [46/300], Loss: 0.0346\n"
     ]
    },
    {
     "name": "stderr",
     "output_type": "stream",
     "text": [
      "100%|██████████████████████████████████████████████████████████████████████████████| 532/532 [00:00<00:00, 1063.99it/s]\n",
      "  0%|                                                                                          | 0/532 [00:00<?, ?it/s]"
     ]
    },
    {
     "name": "stdout",
     "output_type": "stream",
     "text": [
      "epoch [47/300], Loss: 0.0280\n"
     ]
    },
    {
     "name": "stderr",
     "output_type": "stream",
     "text": [
      "100%|██████████████████████████████████████████████████████████████████████████████| 532/532 [00:00<00:00, 1026.95it/s]\n",
      " 19%|██████████████▊                                                                | 100/532 [00:00<00:00, 909.09it/s]"
     ]
    },
    {
     "name": "stdout",
     "output_type": "stream",
     "text": [
      "epoch [48/300], Loss: 0.0041\n"
     ]
    },
    {
     "name": "stderr",
     "output_type": "stream",
     "text": [
      "100%|██████████████████████████████████████████████████████████████████████████████| 532/532 [00:00<00:00, 1074.66it/s]\n",
      " 38%|█████████████████████████████▎                                                | 200/532 [00:00<00:00, 1010.14it/s]"
     ]
    },
    {
     "name": "stdout",
     "output_type": "stream",
     "text": [
      "epoch [49/300], Loss: 0.0039\n"
     ]
    },
    {
     "name": "stderr",
     "output_type": "stream",
     "text": [
      "100%|██████████████████████████████████████████████████████████████████████████████| 532/532 [00:00<00:00, 1039.08it/s]\n",
      " 38%|█████████████████████████████▎                                                | 200/532 [00:00<00:00, 1052.41it/s]"
     ]
    },
    {
     "name": "stdout",
     "output_type": "stream",
     "text": [
      "epoch [50/300], Loss: 0.0073\n"
     ]
    },
    {
     "name": "stderr",
     "output_type": "stream",
     "text": [
      "100%|██████████████████████████████████████████████████████████████████████████████| 532/532 [00:00<00:00, 1047.24it/s]\n",
      " 38%|█████████████████████████████▋                                                 | 200/532 [00:00<00:00, 963.17it/s]"
     ]
    },
    {
     "name": "stdout",
     "output_type": "stream",
     "text": [
      "epoch [51/300], Loss: 0.0099\n"
     ]
    },
    {
     "name": "stderr",
     "output_type": "stream",
     "text": [
      "100%|██████████████████████████████████████████████████████████████████████████████| 532/532 [00:00<00:00, 1070.42it/s]\n",
      " 19%|██████████████▊                                                                | 100/532 [00:00<00:00, 909.07it/s]"
     ]
    },
    {
     "name": "stdout",
     "output_type": "stream",
     "text": [
      "epoch [52/300], Loss: 0.0031\n"
     ]
    },
    {
     "name": "stderr",
     "output_type": "stream",
     "text": [
      "100%|███████████████████████████████████████████████████████████████████████████████| 532/532 [00:00<00:00, 976.14it/s]\n",
      "  0%|                                                                                          | 0/532 [00:00<?, ?it/s]"
     ]
    },
    {
     "name": "stdout",
     "output_type": "stream",
     "text": [
      "epoch [53/300], Loss: 0.0009\n"
     ]
    },
    {
     "name": "stderr",
     "output_type": "stream",
     "text": [
      "100%|██████████████████████████████████████████████████████████████████████████████| 532/532 [00:00<00:00, 1017.21it/s]\n",
      " 19%|██████████████▊                                                                | 100/532 [00:00<00:00, 876.93it/s]"
     ]
    },
    {
     "name": "stdout",
     "output_type": "stream",
     "text": [
      "epoch [54/300], Loss: 0.0006\n"
     ]
    },
    {
     "name": "stderr",
     "output_type": "stream",
     "text": [
      "100%|███████████████████████████████████████████████████████████████████████████████| 532/532 [00:00<00:00, 994.32it/s]\n",
      "  0%|                                                                                          | 0/532 [00:00<?, ?it/s]"
     ]
    },
    {
     "name": "stdout",
     "output_type": "stream",
     "text": [
      "epoch [55/300], Loss: 0.0003\n"
     ]
    },
    {
     "name": "stderr",
     "output_type": "stream",
     "text": [
      "100%|██████████████████████████████████████████████████████████████████████████████| 532/532 [00:00<00:00, 1064.01it/s]\n",
      "  0%|                                                                                          | 0/532 [00:00<?, ?it/s]"
     ]
    },
    {
     "name": "stdout",
     "output_type": "stream",
     "text": [
      "epoch [56/300], Loss: 0.0020\n"
     ]
    },
    {
     "name": "stderr",
     "output_type": "stream",
     "text": [
      "100%|███████████████████████████████████████████████████████████████████████████████| 532/532 [00:00<00:00, 983.36it/s]\n",
      " 19%|██████████████▊                                                                | 100/532 [00:00<00:00, 862.06it/s]"
     ]
    },
    {
     "name": "stdout",
     "output_type": "stream",
     "text": [
      "epoch [57/300], Loss: 0.0004\n"
     ]
    },
    {
     "name": "stderr",
     "output_type": "stream",
     "text": [
      "100%|███████████████████████████████████████████████████████████████████████████████| 532/532 [00:00<00:00, 992.53it/s]\n",
      "  0%|                                                                                          | 0/532 [00:00<?, ?it/s]"
     ]
    },
    {
     "name": "stdout",
     "output_type": "stream",
     "text": [
      "epoch [58/300], Loss: 0.0085\n"
     ]
    },
    {
     "name": "stderr",
     "output_type": "stream",
     "text": [
      "100%|███████████████████████████████████████████████████████████████████████████████| 532/532 [00:00<00:00, 970.87it/s]\n",
      " 19%|██████████████▊                                                                | 100/532 [00:00<00:00, 671.13it/s]"
     ]
    },
    {
     "name": "stdout",
     "output_type": "stream",
     "text": [
      "epoch [59/300], Loss: 0.0001\n"
     ]
    },
    {
     "name": "stderr",
     "output_type": "stream",
     "text": [
      "100%|███████████████████████████████████████████████████████████████████████████████| 532/532 [00:00<00:00, 804.84it/s]\n",
      " 19%|██████████████▊                                                                | 100/532 [00:00<00:00, 952.36it/s]"
     ]
    },
    {
     "name": "stdout",
     "output_type": "stream",
     "text": [
      "epoch [60/300], Loss: 0.0101\n"
     ]
    },
    {
     "name": "stderr",
     "output_type": "stream",
     "text": [
      "100%|███████████████████████████████████████████████████████████████████████████████| 532/532 [00:00<00:00, 872.54it/s]\n",
      " 19%|██████████████▊                                                                | 100/532 [00:00<00:00, 934.58it/s]"
     ]
    },
    {
     "name": "stdout",
     "output_type": "stream",
     "text": [
      "epoch [61/300], Loss: 0.0003\n"
     ]
    },
    {
     "name": "stderr",
     "output_type": "stream",
     "text": [
      "100%|███████████████████████████████████████████████████████████████████████████████| 532/532 [00:00<00:00, 953.41it/s]"
     ]
    }
   ],
   "source": [
    "import os\n",
    "import shutil\n",
    "import pickle as pk\n",
    "from torch.utils.tensorboard import SummaryWriter\n",
    "\n",
    "# 记录日志\n",
    "shutil.rmtree('textrnn') if os.path.exists('textrnn') else 1\n",
    "writer = SummaryWriter('./textrnn', comment='textrnn')\n",
    "\n",
    "# 构建模型\n",
    "model = TextRNN(parameter).to(parameter['cuda'])\n",
    "\n",
    "# 确定训练模式\n",
    "model.train()\n",
    "\n",
    "# 确定优化器和损失\n",
    "optimizer = torch.optim.SGD(model.parameters(),lr=0.1, momentum=0.95, nesterov=True)\n",
    "# optimizer = torch.optim.Adam(model.parameters(),lr = parameter['lr'], \\\n",
    "#                              weight_decay = 0.01)\n",
    "criterion = nn.CrossEntropyLoss()\n",
    "\n",
    "# 保存图\n",
    "train_yield = batch_yield(train_chars,train_labels,parameter)\n",
    "seqs,label,keys,epoch = next(train_yield)\n",
    "writer.add_graph(model, (seqs,))\n",
    "\n",
    "# 准备迭代器\n",
    "train_yield = batch_yield(train_chars,train_labels,parameter)\n",
    "\n",
    "\n",
    "# 开始训练\n",
    "loss_cal = []\n",
    "min_loss = float('inf')\n",
    "with writer:\n",
    "    while 1:\n",
    "        seqs,label,keys,epoch = next(train_yield)\n",
    "        if not keys:\n",
    "            break\n",
    "        out = model(seqs)\n",
    "        loss = criterion(out, label)\n",
    "        optimizer.zero_grad()\n",
    "        loss.backward()\n",
    "        optimizer.step()\n",
    "        loss_cal.append(loss.item())\n",
    "        if epoch is not None:\n",
    "            if (epoch+1)%1 == 0:\n",
    "                loss_cal = sum(loss_cal)/len(loss_cal)\n",
    "                if loss_cal < min_loss:\n",
    "                    min_loss = loss_cal\n",
    "                    torch.save(model.state_dict(), parameter['model_path']+'model-rnn.h5')\n",
    "                print('epoch [{}/{}], Loss: {:.4f}'.format(epoch+1, \\\n",
    "                                                       parameter['epoch'],loss_cal))\n",
    "            writer.add_scalar('loss',loss_cal,global_step=epoch+1)\n",
    "            loss_cal = [loss.item()]\n",
    "    writer.flush()\n",
    "    writer.close()\n",
    "    \n",
    "# torch.save(model.state_dict(), 'model-rnn.h5')"
   ]
  },
  {
   "cell_type": "code",
   "execution_count": null,
   "metadata": {},
   "outputs": [],
   "source": []
  },
  {
   "cell_type": "markdown",
   "metadata": {},
   "source": [
    "# intent1模型训练（建议重启下进程）"
   ]
  },
  {
   "cell_type": "code",
   "execution_count": 1,
   "metadata": {
    "ExecuteTime": {
     "end_time": "2022-07-03T03:02:29.788793Z",
     "start_time": "2022-07-03T03:02:29.292783Z"
    }
   },
   "outputs": [
    {
     "name": "stdout",
     "output_type": "stream",
     "text": [
      "cpu 1.8.0+cpu\n"
     ]
    }
   ],
   "source": [
    "# hava a look version\n",
    "import torch\n",
    "# import tensorflow as tf\n",
    "# torch.__version__,tf.__version__\n",
    "device = torch.device('cuda' if torch.cuda.is_available() else 'cpu')#torch.device('cpu')#\n",
    "print(device,torch.__version__)\n",
    "# print(device,torch.__version__,tf.__version__)"
   ]
  },
  {
   "cell_type": "code",
   "execution_count": 3,
   "metadata": {
    "ExecuteTime": {
     "end_time": "2022-07-03T03:02:36.374449Z",
     "start_time": "2022-07-03T03:02:35.947450Z"
    }
   },
   "outputs": [
    {
     "name": "stderr",
     "output_type": "stream",
     "text": [
      "D:\\Anaconda3-5.3\\lib\\site-packages\\ipykernel_launcher.py:103: VisibleDeprecationWarning: Creating an ndarray from ragged nested sequences (which is a list-or-tuple of lists-or-tuples-or ndarrays with different lengths or shapes) is deprecated. If you meant to do this, you must specify 'dtype=object' when creating the ndarray\n",
      "203it [00:00, ?it/s]\n",
      "D:\\Anaconda3-5.3\\lib\\site-packages\\ipykernel_launcher.py:60: VisibleDeprecationWarning: Creating an ndarray from ragged nested sequences (which is a list-or-tuple of lists-or-tuples-or ndarrays with different lengths or shapes) is deprecated. If you meant to do this, you must specify 'dtype=object' when creating the ndarray\n",
      "  0%|                                                                                          | 0/203 [00:00<?, ?it/s]"
     ]
    },
    {
     "data": {
      "text/plain": [
       "(torch.Size([100, 16, 300]), 9)"
      ]
     },
     "execution_count": 3,
     "metadata": {},
     "output_type": "execute_result"
    }
   ],
   "source": [
    "import os\n",
    "import time\n",
    "import gensim\n",
    "import random\n",
    "import numpy as np\n",
    "import pickle as pk\n",
    "import pandas as pd\n",
    "from tqdm import tqdm\n",
    "from operator import itemgetter\n",
    "from collections import defaultdict\n",
    "# from sklearn.cross_validation import train_test_split\n",
    "\n",
    "parameter = {\n",
    "    'min_count_word':1,\n",
    "    'char2ind':None,\n",
    "    'ind2char':None,\n",
    "    'ind2embeding':None,\n",
    "    'output_size': None,\n",
    "    'epoch':500,\n",
    "    'batch_size':100,\n",
    "    'embedding_dim':300,\n",
    "    'hidden_size':128,\n",
    "    'num_layers':2, #堆叠LSTM的层数，默认值为1\n",
    "    'dropout':0.5,\n",
    "    'cuda':device,\n",
    "    'lr':0.001,\n",
    "    'num_unknow':0\n",
    "}\n",
    "\n",
    "def build_dataSet(data,parameter):\n",
    "    # 构建训练集（chars，labels），构建词汇表（char2ind，ind2char）\n",
    "    chars = []\n",
    "    labels = []\n",
    "    vocab = defaultdict(int)\n",
    "    vocab['<pad>'] = parameter['min_count_word']\n",
    "    for text,label in tqdm(zip(data.text,data.label)):\n",
    "        chars.append(text)\n",
    "        labels.append(label)\n",
    "        for char in chars[-1]:\n",
    "            vocab[char] += 1\n",
    "    vocab['<unk>'] = parameter['min_count_word']\n",
    "    for char in vocab:\n",
    "        if vocab[char] < parameter['min_count_word']:\n",
    "            del vocab[char]\n",
    "    char2ind,ind2char = dict(zip(vocab.keys(),range(len(vocab)))), \\\n",
    "    dict(zip(range(len(vocab)),vocab.keys()))\n",
    "    ind2embeding = np.random.randn(len(vocab), parameter['embedding_dim']).astype(np.float32) / np.sqrt(len(vocab))\n",
    "    # 加载词向量\n",
    "    w2v = gensim.models.Word2Vec.load('data/wiki.Mode')\n",
    "    for ind,i in enumerate(char2ind.keys()):\n",
    "        try:\n",
    "            embedding = np.asarray(w2v.wv[i], dtype='float32')\n",
    "            ind2embeding[ind] = embedding\n",
    "        except:\n",
    "            parameter['num_unknow'] += 1\n",
    "    parameter['ind2char'] = ind2char\n",
    "    parameter['char2ind'] = char2ind\n",
    "    parameter['ind2embeding'] = ind2embeding\n",
    "    parameter['output_size'] = len(set(labels))\n",
    "    return np.array(chars),np.array(labels)\n",
    "\n",
    "def batch_yield(chars,labels,parameter,shuffle = True):\n",
    "    for train_epoch in range(parameter['epoch']):\n",
    "        if shuffle:\n",
    "            permutation = np.random.permutation(len(chars))\n",
    "            chars = chars[permutation]\n",
    "            labels = labels[permutation]\n",
    "        max_len = 0\n",
    "        batch_x,batch_y = [],[]\n",
    "        for iters in tqdm(range(len(chars))):\n",
    "            batch_ids = itemgetter(*chars[iters])(parameter['char2ind'])\n",
    "            try:\n",
    "                batch_ids = list(batch_ids)\n",
    "            except:\n",
    "                batch_ids = [batch_ids,0]\n",
    "            if len(batch_ids) > max_len:\n",
    "                max_len = len(batch_ids)\n",
    "            batch_x.append(batch_ids)\n",
    "            batch_y.append(labels[iters])\n",
    "            if len(batch_x) >= parameter['batch_size']:\n",
    "                batch_x = [np.array(list(itemgetter(*x_ids)(parameter['ind2embeding']))+[parameter['ind2embeding'][0]]*(max_len-len(x_ids))) for x_ids in batch_x]\n",
    "                device = parameter['cuda']\n",
    "                yield torch.from_numpy(np.array(batch_x)).to(device),torch.from_numpy(np.array(batch_y)).to(device).long(),True,None\n",
    "                max_len,batch_x,batch_y = 0,[],[]\n",
    "        batch_x = [np.array(list(itemgetter(*x_ids)(parameter['ind2embeding']))+[parameter['ind2embeding'][0]]*(max_len-len(x_ids))) for x_ids in batch_x]\n",
    "        device = parameter['cuda']\n",
    "        yield torch.from_numpy(np.array(batch_x)).to(device),torch.from_numpy(np.array(batch_y)).to(device).long(),True,train_epoch\n",
    "        max_len,batch_x,batch_y = 0,[],[]\n",
    "    yield None,None,False,None\n",
    "    \n",
    "def batch_yield_predict(chars,parameter):\n",
    "    batch_x,batch_y = [],[]\n",
    "    for iters in range(len(chars)):\n",
    "        if chars[iters] in parameter['char2ind']:\n",
    "            batch_x.append(parameter['ind2embeding'][parameter['char2ind'][chars[iters]]])\n",
    "        else:\n",
    "            batch_x.append(parameter['ind2embeding'][parameter['char2ind']['<unk>']])\n",
    "    batch_x = [batch_x]\n",
    "    device = parameter['cuda']\n",
    "    return torch.from_numpy(np.array(batch_x)).to(device)#,torch.from_numpy(np.array(batch_y)).to(device).long()\n",
    "\n",
    "[x_intent,y_intent,x_ner,y_ner] = pk.load(open('data/data-intent1-ner.pkl','rb'))\n",
    "data = pd.DataFrame(np.array([x_intent,y_intent]).transpose())\n",
    "data.columns = ['text','label']\n",
    "train_chars,train_labels = build_dataSet(data,parameter)\n",
    "\n",
    "train_yield = batch_yield(train_chars,train_labels,parameter)\n",
    "seqs,label,keys,epoch = next(train_yield)\n",
    "seqs,labels,_,_ = next(train_yield)\n",
    "parameter['model_path'] = 'model/intent1/'\n",
    "os.mkdir(parameter['model_path']) if not os.path.exists(parameter['model_path']) else 1\n",
    "\n",
    "pk.dump(parameter,open(parameter['model_path']+'parameter.pkl','wb'))\n",
    "seqs.shape,parameter['num_unknow']"
   ]
  },
  {
   "cell_type": "code",
   "execution_count": 4,
   "metadata": {
    "ExecuteTime": {
     "end_time": "2022-07-03T03:02:39.761033Z",
     "start_time": "2022-07-03T03:02:39.752034Z"
    }
   },
   "outputs": [
    {
     "data": {
      "text/plain": [
       "(18, 'model/intent1/')"
      ]
     },
     "execution_count": 4,
     "metadata": {},
     "output_type": "execute_result"
    }
   ],
   "source": [
    "# 校验一下\n",
    "parameter['ind2char'] \n",
    "parameter['char2ind'] \n",
    "parameter['ind2embeding'].shape\n",
    "parameter['output_size'],parameter['model_path']"
   ]
  },
  {
   "cell_type": "code",
   "execution_count": 6,
   "metadata": {
    "ExecuteTime": {
     "end_time": "2022-07-03T03:03:02.982401Z",
     "start_time": "2022-07-03T03:03:02.966400Z"
    }
   },
   "outputs": [],
   "source": [
    "import torch.nn.functional as F # pytorch 激活函数的类\n",
    "from torch import nn,optim # 构建模型和优化器\n",
    "\n",
    "# 构建分类模型\n",
    "class TextRNN(nn.Module):\n",
    "    def __init__(self, parameter):\n",
    "        super(TextRNN, self).__init__()\n",
    "        embedding_dim = parameter['embedding_dim']\n",
    "        hidden_size = parameter['hidden_size']\n",
    "        output_size = parameter['output_size']\n",
    "        num_layers = parameter['num_layers']\n",
    "        dropout = parameter['dropout']\n",
    "        self.lstm = nn.LSTM(embedding_dim, hidden_size, num_layers, bidirectional=True, batch_first=True, dropout=dropout)\n",
    "        self.fc = nn.Linear(hidden_size*2, output_size)\n",
    "        \n",
    "    def forward(self, x):\n",
    "        out,(h, c)= self.lstm(x)\n",
    "        out = self.fc(out[:, -1, :])\n",
    "        return out"
   ]
  },
  {
   "cell_type": "code",
   "execution_count": 7,
   "metadata": {
    "ExecuteTime": {
     "end_time": "2022-07-03T03:05:00.538747Z",
     "start_time": "2022-07-03T03:03:04.355795Z"
    }
   },
   "outputs": [
    {
     "name": "stderr",
     "output_type": "stream",
     "text": [
      " 98%|██████████████████████████████████████████████████████████████████████████████▍ | 199/203 [00:28<00:00,  7.07it/s]\n",
      " 49%|███████████████████████████████████████                                         | 99/203 [00:00<00:00, 302.76it/s]\n",
      "100%|███████████████████████████████████████████████████████████████████████████████| 203/203 [00:00<00:00, 953.05it/s]\n",
      " 49%|██████████████████████████████████████▉                                        | 100/203 [00:00<00:00, 775.17it/s]"
     ]
    },
    {
     "name": "stdout",
     "output_type": "stream",
     "text": [
      "epoch [1/500], Loss: 2.8909\n"
     ]
    },
    {
     "name": "stderr",
     "output_type": "stream",
     "text": [
      "100%|███████████████████████████████████████████████████████████████████████████████| 203/203 [00:00<00:00, 890.34it/s]\n",
      " 49%|██████████████████████████████████████▉                                        | 100/203 [00:00<00:00, 961.52it/s]"
     ]
    },
    {
     "name": "stdout",
     "output_type": "stream",
     "text": [
      "epoch [2/500], Loss: 2.8112\n"
     ]
    },
    {
     "name": "stderr",
     "output_type": "stream",
     "text": [
      "100%|███████████████████████████████████████████████████████████████████████████████| 203/203 [00:00<00:00, 975.80it/s]\n",
      "  0%|                                                                                          | 0/203 [00:00<?, ?it/s]"
     ]
    },
    {
     "name": "stdout",
     "output_type": "stream",
     "text": [
      "epoch [3/500], Loss: 2.7235\n"
     ]
    },
    {
     "name": "stderr",
     "output_type": "stream",
     "text": [
      "100%|███████████████████████████████████████████████████████████████████████████████| 203/203 [00:00<00:00, 976.02it/s]\n",
      "  0%|                                                                                          | 0/203 [00:00<?, ?it/s]"
     ]
    },
    {
     "name": "stdout",
     "output_type": "stream",
     "text": [
      "epoch [4/500], Loss: 2.5291\n"
     ]
    },
    {
     "name": "stderr",
     "output_type": "stream",
     "text": [
      "100%|██████████████████████████████████████████████████████████████████████████████| 203/203 [00:00<00:00, 1046.38it/s]\n",
      " 49%|██████████████████████████████████████▉                                        | 100/203 [00:00<00:00, 980.35it/s]"
     ]
    },
    {
     "name": "stdout",
     "output_type": "stream",
     "text": [
      "epoch [5/500], Loss: 2.5858\n"
     ]
    },
    {
     "name": "stderr",
     "output_type": "stream",
     "text": [
      "100%|██████████████████████████████████████████████████████████████████████████████| 203/203 [00:00<00:00, 1046.38it/s]\n",
      " 49%|██████████████████████████████████████▉                                        | 100/203 [00:00<00:00, 884.95it/s]"
     ]
    },
    {
     "name": "stdout",
     "output_type": "stream",
     "text": [
      "epoch [6/500], Loss: 2.6720\n"
     ]
    },
    {
     "name": "stderr",
     "output_type": "stream",
     "text": [
      "100%|███████████████████████████████████████████████████████████████████████████████| 203/203 [00:00<00:00, 882.61it/s]\n",
      " 99%|█████████████████████████████████████████████████████████████████████████████▊ | 200/203 [00:00<00:00, 969.14it/s]"
     ]
    },
    {
     "name": "stdout",
     "output_type": "stream",
     "text": [
      "epoch [7/500], Loss: 2.3829\n"
     ]
    },
    {
     "name": "stderr",
     "output_type": "stream",
     "text": [
      "100%|███████████████████████████████████████████████████████████████████████████████| 203/203 [00:00<00:00, 980.68it/s]\n",
      " 99%|█████████████████████████████████████████████████████████████████████████████▊ | 200/203 [00:00<00:00, 977.97it/s]"
     ]
    },
    {
     "name": "stdout",
     "output_type": "stream",
     "text": [
      "epoch [8/500], Loss: 2.1831\n"
     ]
    },
    {
     "name": "stderr",
     "output_type": "stream",
     "text": [
      "100%|███████████████████████████████████████████████████████████████████████████████| 203/203 [00:00<00:00, 985.46it/s]\n",
      " 49%|██████████████████████████████████████▉                                        | 100/203 [00:00<00:00, 917.45it/s]"
     ]
    },
    {
     "name": "stdout",
     "output_type": "stream",
     "text": [
      "epoch [9/500], Loss: 2.1499\n"
     ]
    },
    {
     "name": "stderr",
     "output_type": "stream",
     "text": [
      "100%|███████████████████████████████████████████████████████████████████████████████| 203/203 [00:00<00:00, 898.25it/s]\n",
      "  0%|                                                                                          | 0/203 [00:00<?, ?it/s]"
     ]
    },
    {
     "name": "stdout",
     "output_type": "stream",
     "text": [
      "epoch [10/500], Loss: 2.2942\n"
     ]
    },
    {
     "name": "stderr",
     "output_type": "stream",
     "text": [
      "100%|██████████████████████████████████████████████████████████████████████████████| 203/203 [00:00<00:00, 1015.01it/s]\n",
      " 49%|██████████████████████████████████████▉                                        | 100/203 [00:00<00:00, 925.93it/s]"
     ]
    },
    {
     "name": "stdout",
     "output_type": "stream",
     "text": [
      "epoch [11/500], Loss: 1.9054\n"
     ]
    },
    {
     "name": "stderr",
     "output_type": "stream",
     "text": [
      "100%|███████████████████████████████████████████████████████████████████████████████| 203/203 [00:00<00:00, 980.67it/s]\n",
      " 49%|██████████████████████████████████████▉                                        | 100/203 [00:00<00:00, 980.37it/s]"
     ]
    },
    {
     "name": "stdout",
     "output_type": "stream",
     "text": [
      "epoch [12/500], Loss: 1.6598\n"
     ]
    },
    {
     "name": "stderr",
     "output_type": "stream",
     "text": [
      "100%|███████████████████████████████████████████████████████████████████████████████| 203/203 [00:00<00:00, 948.61it/s]\n",
      " 49%|██████████████████████████████████████▉                                        | 100/203 [00:00<00:00, 884.93it/s]"
     ]
    },
    {
     "name": "stdout",
     "output_type": "stream",
     "text": [
      "epoch [13/500], Loss: 1.6945\n"
     ]
    },
    {
     "name": "stderr",
     "output_type": "stream",
     "text": [
      "100%|███████████████████████████████████████████████████████████████████████████████| 203/203 [00:00<00:00, 931.19it/s]\n",
      " 49%|██████████████████████████████████████▉                                        | 100/203 [00:00<00:00, 970.88it/s]"
     ]
    },
    {
     "name": "stdout",
     "output_type": "stream",
     "text": [
      "epoch [14/500], Loss: 1.5821\n"
     ]
    },
    {
     "name": "stderr",
     "output_type": "stream",
     "text": [
      "100%|███████████████████████████████████████████████████████████████████████████████| 203/203 [00:00<00:00, 962.08it/s]\n",
      " 49%|██████████████████████████████████████▉                                        | 100/203 [00:00<00:00, 970.88it/s]"
     ]
    },
    {
     "name": "stdout",
     "output_type": "stream",
     "text": [
      "epoch [15/500], Loss: 1.6004\n"
     ]
    },
    {
     "name": "stderr",
     "output_type": "stream",
     "text": [
      "100%|███████████████████████████████████████████████████████████████████████████████| 203/203 [00:00<00:00, 980.68it/s]\n",
      " 49%|██████████████████████████████████████▉                                        | 100/203 [00:00<00:00, 970.88it/s]"
     ]
    },
    {
     "name": "stdout",
     "output_type": "stream",
     "text": [
      "epoch [16/500], Loss: 2.0092\n"
     ]
    },
    {
     "name": "stderr",
     "output_type": "stream",
     "text": [
      "100%|███████████████████████████████████████████████████████████████████████████████| 203/203 [00:00<00:00, 944.18it/s]\n",
      " 49%|██████████████████████████████████████▉                                        | 100/203 [00:00<00:00, 943.42it/s]"
     ]
    },
    {
     "name": "stdout",
     "output_type": "stream",
     "text": [
      "epoch [17/500], Loss: 2.0413\n"
     ]
    },
    {
     "name": "stderr",
     "output_type": "stream",
     "text": [
      "100%|███████████████████████████████████████████████████████████████████████████████| 203/203 [00:00<00:00, 966.67it/s]\n",
      " 49%|██████████████████████████████████████▉                                        | 100/203 [00:00<00:00, 970.86it/s]"
     ]
    },
    {
     "name": "stdout",
     "output_type": "stream",
     "text": [
      "epoch [18/500], Loss: 1.9196\n"
     ]
    },
    {
     "name": "stderr",
     "output_type": "stream",
     "text": [
      "100%|███████████████████████████████████████████████████████████████████████████████| 203/203 [00:00<00:00, 985.42it/s]\n",
      " 49%|██████████████████████████████████████▉                                        | 100/203 [00:00<00:00, 961.51it/s]"
     ]
    },
    {
     "name": "stdout",
     "output_type": "stream",
     "text": [
      "epoch [19/500], Loss: 2.3515\n"
     ]
    },
    {
     "name": "stderr",
     "output_type": "stream",
     "text": [
      "100%|██████████████████████████████████████████████████████████████████████████████| 203/203 [00:00<00:00, 1009.96it/s]\n",
      " 49%|██████████████████████████████████████▉                                        | 100/203 [00:00<00:00, 980.39it/s]"
     ]
    },
    {
     "name": "stdout",
     "output_type": "stream",
     "text": [
      "epoch [20/500], Loss: 2.5781\n"
     ]
    },
    {
     "name": "stderr",
     "output_type": "stream",
     "text": [
      "100%|███████████████████████████████████████████████████████████████████████████████| 203/203 [00:00<00:00, 990.25it/s]\n",
      " 49%|██████████████████████████████████████▉                                        | 100/203 [00:00<00:00, 952.37it/s]"
     ]
    },
    {
     "name": "stdout",
     "output_type": "stream",
     "text": [
      "epoch [21/500], Loss: 1.6443\n"
     ]
    },
    {
     "name": "stderr",
     "output_type": "stream",
     "text": [
      "100%|███████████████████████████████████████████████████████████████████████████████| 203/203 [00:00<00:00, 926.94it/s]\n",
      " 49%|██████████████████████████████████████▉                                        | 100/203 [00:00<00:00, 869.58it/s]"
     ]
    },
    {
     "name": "stdout",
     "output_type": "stream",
     "text": [
      "epoch [22/500], Loss: 1.3764\n"
     ]
    },
    {
     "name": "stderr",
     "output_type": "stream",
     "text": [
      "100%|███████████████████████████████████████████████████████████████████████████████| 203/203 [00:00<00:00, 890.37it/s]\n",
      "  0%|                                                                                          | 0/203 [00:00<?, ?it/s]"
     ]
    },
    {
     "name": "stdout",
     "output_type": "stream",
     "text": [
      "epoch [23/500], Loss: 1.6593\n"
     ]
    },
    {
     "name": "stderr",
     "output_type": "stream",
     "text": [
      "100%|███████████████████████████████████████████████████████████████████████████████| 203/203 [00:00<00:00, 995.09it/s]\n",
      " 49%|██████████████████████████████████████▉                                        | 100/203 [00:00<00:00, 840.34it/s]"
     ]
    },
    {
     "name": "stdout",
     "output_type": "stream",
     "text": [
      "epoch [24/500], Loss: 1.8101\n"
     ]
    },
    {
     "name": "stderr",
     "output_type": "stream",
     "text": [
      "100%|███████████████████████████████████████████████████████████████████████████████| 203/203 [00:00<00:00, 867.52it/s]\n",
      " 49%|██████████████████████████████████████▉                                        | 100/203 [00:00<00:00, 926.06it/s]"
     ]
    },
    {
     "name": "stdout",
     "output_type": "stream",
     "text": [
      "epoch [25/500], Loss: 1.8235\n"
     ]
    },
    {
     "name": "stderr",
     "output_type": "stream",
     "text": [
      "100%|███████████████████████████████████████████████████████████████████████████████| 203/203 [00:00<00:00, 890.42it/s]\n",
      "  0%|                                                                                          | 0/203 [00:00<?, ?it/s]"
     ]
    },
    {
     "name": "stdout",
     "output_type": "stream",
     "text": [
      "epoch [26/500], Loss: 1.7368\n"
     ]
    },
    {
     "name": "stderr",
     "output_type": "stream",
     "text": [
      "100%|██████████████████████████████████████████████████████████████████████████████| 203/203 [00:00<00:00, 1051.80it/s]\n",
      " 49%|██████████████████████████████████████▉                                        | 100/203 [00:00<00:00, 909.07it/s]"
     ]
    },
    {
     "name": "stdout",
     "output_type": "stream",
     "text": [
      "epoch [27/500], Loss: 1.7543\n"
     ]
    },
    {
     "name": "stderr",
     "output_type": "stream",
     "text": [
      "100%|███████████████████████████████████████████████████████████████████████████████| 203/203 [00:00<00:00, 874.99it/s]\n",
      " 49%|██████████████████████████████████████▉                                        | 100/203 [00:00<00:00, 892.86it/s]"
     ]
    },
    {
     "name": "stdout",
     "output_type": "stream",
     "text": [
      "epoch [28/500], Loss: 1.8053\n"
     ]
    },
    {
     "name": "stderr",
     "output_type": "stream",
     "text": [
      "100%|███████████████████████████████████████████████████████████████████████████████| 203/203 [00:00<00:00, 971.29it/s]\n",
      " 49%|██████████████████████████████████████▉                                        | 100/203 [00:00<00:00, 901.03it/s]"
     ]
    },
    {
     "name": "stdout",
     "output_type": "stream",
     "text": [
      "epoch [29/500], Loss: 1.6508\n"
     ]
    },
    {
     "name": "stderr",
     "output_type": "stream",
     "text": [
      "100%|███████████████████████████████████████████████████████████████████████████████| 203/203 [00:00<00:00, 948.67it/s]\n",
      " 49%|██████████████████████████████████████▉                                        | 100/203 [00:00<00:00, 877.21it/s]"
     ]
    },
    {
     "name": "stdout",
     "output_type": "stream",
     "text": [
      "epoch [30/500], Loss: 1.8499\n"
     ]
    },
    {
     "name": "stderr",
     "output_type": "stream",
     "text": [
      "100%|███████████████████████████████████████████████████████████████████████████████| 203/203 [00:00<00:00, 939.82it/s]\n",
      " 99%|█████████████████████████████████████████████████████████████████████████████▊ | 200/203 [00:00<00:00, 975.61it/s]"
     ]
    },
    {
     "name": "stdout",
     "output_type": "stream",
     "text": [
      "epoch [31/500], Loss: 1.8798\n"
     ]
    },
    {
     "name": "stderr",
     "output_type": "stream",
     "text": [
      "100%|███████████████████████████████████████████████████████████████████████████████| 203/203 [00:00<00:00, 985.44it/s]\n",
      " 49%|██████████████████████████████████████▉                                        | 100/203 [00:00<00:00, 990.08it/s]"
     ]
    },
    {
     "name": "stdout",
     "output_type": "stream",
     "text": [
      "epoch [32/500], Loss: 1.7181\n"
     ]
    },
    {
     "name": "stderr",
     "output_type": "stream",
     "text": [
      "100%|███████████████████████████████████████████████████████████████████████████████| 203/203 [00:00<00:00, 962.09it/s]\n",
      " 49%|██████████████████████████████████████▉                                        | 100/203 [00:00<00:00, 961.52it/s]"
     ]
    },
    {
     "name": "stdout",
     "output_type": "stream",
     "text": [
      "epoch [33/500], Loss: 1.4973\n"
     ]
    },
    {
     "name": "stderr",
     "output_type": "stream",
     "text": [
      "100%|███████████████████████████████████████████████████████████████████████████████| 203/203 [00:00<00:00, 957.54it/s]\n",
      " 49%|██████████████████████████████████████▉                                        | 100/203 [00:00<00:00, 961.53it/s]"
     ]
    },
    {
     "name": "stdout",
     "output_type": "stream",
     "text": [
      "epoch [34/500], Loss: 1.1985\n"
     ]
    },
    {
     "name": "stderr",
     "output_type": "stream",
     "text": [
      "100%|███████████████████████████████████████████████████████████████████████████████| 203/203 [00:00<00:00, 957.56it/s]\n",
      "  0%|                                                                                          | 0/203 [00:00<?, ?it/s]"
     ]
    },
    {
     "name": "stdout",
     "output_type": "stream",
     "text": [
      "epoch [35/500], Loss: 1.1776\n"
     ]
    },
    {
     "name": "stderr",
     "output_type": "stream",
     "text": [
      "100%|██████████████████████████████████████████████████████████████████████████████| 203/203 [00:00<00:00, 1046.39it/s]\n",
      " 49%|██████████████████████████████████████▉                                        | 100/203 [00:00<00:00, 892.88it/s]"
     ]
    },
    {
     "name": "stdout",
     "output_type": "stream",
     "text": [
      "epoch [36/500], Loss: 1.5455\n"
     ]
    },
    {
     "name": "stderr",
     "output_type": "stream",
     "text": [
      "100%|███████████████████████████████████████████████████████████████████████████████| 203/203 [00:00<00:00, 966.67it/s]\n",
      " 49%|██████████████████████████████████████▉                                        | 100/203 [00:00<00:00, 934.56it/s]"
     ]
    },
    {
     "name": "stdout",
     "output_type": "stream",
     "text": [
      "epoch [37/500], Loss: 1.8105\n"
     ]
    },
    {
     "name": "stderr",
     "output_type": "stream",
     "text": [
      "100%|███████████████████████████████████████████████████████████████████████████████| 203/203 [00:00<00:00, 957.54it/s]\n",
      " 49%|██████████████████████████████████████▉                                        | 100/203 [00:00<00:00, 917.40it/s]"
     ]
    },
    {
     "name": "stdout",
     "output_type": "stream",
     "text": [
      "epoch [38/500], Loss: 1.1928\n"
     ]
    },
    {
     "name": "stderr",
     "output_type": "stream",
     "text": [
      "100%|███████████████████████████████████████████████████████████████████████████████| 203/203 [00:00<00:00, 935.47it/s]\n",
      " 49%|██████████████████████████████████████▍                                       | 100/203 [00:00<00:00, 1000.00it/s]"
     ]
    },
    {
     "name": "stdout",
     "output_type": "stream",
     "text": [
      "epoch [39/500], Loss: 1.2829\n"
     ]
    },
    {
     "name": "stderr",
     "output_type": "stream",
     "text": [
      "100%|██████████████████████████████████████████████████████████████████████████████| 203/203 [00:00<00:00, 1004.95it/s]\n",
      " 49%|██████████████████████████████████████▉                                        | 100/203 [00:00<00:00, 925.93it/s]"
     ]
    },
    {
     "name": "stdout",
     "output_type": "stream",
     "text": [
      "epoch [40/500], Loss: 1.5060\n"
     ]
    },
    {
     "name": "stderr",
     "output_type": "stream",
     "text": [
      "100%|███████████████████████████████████████████████████████████████████████████████| 203/203 [00:00<00:00, 944.18it/s]\n",
      " 49%|██████████████████████████████████████▉                                        | 100/203 [00:00<00:00, 943.43it/s]"
     ]
    },
    {
     "name": "stdout",
     "output_type": "stream",
     "text": [
      "epoch [41/500], Loss: 1.0031\n"
     ]
    },
    {
     "name": "stderr",
     "output_type": "stream",
     "text": [
      "100%|███████████████████████████████████████████████████████████████████████████████| 203/203 [00:00<00:00, 926.96it/s]\n",
      " 99%|█████████████████████████████████████████████████████████████████████████████▊ | 200/203 [00:00<00:00, 983.79it/s]"
     ]
    },
    {
     "name": "stdout",
     "output_type": "stream",
     "text": [
      "epoch [42/500], Loss: 0.9465\n"
     ]
    },
    {
     "name": "stderr",
     "output_type": "stream",
     "text": [
      "100%|███████████████████████████████████████████████████████████████████████████████| 203/203 [00:00<00:00, 990.24it/s]\n",
      " 99%|█████████████████████████████████████████████████████████████████████████████▊ | 200/203 [00:00<00:00, 946.55it/s]"
     ]
    },
    {
     "name": "stdout",
     "output_type": "stream",
     "text": [
      "epoch [43/500], Loss: 0.8600\n"
     ]
    },
    {
     "name": "stderr",
     "output_type": "stream",
     "text": [
      "100%|███████████████████████████████████████████████████████████████████████████████| 203/203 [00:00<00:00, 953.05it/s]\n",
      " 49%|██████████████████████████████████████▉                                        | 100/203 [00:00<00:00, 943.39it/s]"
     ]
    },
    {
     "name": "stdout",
     "output_type": "stream",
     "text": [
      "epoch [44/500], Loss: 0.8236\n"
     ]
    },
    {
     "name": "stderr",
     "output_type": "stream",
     "text": [
      "100%|███████████████████████████████████████████████████████████████████████████████| 203/203 [00:00<00:00, 975.96it/s]\n",
      " 49%|██████████████████████████████████████▉                                        | 100/203 [00:00<00:00, 869.57it/s]"
     ]
    },
    {
     "name": "stdout",
     "output_type": "stream",
     "text": [
      "epoch [45/500], Loss: 0.8161\n"
     ]
    },
    {
     "name": "stderr",
     "output_type": "stream",
     "text": [
      "100%|███████████████████████████████████████████████████████████████████████████████| 203/203 [00:00<00:00, 898.23it/s]\n",
      " 49%|██████████████████████████████████████▉                                        | 100/203 [00:00<00:00, 869.55it/s]"
     ]
    },
    {
     "name": "stdout",
     "output_type": "stream",
     "text": [
      "epoch [46/500], Loss: 0.7289\n"
     ]
    },
    {
     "name": "stderr",
     "output_type": "stream",
     "text": [
      "100%|███████████████████████████████████████████████████████████████████████████████| 203/203 [00:00<00:00, 931.18it/s]\n",
      " 49%|██████████████████████████████████████▉                                        | 100/203 [00:00<00:00, 909.09it/s]"
     ]
    },
    {
     "name": "stdout",
     "output_type": "stream",
     "text": [
      "epoch [47/500], Loss: 1.3795\n"
     ]
    },
    {
     "name": "stderr",
     "output_type": "stream",
     "text": [
      "100%|███████████████████████████████████████████████████████████████████████████████| 203/203 [00:00<00:00, 939.81it/s]\n",
      " 49%|██████████████████████████████████████▉                                        | 100/203 [00:00<00:00, 970.88it/s]"
     ]
    },
    {
     "name": "stdout",
     "output_type": "stream",
     "text": [
      "epoch [48/500], Loss: 1.4856\n"
     ]
    },
    {
     "name": "stderr",
     "output_type": "stream",
     "text": [
      "100%|██████████████████████████████████████████████████████████████████████████████| 203/203 [00:00<00:00, 1015.00it/s]\n",
      " 49%|██████████████████████████████████████▉                                        | 100/203 [00:00<00:00, 970.86it/s]"
     ]
    },
    {
     "name": "stdout",
     "output_type": "stream",
     "text": [
      "epoch [49/500], Loss: 0.9141\n"
     ]
    },
    {
     "name": "stderr",
     "output_type": "stream",
     "text": [
      "100%|███████████████████████████████████████████████████████████████████████████████| 203/203 [00:00<00:00, 980.68it/s]\n",
      " 49%|██████████████████████████████████████▉                                        | 100/203 [00:00<00:00, 925.94it/s]"
     ]
    },
    {
     "name": "stdout",
     "output_type": "stream",
     "text": [
      "epoch [50/500], Loss: 0.9225\n"
     ]
    },
    {
     "name": "stderr",
     "output_type": "stream",
     "text": [
      "100%|███████████████████████████████████████████████████████████████████████████████| 203/203 [00:00<00:00, 953.05it/s]\n",
      " 99%|████████████████████████████████████████████████████████████████████████████▊ | 200/203 [00:00<00:00, 1036.27it/s]"
     ]
    },
    {
     "name": "stdout",
     "output_type": "stream",
     "text": [
      "epoch [51/500], Loss: 1.1615\n"
     ]
    },
    {
     "name": "stderr",
     "output_type": "stream",
     "text": [
      "100%|██████████████████████████████████████████████████████████████████████████████| 203/203 [00:00<00:00, 1046.39it/s]\n",
      " 49%|██████████████████████████████████████▉                                        | 100/203 [00:00<00:00, 990.13it/s]"
     ]
    },
    {
     "name": "stdout",
     "output_type": "stream",
     "text": [
      "epoch [52/500], Loss: 0.9346\n"
     ]
    },
    {
     "name": "stderr",
     "output_type": "stream",
     "text": [
      "100%|███████████████████████████████████████████████████████████████████████████████| 203/203 [00:00<00:00, 957.55it/s]\n",
      " 49%|██████████████████████████████████████▉                                        | 100/203 [00:00<00:00, 943.39it/s]"
     ]
    },
    {
     "name": "stdout",
     "output_type": "stream",
     "text": [
      "epoch [53/500], Loss: 0.9940\n"
     ]
    },
    {
     "name": "stderr",
     "output_type": "stream",
     "text": [
      "100%|██████████████████████████████████████████████████████████████████████████████| 203/203 [00:00<00:00, 1035.71it/s]\n",
      " 49%|██████████████████████████████████████▉                                        | 100/203 [00:00<00:00, 934.58it/s]"
     ]
    },
    {
     "name": "stdout",
     "output_type": "stream",
     "text": [
      "epoch [54/500], Loss: 1.1845\n"
     ]
    },
    {
     "name": "stderr",
     "output_type": "stream",
     "text": [
      "100%|███████████████████████████████████████████████████████████████████████████████| 203/203 [00:00<00:00, 962.08it/s]\n",
      " 49%|██████████████████████████████████████▉                                        | 100/203 [00:00<00:00, 961.53it/s]"
     ]
    },
    {
     "name": "stdout",
     "output_type": "stream",
     "text": [
      "epoch [55/500], Loss: 0.9226\n"
     ]
    },
    {
     "name": "stderr",
     "output_type": "stream",
     "text": [
      "100%|███████████████████████████████████████████████████████████████████████████████| 203/203 [00:00<00:00, 953.05it/s]\n",
      " 49%|██████████████████████████████████████▉                                        | 100/203 [00:00<00:00, 806.42it/s]"
     ]
    },
    {
     "name": "stdout",
     "output_type": "stream",
     "text": [
      "epoch [56/500], Loss: 0.7164\n"
     ]
    },
    {
     "name": "stderr",
     "output_type": "stream",
     "text": [
      "100%|███████████████████████████████████████████████████████████████████████████████| 203/203 [00:00<00:00, 842.33it/s]\n",
      " 49%|██████████████████████████████████████▉                                        | 100/203 [00:00<00:00, 925.90it/s]"
     ]
    },
    {
     "name": "stdout",
     "output_type": "stream",
     "text": [
      "epoch [57/500], Loss: 0.7961\n"
     ]
    },
    {
     "name": "stderr",
     "output_type": "stream",
     "text": [
      "100%|███████████████████████████████████████████████████████████████████████████████| 203/203 [00:00<00:00, 890.35it/s]\n",
      " 49%|██████████████████████████████████████▉                                        | 100/203 [00:00<00:00, 943.38it/s]"
     ]
    },
    {
     "name": "stdout",
     "output_type": "stream",
     "text": [
      "epoch [58/500], Loss: 1.0045\n"
     ]
    },
    {
     "name": "stderr",
     "output_type": "stream",
     "text": [
      "100%|███████████████████████████████████████████████████████████████████████████████| 203/203 [00:00<00:00, 999.96it/s]\n",
      " 49%|██████████████████████████████████████▉                                        | 100/203 [00:00<00:00, 854.69it/s]"
     ]
    },
    {
     "name": "stdout",
     "output_type": "stream",
     "text": [
      "epoch [59/500], Loss: 0.9776\n"
     ]
    },
    {
     "name": "stderr",
     "output_type": "stream",
     "text": [
      "100%|███████████████████████████████████████████████████████████████████████████████| 203/203 [00:00<00:00, 878.79it/s]\n",
      " 49%|██████████████████████████████████████▉                                        | 100/203 [00:00<00:00, 934.57it/s]"
     ]
    },
    {
     "name": "stdout",
     "output_type": "stream",
     "text": [
      "epoch [60/500], Loss: 1.4199\n"
     ]
    },
    {
     "name": "stderr",
     "output_type": "stream",
     "text": [
      "100%|███████████████████████████████████████████████████████████████████████████████| 203/203 [00:00<00:00, 894.28it/s]\n",
      "  0%|                                                                                          | 0/203 [00:00<?, ?it/s]"
     ]
    },
    {
     "name": "stdout",
     "output_type": "stream",
     "text": [
      "epoch [61/500], Loss: 1.3715\n"
     ]
    },
    {
     "name": "stderr",
     "output_type": "stream",
     "text": [
      "100%|███████████████████████████████████████████████████████████████████████████████| 203/203 [00:00<00:00, 980.67it/s]\n",
      " 49%|██████████████████████████████████████▉                                        | 100/203 [00:00<00:00, 892.86it/s]"
     ]
    },
    {
     "name": "stdout",
     "output_type": "stream",
     "text": [
      "epoch [62/500], Loss: 0.7241\n"
     ]
    },
    {
     "name": "stderr",
     "output_type": "stream",
     "text": [
      "100%|███████████████████████████████████████████████████████████████████████████████| 203/203 [00:00<00:00, 939.81it/s]\n",
      " 49%|██████████████████████████████████████▉                                        | 100/203 [00:00<00:00, 970.85it/s]"
     ]
    },
    {
     "name": "stdout",
     "output_type": "stream",
     "text": [
      "epoch [63/500], Loss: 0.8365\n"
     ]
    },
    {
     "name": "stderr",
     "output_type": "stream",
     "text": [
      "100%|███████████████████████████████████████████████████████████████████████████████| 203/203 [00:00<00:00, 922.72it/s]\n",
      " 99%|████████████████████████████████████████████████████████████████████████████▊ | 200/203 [00:00<00:00, 1063.83it/s]"
     ]
    },
    {
     "name": "stdout",
     "output_type": "stream",
     "text": [
      "epoch [64/500], Loss: 0.9712\n"
     ]
    },
    {
     "name": "stderr",
     "output_type": "stream",
     "text": [
      "100%|██████████████████████████████████████████████████████████████████████████████| 203/203 [00:00<00:00, 1074.07it/s]\n",
      " 49%|██████████████████████████████████████▉                                        | 100/203 [00:00<00:00, 769.23it/s]"
     ]
    },
    {
     "name": "stdout",
     "output_type": "stream",
     "text": [
      "epoch [65/500], Loss: 0.7407\n"
     ]
    },
    {
     "name": "stderr",
     "output_type": "stream",
     "text": [
      "100%|███████████████████████████████████████████████████████████████████████████████| 203/203 [00:00<00:00, 783.78it/s]\n",
      " 49%|██████████████████████████████████████▉                                        | 100/203 [00:00<00:00, 999.99it/s]"
     ]
    },
    {
     "name": "stdout",
     "output_type": "stream",
     "text": [
      "epoch [66/500], Loss: 0.7759\n"
     ]
    },
    {
     "name": "stderr",
     "output_type": "stream",
     "text": [
      "100%|███████████████████████████████████████████████████████████████████████████████| 203/203 [00:00<00:00, 944.19it/s]\n",
      " 49%|██████████████████████████████████████▉                                        | 100/203 [00:00<00:00, 900.91it/s]"
     ]
    },
    {
     "name": "stdout",
     "output_type": "stream",
     "text": [
      "epoch [67/500], Loss: 1.1203\n"
     ]
    },
    {
     "name": "stderr",
     "output_type": "stream",
     "text": [
      "100%|███████████████████████████████████████████████████████████████████████████████| 203/203 [00:00<00:00, 953.05it/s]\n",
      " 49%|██████████████████████████████████████▉                                        | 100/203 [00:00<00:00, 833.34it/s]"
     ]
    },
    {
     "name": "stdout",
     "output_type": "stream",
     "text": [
      "epoch [68/500], Loss: 1.0692\n"
     ]
    },
    {
     "name": "stderr",
     "output_type": "stream",
     "text": [
      "100%|███████████████████████████████████████████████████████████████████████████████| 203/203 [00:00<00:00, 882.60it/s]\n",
      " 49%|██████████████████████████████████████▉                                        | 100/203 [00:00<00:00, 990.12it/s]"
     ]
    },
    {
     "name": "stdout",
     "output_type": "stream",
     "text": [
      "epoch [69/500], Loss: 1.3406\n"
     ]
    },
    {
     "name": "stderr",
     "output_type": "stream",
     "text": [
      "100%|███████████████████████████████████████████████████████████████████████████████| 203/203 [00:00<00:00, 939.82it/s]\n",
      " 49%|██████████████████████████████████████▉                                        | 100/203 [00:00<00:00, 892.83it/s]"
     ]
    },
    {
     "name": "stdout",
     "output_type": "stream",
     "text": [
      "epoch [70/500], Loss: 1.2015\n"
     ]
    },
    {
     "name": "stderr",
     "output_type": "stream",
     "text": [
      "100%|███████████████████████████████████████████████████████████████████████████████| 203/203 [00:00<00:00, 910.32it/s]\n",
      " 49%|██████████████████████████████████████▉                                        | 100/203 [00:00<00:00, 854.70it/s]"
     ]
    },
    {
     "name": "stdout",
     "output_type": "stream",
     "text": [
      "epoch [71/500], Loss: 0.5311\n"
     ]
    },
    {
     "name": "stderr",
     "output_type": "stream",
     "text": [
      "100%|███████████████████████████████████████████████████████████████████████████████| 203/203 [00:00<00:00, 890.36it/s]\n",
      " 49%|██████████████████████████████████████▉                                        | 100/203 [00:00<00:00, 869.55it/s]"
     ]
    },
    {
     "name": "stdout",
     "output_type": "stream",
     "text": [
      "epoch [72/500], Loss: 0.4538\n"
     ]
    },
    {
     "name": "stderr",
     "output_type": "stream",
     "text": [
      "100%|███████████████████████████████████████████████████████████████████████████████| 203/203 [00:00<00:00, 860.17it/s]\n",
      " 49%|██████████████████████████████████████▉                                        | 100/203 [00:00<00:00, 925.93it/s]"
     ]
    },
    {
     "name": "stdout",
     "output_type": "stream",
     "text": [
      "epoch [73/500], Loss: 0.5824\n"
     ]
    },
    {
     "name": "stderr",
     "output_type": "stream",
     "text": [
      "100%|███████████████████████████████████████████████████████████████████████████████| 203/203 [00:00<00:00, 944.19it/s]\n",
      " 49%|██████████████████████████████████████▉                                        | 100/203 [00:00<00:00, 826.45it/s]"
     ]
    },
    {
     "name": "stdout",
     "output_type": "stream",
     "text": [
      "epoch [74/500], Loss: 0.6582\n"
     ]
    },
    {
     "name": "stderr",
     "output_type": "stream",
     "text": [
      "100%|███████████████████████████████████████████████████████████████████████████████| 203/203 [00:00<00:00, 867.53it/s]\n",
      " 49%|██████████████████████████████████████▉                                        | 100/203 [00:00<00:00, 847.46it/s]"
     ]
    },
    {
     "name": "stdout",
     "output_type": "stream",
     "text": [
      "epoch [75/500], Loss: 0.5022\n"
     ]
    },
    {
     "name": "stderr",
     "output_type": "stream",
     "text": [
      "100%|███████████████████████████████████████████████████████████████████████████████| 203/203 [00:00<00:00, 856.55it/s]\n",
      " 49%|██████████████████████████████████████▉                                        | 100/203 [00:00<00:00, 892.85it/s]"
     ]
    },
    {
     "name": "stdout",
     "output_type": "stream",
     "text": [
      "epoch [76/500], Loss: 0.4734\n"
     ]
    },
    {
     "name": "stderr",
     "output_type": "stream",
     "text": [
      "100%|███████████████████████████████████████████████████████████████████████████████| 203/203 [00:00<00:00, 910.31it/s]\n",
      " 49%|██████████████████████████████████████▉                                        | 100/203 [00:00<00:00, 884.94it/s]"
     ]
    },
    {
     "name": "stdout",
     "output_type": "stream",
     "text": [
      "epoch [77/500], Loss: 0.5047\n"
     ]
    },
    {
     "name": "stderr",
     "output_type": "stream",
     "text": [
      "100%|███████████████████████████████████████████████████████████████████████████████| 203/203 [00:00<00:00, 875.00it/s]\n",
      " 49%|██████████████████████████████████████▉                                        | 100/203 [00:00<00:00, 909.07it/s]"
     ]
    },
    {
     "name": "stdout",
     "output_type": "stream",
     "text": [
      "epoch [78/500], Loss: 0.4179\n"
     ]
    },
    {
     "name": "stderr",
     "output_type": "stream",
     "text": [
      "100%|███████████████████████████████████████████████████████████████████████████████| 203/203 [00:00<00:00, 902.22it/s]\n",
      " 49%|██████████████████████████████████████▉                                        | 100/203 [00:00<00:00, 917.42it/s]"
     ]
    },
    {
     "name": "stdout",
     "output_type": "stream",
     "text": [
      "epoch [79/500], Loss: 0.5621\n"
     ]
    },
    {
     "name": "stderr",
     "output_type": "stream",
     "text": [
      "100%|███████████████████████████████████████████████████████████████████████████████| 203/203 [00:00<00:00, 914.40it/s]\n",
      " 49%|██████████████████████████████████████▉                                        | 100/203 [00:00<00:00, 980.39it/s]"
     ]
    },
    {
     "name": "stdout",
     "output_type": "stream",
     "text": [
      "epoch [80/500], Loss: 0.8305\n"
     ]
    },
    {
     "name": "stderr",
     "output_type": "stream",
     "text": [
      "100%|███████████████████████████████████████████████████████████████████████████████| 203/203 [00:00<00:00, 975.97it/s]\n",
      " 49%|██████████████████████████████████████▉                                        | 100/203 [00:00<00:00, 961.53it/s]"
     ]
    },
    {
     "name": "stdout",
     "output_type": "stream",
     "text": [
      "epoch [81/500], Loss: 0.9029\n"
     ]
    },
    {
     "name": "stderr",
     "output_type": "stream",
     "text": [
      "100%|███████████████████████████████████████████████████████████████████████████████| 203/203 [00:00<00:00, 990.25it/s]\n",
      " 49%|██████████████████████████████████████▉                                        | 100/203 [00:00<00:00, 892.86it/s]"
     ]
    },
    {
     "name": "stdout",
     "output_type": "stream",
     "text": [
      "epoch [82/500], Loss: 0.8346\n"
     ]
    },
    {
     "name": "stderr",
     "output_type": "stream",
     "text": [
      "100%|███████████████████████████████████████████████████████████████████████████████| 203/203 [00:00<00:00, 860.16it/s]\n",
      " 49%|██████████████████████████████████████▉                                        | 100/203 [00:00<00:00, 925.93it/s]"
     ]
    },
    {
     "name": "stdout",
     "output_type": "stream",
     "text": [
      "epoch [83/500], Loss: 0.6798\n"
     ]
    },
    {
     "name": "stderr",
     "output_type": "stream",
     "text": [
      "100%|███████████████████████████████████████████████████████████████████████████████| 203/203 [00:00<00:00, 957.55it/s]\n",
      "  0%|                                                                                          | 0/203 [00:00<?, ?it/s]"
     ]
    },
    {
     "name": "stdout",
     "output_type": "stream",
     "text": [
      "epoch [84/500], Loss: 0.6610\n"
     ]
    },
    {
     "name": "stderr",
     "output_type": "stream",
     "text": [
      "100%|██████████████████████████████████████████████████████████████████████████████| 203/203 [00:00<00:00, 1035.66it/s]\n",
      " 99%|████████████████████████████████████████████████████████████████████████████▊ | 200/203 [00:00<00:00, 1041.66it/s]"
     ]
    },
    {
     "name": "stdout",
     "output_type": "stream",
     "text": [
      "epoch [85/500], Loss: 0.6114\n"
     ]
    },
    {
     "name": "stderr",
     "output_type": "stream",
     "text": [
      "100%|██████████████████████████████████████████████████████████████████████████████| 203/203 [00:00<00:00, 1051.81it/s]\n",
      "  0%|                                                                                          | 0/203 [00:00<?, ?it/s]"
     ]
    },
    {
     "name": "stdout",
     "output_type": "stream",
     "text": [
      "epoch [86/500], Loss: 0.5297\n"
     ]
    },
    {
     "name": "stderr",
     "output_type": "stream",
     "text": [
      "100%|██████████████████████████████████████████████████████████████████████████████| 203/203 [00:00<00:00, 1025.24it/s]\n",
      " 85%|██████████████████████████████████████████████████████████████████▍           | 173/203 [00:00<00:00, 1729.93it/s]"
     ]
    },
    {
     "name": "stdout",
     "output_type": "stream",
     "text": [
      "epoch [87/500], Loss: 0.6361\n"
     ]
    },
    {
     "name": "stderr",
     "output_type": "stream",
     "text": [
      "100%|███████████████████████████████████████████████████████████████████████████████| 203/203 [00:00<00:00, 971.27it/s]\n",
      " 49%|██████████████████████████████████████▉                                        | 100/203 [00:00<00:00, 961.55it/s]"
     ]
    },
    {
     "name": "stdout",
     "output_type": "stream",
     "text": [
      "epoch [88/500], Loss: 0.5339\n"
     ]
    },
    {
     "name": "stderr",
     "output_type": "stream",
     "text": [
      "100%|███████████████████████████████████████████████████████████████████████████████| 203/203 [00:00<00:00, 944.18it/s]\n",
      " 49%|██████████████████████████████████████▉                                        | 100/203 [00:00<00:00, 943.42it/s]"
     ]
    },
    {
     "name": "stdout",
     "output_type": "stream",
     "text": [
      "epoch [89/500], Loss: 0.5996\n"
     ]
    },
    {
     "name": "stderr",
     "output_type": "stream",
     "text": [
      "100%|███████████████████████████████████████████████████████████████████████████████| 203/203 [00:00<00:00, 931.19it/s]\n",
      " 49%|██████████████████████████████████████▉                                        | 100/203 [00:00<00:00, 943.38it/s]"
     ]
    },
    {
     "name": "stdout",
     "output_type": "stream",
     "text": [
      "epoch [90/500], Loss: 0.5863\n"
     ]
    },
    {
     "name": "stderr",
     "output_type": "stream",
     "text": [
      "100%|███████████████████████████████████████████████████████████████████████████████| 203/203 [00:00<00:00, 975.95it/s]\n",
      " 49%|██████████████████████████████████████▉                                        | 100/203 [00:00<00:00, 970.87it/s]"
     ]
    },
    {
     "name": "stdout",
     "output_type": "stream",
     "text": [
      "epoch [91/500], Loss: 0.7008\n"
     ]
    },
    {
     "name": "stderr",
     "output_type": "stream",
     "text": [
      "100%|███████████████████████████████████████████████████████████████████████████████| 203/203 [00:00<00:00, 939.82it/s]\n",
      " 49%|██████████████████████████████████████▉                                        | 100/203 [00:00<00:00, 952.37it/s]"
     ]
    },
    {
     "name": "stdout",
     "output_type": "stream",
     "text": [
      "epoch [92/500], Loss: 0.9598\n"
     ]
    },
    {
     "name": "stderr",
     "output_type": "stream",
     "text": [
      "100%|███████████████████████████████████████████████████████████████████████████████| 203/203 [00:00<00:00, 931.18it/s]\n",
      " 49%|██████████████████████████████████████▉                                        | 100/203 [00:00<00:00, 884.95it/s]"
     ]
    },
    {
     "name": "stdout",
     "output_type": "stream",
     "text": [
      "epoch [93/500], Loss: 0.8539\n"
     ]
    },
    {
     "name": "stderr",
     "output_type": "stream",
     "text": [
      "100%|███████████████████████████████████████████████████████████████████████████████| 203/203 [00:00<00:00, 944.19it/s]\n",
      " 49%|██████████████████████████████████████▉                                        | 100/203 [00:00<00:00, 980.40it/s]"
     ]
    },
    {
     "name": "stdout",
     "output_type": "stream",
     "text": [
      "epoch [94/500], Loss: 0.7496\n"
     ]
    },
    {
     "name": "stderr",
     "output_type": "stream",
     "text": [
      "100%|███████████████████████████████████████████████████████████████████████████████| 203/203 [00:00<00:00, 975.97it/s]\n",
      " 49%|██████████████████████████████████████▉                                        | 100/203 [00:00<00:00, 970.88it/s]"
     ]
    },
    {
     "name": "stdout",
     "output_type": "stream",
     "text": [
      "epoch [95/500], Loss: 1.0348\n"
     ]
    },
    {
     "name": "stderr",
     "output_type": "stream",
     "text": [
      "100%|██████████████████████████████████████████████████████████████████████████████| 203/203 [00:00<00:00, 1009.94it/s]\n",
      " 49%|██████████████████████████████████████▉                                        | 100/203 [00:00<00:00, 980.39it/s]"
     ]
    },
    {
     "name": "stdout",
     "output_type": "stream",
     "text": [
      "epoch [96/500], Loss: 1.0094\n"
     ]
    },
    {
     "name": "stderr",
     "output_type": "stream",
     "text": [
      "100%|███████████████████████████████████████████████████████████████████████████████| 203/203 [00:00<00:00, 980.67it/s]\n",
      " 49%|██████████████████████████████████████▉                                        | 100/203 [00:00<00:00, 980.55it/s]"
     ]
    },
    {
     "name": "stdout",
     "output_type": "stream",
     "text": [
      "epoch [97/500], Loss: 0.8767\n"
     ]
    },
    {
     "name": "stderr",
     "output_type": "stream",
     "text": [
      "100%|██████████████████████████████████████████████████████████████████████████████| 203/203 [00:00<00:00, 1020.20it/s]\n",
      "  0%|                                                                                          | 0/203 [00:00<?, ?it/s]"
     ]
    },
    {
     "name": "stdout",
     "output_type": "stream",
     "text": [
      "epoch [98/500], Loss: 0.9243\n"
     ]
    },
    {
     "name": "stderr",
     "output_type": "stream",
     "text": [
      "100%|██████████████████████████████████████████████████████████████████████████████| 203/203 [00:00<00:00, 1035.95it/s]\n",
      "  0%|                                                                                          | 0/203 [00:00<?, ?it/s]"
     ]
    },
    {
     "name": "stdout",
     "output_type": "stream",
     "text": [
      "epoch [99/500], Loss: 0.6449\n"
     ]
    },
    {
     "name": "stderr",
     "output_type": "stream",
     "text": [
      "100%|██████████████████████████████████████████████████████████████████████████████| 203/203 [00:00<00:00, 1015.00it/s]\n",
      "  0%|                                                                                          | 0/203 [00:00<?, ?it/s]"
     ]
    },
    {
     "name": "stdout",
     "output_type": "stream",
     "text": [
      "epoch [100/500], Loss: 0.6323\n"
     ]
    },
    {
     "name": "stderr",
     "output_type": "stream",
     "text": [
      "100%|███████████████████████████████████████████████████████████████████████████████| 203/203 [00:00<00:00, 983.20it/s]\n",
      " 49%|██████████████████████████████████████▉                                        | 100/203 [00:00<00:00, 963.27it/s]"
     ]
    },
    {
     "name": "stdout",
     "output_type": "stream",
     "text": [
      "epoch [101/500], Loss: 0.8411\n"
     ]
    },
    {
     "name": "stderr",
     "output_type": "stream",
     "text": [
      "100%|███████████████████████████████████████████████████████████████████████████████| 203/203 [00:00<00:00, 936.28it/s]\n",
      " 49%|██████████████████████████████████████▉                                        | 100/203 [00:00<00:00, 934.22it/s]"
     ]
    },
    {
     "name": "stdout",
     "output_type": "stream",
     "text": [
      "epoch [102/500], Loss: 0.8880\n"
     ]
    },
    {
     "name": "stderr",
     "output_type": "stream",
     "text": [
      "100%|███████████████████████████████████████████████████████████████████████████████| 203/203 [00:00<00:00, 922.55it/s]\n",
      "  0%|                                                                                          | 0/203 [00:00<?, ?it/s]"
     ]
    },
    {
     "name": "stdout",
     "output_type": "stream",
     "text": [
      "epoch [103/500], Loss: 0.8408\n"
     ]
    },
    {
     "name": "stderr",
     "output_type": "stream",
     "text": [
      "100%|██████████████████████████████████████████████████████████████████████████████| 203/203 [00:00<00:00, 1030.62it/s]\n",
      " 49%|██████████████████████████████████████▉                                        | 100/203 [00:00<00:00, 980.34it/s]"
     ]
    },
    {
     "name": "stdout",
     "output_type": "stream",
     "text": [
      "epoch [104/500], Loss: 0.8940\n"
     ]
    },
    {
     "name": "stderr",
     "output_type": "stream",
     "text": [
      "100%|███████████████████████████████████████████████████████████████████████████████| 203/203 [00:00<00:00, 980.68it/s]\n",
      " 49%|██████████████████████████████████████▉                                        | 100/203 [00:00<00:00, 961.51it/s]"
     ]
    },
    {
     "name": "stdout",
     "output_type": "stream",
     "text": [
      "epoch [105/500], Loss: 0.8370\n"
     ]
    },
    {
     "name": "stderr",
     "output_type": "stream",
     "text": [
      "100%|███████████████████████████████████████████████████████████████████████████████| 203/203 [00:00<00:00, 965.83it/s]\n",
      " 49%|██████████████████████████████████████▉                                        | 100/203 [00:00<00:00, 961.50it/s]"
     ]
    },
    {
     "name": "stdout",
     "output_type": "stream",
     "text": [
      "epoch [106/500], Loss: 0.9924\n"
     ]
    },
    {
     "name": "stderr",
     "output_type": "stream",
     "text": [
      "100%|██████████████████████████████████████████████████████████████████████████████| 203/203 [00:00<00:00, 1020.10it/s]\n",
      "  0%|                                                                                          | 0/203 [00:00<?, ?it/s]"
     ]
    },
    {
     "name": "stdout",
     "output_type": "stream",
     "text": [
      "epoch [107/500], Loss: 1.0820\n"
     ]
    },
    {
     "name": "stderr",
     "output_type": "stream",
     "text": [
      "100%|███████████████████████████████████████████████████████████████████████████████| 203/203 [00:00<00:00, 995.09it/s]\n",
      "  0%|                                                                                          | 0/203 [00:00<?, ?it/s]"
     ]
    },
    {
     "name": "stdout",
     "output_type": "stream",
     "text": [
      "epoch [108/500], Loss: 0.6931\n"
     ]
    },
    {
     "name": "stderr",
     "output_type": "stream",
     "text": [
      "100%|███████████████████████████████████████████████████████████████████████████████| 203/203 [00:00<00:00, 996.78it/s]\n",
      " 49%|██████████████████████████████████████▉                                        | 100/203 [00:00<00:00, 980.40it/s]"
     ]
    },
    {
     "name": "stdout",
     "output_type": "stream",
     "text": [
      "epoch [109/500], Loss: 0.5552\n"
     ]
    },
    {
     "name": "stderr",
     "output_type": "stream",
     "text": [
      "100%|██████████████████████████████████████████████████████████████████████████████| 203/203 [00:00<00:00, 1020.56it/s]\n",
      " 49%|██████████████████████████████████████▉                                        | 100/203 [00:00<00:00, 980.37it/s]"
     ]
    },
    {
     "name": "stdout",
     "output_type": "stream",
     "text": [
      "epoch [110/500], Loss: 0.5750\n"
     ]
    },
    {
     "name": "stderr",
     "output_type": "stream",
     "text": [
      "100%|███████████████████████████████████████████████████████████████████████████████| 203/203 [00:00<00:00, 944.17it/s]\n",
      " 49%|██████████████████████████████████████▉                                        | 100/203 [00:00<00:00, 892.88it/s]"
     ]
    },
    {
     "name": "stdout",
     "output_type": "stream",
     "text": [
      "epoch [111/500], Loss: 0.8060\n"
     ]
    },
    {
     "name": "stderr",
     "output_type": "stream",
     "text": [
      "100%|███████████████████████████████████████████████████████████████████████████████| 203/203 [00:00<00:00, 910.33it/s]\n",
      " 49%|██████████████████████████████████████▉                                        | 100/203 [00:00<00:00, 970.88it/s]"
     ]
    },
    {
     "name": "stdout",
     "output_type": "stream",
     "text": [
      "epoch [112/500], Loss: 0.7360\n"
     ]
    },
    {
     "name": "stderr",
     "output_type": "stream",
     "text": [
      "100%|███████████████████████████████████████████████████████████████████████████████| 203/203 [00:00<00:00, 967.99it/s]\n",
      " 49%|██████████████████████████████████████▍                                       | 100/203 [00:00<00:00, 1000.00it/s]"
     ]
    },
    {
     "name": "stdout",
     "output_type": "stream",
     "text": [
      "epoch [113/500], Loss: 0.4640\n"
     ]
    },
    {
     "name": "stderr",
     "output_type": "stream",
     "text": [
      "100%|███████████████████████████████████████████████████████████████████████████████| 203/203 [00:00<00:00, 966.65it/s]\n",
      " 49%|██████████████████████████████████████▉                                        | 100/203 [00:00<00:00, 862.08it/s]"
     ]
    },
    {
     "name": "stdout",
     "output_type": "stream",
     "text": [
      "epoch [114/500], Loss: 0.9686\n"
     ]
    },
    {
     "name": "stderr",
     "output_type": "stream",
     "text": [
      "100%|███████████████████████████████████████████████████████████████████████████████| 203/203 [00:00<00:00, 906.26it/s]\n",
      " 49%|██████████████████████████████████████▉                                        | 100/203 [00:00<00:00, 961.53it/s]"
     ]
    },
    {
     "name": "stdout",
     "output_type": "stream",
     "text": [
      "epoch [115/500], Loss: 0.9278\n"
     ]
    },
    {
     "name": "stderr",
     "output_type": "stream",
     "text": [
      "100%|██████████████████████████████████████████████████████████████████████████████| 203/203 [00:00<00:00, 1009.94it/s]\n",
      "  0%|                                                                                          | 0/203 [00:00<?, ?it/s]"
     ]
    },
    {
     "name": "stdout",
     "output_type": "stream",
     "text": [
      "epoch [116/500], Loss: 0.3701\n"
     ]
    },
    {
     "name": "stderr",
     "output_type": "stream",
     "text": [
      "100%|███████████████████████████████████████████████████████████████████████████████| 203/203 [00:00<00:00, 971.30it/s]\n",
      " 49%|██████████████████████████████████████▉                                        | 100/203 [00:00<00:00, 980.38it/s]"
     ]
    },
    {
     "name": "stdout",
     "output_type": "stream",
     "text": [
      "epoch [117/500], Loss: 0.5781\n"
     ]
    },
    {
     "name": "stderr",
     "output_type": "stream",
     "text": [
      "100%|███████████████████████████████████████████████████████████████████████████████| 203/203 [00:00<00:00, 971.29it/s]\n",
      " 49%|██████████████████████████████████████▉                                        | 100/203 [00:00<00:00, 934.54it/s]"
     ]
    },
    {
     "name": "stdout",
     "output_type": "stream",
     "text": [
      "epoch [118/500], Loss: 1.0158\n"
     ]
    },
    {
     "name": "stderr",
     "output_type": "stream",
     "text": [
      "100%|███████████████████████████████████████████████████████████████████████████████| 203/203 [00:00<00:00, 904.20it/s]\n",
      " 49%|██████████████████████████████████████▉                                        | 100/203 [00:00<00:00, 904.86it/s]"
     ]
    },
    {
     "name": "stdout",
     "output_type": "stream",
     "text": [
      "epoch [119/500], Loss: 0.8903\n"
     ]
    },
    {
     "name": "stderr",
     "output_type": "stream",
     "text": [
      "100%|███████████████████████████████████████████████████████████████████████████████| 203/203 [00:00<00:00, 946.31it/s]\n",
      " 99%|█████████████████████████████████████████████████████████████████████████████▊ | 200/203 [00:00<00:00, 983.78it/s]"
     ]
    },
    {
     "name": "stdout",
     "output_type": "stream",
     "text": [
      "epoch [120/500], Loss: 0.6953\n"
     ]
    },
    {
     "name": "stderr",
     "output_type": "stream",
     "text": [
      "100%|███████████████████████████████████████████████████████████████████████████████| 203/203 [00:00<00:00, 990.24it/s]\n",
      " 49%|██████████████████████████████████████▉                                        | 100/203 [00:00<00:00, 990.06it/s]"
     ]
    },
    {
     "name": "stdout",
     "output_type": "stream",
     "text": [
      "epoch [121/500], Loss: 0.6606\n"
     ]
    },
    {
     "name": "stderr",
     "output_type": "stream",
     "text": [
      "100%|███████████████████████████████████████████████████████████████████████████████| 203/203 [00:00<00:00, 995.10it/s]\n",
      "  0%|                                                                                          | 0/203 [00:00<?, ?it/s]"
     ]
    },
    {
     "name": "stdout",
     "output_type": "stream",
     "text": [
      "epoch [122/500], Loss: 0.7858\n"
     ]
    },
    {
     "name": "stderr",
     "output_type": "stream",
     "text": [
      "100%|██████████████████████████████████████████████████████████████████████████████| 203/203 [00:00<00:00, 1000.01it/s]\n",
      " 49%|██████████████████████████████████████▉                                        | 100/203 [00:00<00:00, 900.98it/s]"
     ]
    },
    {
     "name": "stdout",
     "output_type": "stream",
     "text": [
      "epoch [123/500], Loss: 0.7946\n"
     ]
    },
    {
     "name": "stderr",
     "output_type": "stream",
     "text": [
      "100%|███████████████████████████████████████████████████████████████████████████████| 203/203 [00:00<00:00, 948.64it/s]\n",
      " 49%|██████████████████████████████████████▉                                        | 100/203 [00:00<00:00, 934.57it/s]"
     ]
    },
    {
     "name": "stdout",
     "output_type": "stream",
     "text": [
      "epoch [124/500], Loss: 0.4669\n"
     ]
    },
    {
     "name": "stderr",
     "output_type": "stream",
     "text": [
      "100%|███████████████████████████████████████████████████████████████████████████████| 203/203 [00:00<00:00, 935.48it/s]\n",
      " 99%|█████████████████████████████████████████████████████████████████████████████▊ | 200/203 [00:00<00:00, 982.09it/s]"
     ]
    },
    {
     "name": "stdout",
     "output_type": "stream",
     "text": [
      "epoch [125/500], Loss: 0.3613\n"
     ]
    },
    {
     "name": "stderr",
     "output_type": "stream",
     "text": [
      "100%|███████████████████████████████████████████████████████████████████████████████| 203/203 [00:00<00:00, 990.25it/s]\n",
      "  0%|                                                                                          | 0/203 [00:00<?, ?it/s]"
     ]
    },
    {
     "name": "stdout",
     "output_type": "stream",
     "text": [
      "epoch [126/500], Loss: 0.5335\n"
     ]
    },
    {
     "name": "stderr",
     "output_type": "stream",
     "text": [
      "100%|██████████████████████████████████████████████████████████████████████████████| 203/203 [00:00<00:00, 1025.25it/s]\n",
      " 49%|██████████████████████████████████████▉                                        | 100/203 [00:00<00:00, 877.18it/s]"
     ]
    },
    {
     "name": "stdout",
     "output_type": "stream",
     "text": [
      "epoch [127/500], Loss: 0.7163\n"
     ]
    },
    {
     "name": "stderr",
     "output_type": "stream",
     "text": [
      "100%|███████████████████████████████████████████████████████████████████████████████| 203/203 [00:00<00:00, 918.55it/s]\n",
      " 49%|██████████████████████████████████████▉                                        | 100/203 [00:00<00:00, 952.39it/s]"
     ]
    },
    {
     "name": "stdout",
     "output_type": "stream",
     "text": [
      "epoch [128/500], Loss: 0.6904\n"
     ]
    },
    {
     "name": "stderr",
     "output_type": "stream",
     "text": [
      "100%|███████████████████████████████████████████████████████████████████████████████| 203/203 [00:00<00:00, 980.67it/s]\n",
      " 49%|██████████████████████████████████████▉                                        | 100/203 [00:00<00:00, 980.39it/s]"
     ]
    },
    {
     "name": "stdout",
     "output_type": "stream",
     "text": [
      "epoch [129/500], Loss: 0.7207\n"
     ]
    },
    {
     "name": "stderr",
     "output_type": "stream",
     "text": [
      "100%|███████████████████████████████████████████████████████████████████████████████| 203/203 [00:00<00:00, 985.43it/s]\n",
      "  0%|                                                                                          | 0/203 [00:00<?, ?it/s]"
     ]
    },
    {
     "name": "stdout",
     "output_type": "stream",
     "text": [
      "epoch [130/500], Loss: 0.7936\n"
     ]
    },
    {
     "name": "stderr",
     "output_type": "stream",
     "text": [
      "100%|███████████████████████████████████████████████████████████████████████████████| 203/203 [00:00<00:00, 985.44it/s]\n",
      " 49%|██████████████████████████████████████▉                                        | 100/203 [00:00<00:00, 970.84it/s]"
     ]
    },
    {
     "name": "stdout",
     "output_type": "stream",
     "text": [
      "epoch [131/500], Loss: 0.5430\n"
     ]
    },
    {
     "name": "stderr",
     "output_type": "stream",
     "text": [
      "100%|███████████████████████████████████████████████████████████████████████████████| 203/203 [00:00<00:00, 962.08it/s]\n",
      " 49%|██████████████████████████████████████▉                                        | 100/203 [00:00<00:00, 892.86it/s]"
     ]
    },
    {
     "name": "stdout",
     "output_type": "stream",
     "text": [
      "epoch [132/500], Loss: 0.4422\n"
     ]
    },
    {
     "name": "stderr",
     "output_type": "stream",
     "text": [
      "100%|███████████████████████████████████████████████████████████████████████████████| 203/203 [00:00<00:00, 926.95it/s]\n",
      " 99%|████████████████████████████████████████████████████████████████████████████▊ | 200/203 [00:00<00:00, 1010.07it/s]"
     ]
    },
    {
     "name": "stdout",
     "output_type": "stream",
     "text": [
      "epoch [133/500], Loss: 0.6151\n"
     ]
    },
    {
     "name": "stderr",
     "output_type": "stream",
     "text": [
      "100%|██████████████████████████████████████████████████████████████████████████████| 203/203 [00:00<00:00, 1020.09it/s]\n",
      "  0%|                                                                                          | 0/203 [00:00<?, ?it/s]"
     ]
    },
    {
     "name": "stdout",
     "output_type": "stream",
     "text": [
      "epoch [134/500], Loss: 0.4777\n"
     ]
    },
    {
     "name": "stderr",
     "output_type": "stream",
     "text": [
      "100%|██████████████████████████████████████████████████████████████████████████████| 203/203 [00:00<00:00, 1015.01it/s]\n",
      "  0%|                                                                                          | 0/203 [00:00<?, ?it/s]"
     ]
    },
    {
     "name": "stdout",
     "output_type": "stream",
     "text": [
      "epoch [135/500], Loss: 0.5217\n"
     ]
    },
    {
     "name": "stderr",
     "output_type": "stream",
     "text": [
      "100%|██████████████████████████████████████████████████████████████████████████████| 203/203 [00:00<00:00, 1000.09it/s]\n",
      " 49%|██████████████████████████████████████▉                                        | 100/203 [00:00<00:00, 934.57it/s]"
     ]
    },
    {
     "name": "stdout",
     "output_type": "stream",
     "text": [
      "epoch [136/500], Loss: 0.6611\n"
     ]
    },
    {
     "name": "stderr",
     "output_type": "stream",
     "text": [
      "100%|███████████████████████████████████████████████████████████████████████████████| 203/203 [00:00<00:00, 910.31it/s]\n",
      " 49%|██████████████████████████████████████▉                                        | 100/203 [00:00<00:00, 813.01it/s]"
     ]
    },
    {
     "name": "stdout",
     "output_type": "stream",
     "text": [
      "epoch [137/500], Loss: 0.6041\n"
     ]
    },
    {
     "name": "stderr",
     "output_type": "stream",
     "text": [
      "100%|███████████████████████████████████████████████████████████████████████████████| 203/203 [00:00<00:00, 894.27it/s]\n",
      " 49%|██████████████████████████████████████▉                                        | 100/203 [00:00<00:00, 980.40it/s]"
     ]
    },
    {
     "name": "stdout",
     "output_type": "stream",
     "text": [
      "epoch [138/500], Loss: 0.5304\n"
     ]
    },
    {
     "name": "stderr",
     "output_type": "stream",
     "text": [
      "100%|███████████████████████████████████████████████████████████████████████████████| 203/203 [00:00<00:00, 962.08it/s]\n",
      " 49%|██████████████████████████████████████▉                                        | 100/203 [00:00<00:00, 925.94it/s]"
     ]
    },
    {
     "name": "stdout",
     "output_type": "stream",
     "text": [
      "epoch [139/500], Loss: 0.4104\n"
     ]
    },
    {
     "name": "stderr",
     "output_type": "stream",
     "text": [
      "100%|███████████████████████████████████████████████████████████████████████████████| 203/203 [00:00<00:00, 931.20it/s]\n",
      " 49%|██████████████████████████████████████▉                                        | 100/203 [00:00<00:00, 925.93it/s]"
     ]
    },
    {
     "name": "stdout",
     "output_type": "stream",
     "text": [
      "epoch [140/500], Loss: 0.5027\n"
     ]
    },
    {
     "name": "stderr",
     "output_type": "stream",
     "text": [
      "100%|███████████████████████████████████████████████████████████████████████████████| 203/203 [00:00<00:00, 985.28it/s]\n",
      "100%|██████████████████████████████████████████████████████████████████████████████| 203/203 [00:00<00:00, 1009.97it/s]"
     ]
    },
    {
     "name": "stdout",
     "output_type": "stream",
     "text": [
      "epoch [141/500], Loss: 0.4975\n"
     ]
    },
    {
     "name": "stderr",
     "output_type": "stream",
     "text": [
      "\n",
      " 49%|██████████████████████████████████████▉                                        | 100/203 [00:00<00:00, 980.37it/s]"
     ]
    },
    {
     "name": "stdout",
     "output_type": "stream",
     "text": [
      "epoch [142/500], Loss: 0.6007\n"
     ]
    },
    {
     "name": "stderr",
     "output_type": "stream",
     "text": [
      "100%|██████████████████████████████████████████████████████████████████████████████| 203/203 [00:00<00:00, 1009.94it/s]\n",
      " 49%|██████████████████████████████████████▉                                        | 100/203 [00:00<00:00, 980.42it/s]"
     ]
    },
    {
     "name": "stdout",
     "output_type": "stream",
     "text": [
      "epoch [143/500], Loss: 0.7396\n"
     ]
    },
    {
     "name": "stderr",
     "output_type": "stream",
     "text": [
      "100%|███████████████████████████████████████████████████████████████████████████████| 203/203 [00:00<00:00, 931.21it/s]\n",
      " 49%|██████████████████████████████████████▉                                        | 100/203 [00:00<00:00, 952.37it/s]"
     ]
    },
    {
     "name": "stdout",
     "output_type": "stream",
     "text": [
      "epoch [144/500], Loss: 0.6453\n"
     ]
    },
    {
     "name": "stderr",
     "output_type": "stream",
     "text": [
      "100%|███████████████████████████████████████████████████████████████████████████████| 203/203 [00:00<00:00, 971.29it/s]\n",
      " 49%|██████████████████████████████████████▉                                        | 100/203 [00:00<00:00, 892.59it/s]"
     ]
    },
    {
     "name": "stdout",
     "output_type": "stream",
     "text": [
      "epoch [145/500], Loss: 0.6039\n"
     ]
    },
    {
     "name": "stderr",
     "output_type": "stream",
     "text": [
      "100%|███████████████████████████████████████████████████████████████████████████████| 203/203 [00:00<00:00, 918.56it/s]\n",
      " 49%|██████████████████████████████████████▉                                        | 100/203 [00:00<00:00, 925.93it/s]"
     ]
    },
    {
     "name": "stdout",
     "output_type": "stream",
     "text": [
      "epoch [146/500], Loss: 0.5911\n"
     ]
    },
    {
     "name": "stderr",
     "output_type": "stream",
     "text": [
      "100%|███████████████████████████████████████████████████████████████████████████████| 203/203 [00:00<00:00, 962.08it/s]\n",
      " 49%|██████████████████████████████████████▉                                        | 100/203 [00:00<00:00, 884.94it/s]"
     ]
    },
    {
     "name": "stdout",
     "output_type": "stream",
     "text": [
      "epoch [147/500], Loss: 0.5004\n"
     ]
    },
    {
     "name": "stderr",
     "output_type": "stream",
     "text": [
      "100%|███████████████████████████████████████████████████████████████████████████████| 203/203 [00:00<00:00, 867.52it/s]\n",
      " 49%|██████████████████████████████████████▉                                        | 100/203 [00:00<00:00, 934.57it/s]"
     ]
    },
    {
     "name": "stdout",
     "output_type": "stream",
     "text": [
      "epoch [148/500], Loss: 0.5591\n"
     ]
    },
    {
     "name": "stderr",
     "output_type": "stream",
     "text": [
      "100%|███████████████████████████████████████████████████████████████████████████████| 203/203 [00:00<00:00, 966.67it/s]\n",
      " 49%|██████████████████████████████████████▉                                        | 100/203 [00:00<00:00, 980.38it/s]"
     ]
    },
    {
     "name": "stdout",
     "output_type": "stream",
     "text": [
      "epoch [149/500], Loss: 0.6278\n"
     ]
    },
    {
     "name": "stderr",
     "output_type": "stream",
     "text": [
      "100%|███████████████████████████████████████████████████████████████████████████████| 203/203 [00:00<00:00, 980.68it/s]\n",
      "  0%|                                                                                          | 0/203 [00:00<?, ?it/s]"
     ]
    },
    {
     "name": "stdout",
     "output_type": "stream",
     "text": [
      "epoch [150/500], Loss: 0.4778\n"
     ]
    },
    {
     "name": "stderr",
     "output_type": "stream",
     "text": [
      "100%|██████████████████████████████████████████████████████████████████████████████| 203/203 [00:00<00:00, 1046.40it/s]\n",
      " 49%|██████████████████████████████████████▉                                        | 100/203 [00:00<00:00, 952.53it/s]"
     ]
    },
    {
     "name": "stdout",
     "output_type": "stream",
     "text": [
      "epoch [151/500], Loss: 0.5215\n"
     ]
    },
    {
     "name": "stderr",
     "output_type": "stream",
     "text": [
      "100%|███████████████████████████████████████████████████████████████████████████████| 203/203 [00:00<00:00, 927.04it/s]\n",
      " 49%|██████████████████████████████████████▉                                        | 100/203 [00:00<00:00, 961.54it/s]"
     ]
    },
    {
     "name": "stdout",
     "output_type": "stream",
     "text": [
      "epoch [152/500], Loss: 0.7454\n"
     ]
    },
    {
     "name": "stderr",
     "output_type": "stream",
     "text": [
      "100%|███████████████████████████████████████████████████████████████████████████████| 203/203 [00:00<00:00, 906.25it/s]\n",
      " 99%|████████████████████████████████████████████████████████████████████████████▊ | 200/203 [00:00<00:00, 1036.27it/s]"
     ]
    },
    {
     "name": "stdout",
     "output_type": "stream",
     "text": [
      "epoch [153/500], Loss: 0.8893\n"
     ]
    },
    {
     "name": "stderr",
     "output_type": "stream",
     "text": [
      "100%|██████████████████████████████████████████████████████████████████████████████| 203/203 [00:00<00:00, 1046.40it/s]\n",
      " 49%|██████████████████████████████████████▉                                        | 100/203 [00:00<00:00, 943.40it/s]"
     ]
    },
    {
     "name": "stdout",
     "output_type": "stream",
     "text": [
      "epoch [154/500], Loss: 0.7733\n"
     ]
    },
    {
     "name": "stderr",
     "output_type": "stream",
     "text": [
      "100%|███████████████████████████████████████████████████████████████████████████████| 203/203 [00:00<00:00, 906.24it/s]\n",
      " 49%|██████████████████████████████████████▉                                        | 100/203 [00:00<00:00, 934.59it/s]"
     ]
    },
    {
     "name": "stdout",
     "output_type": "stream",
     "text": [
      "epoch [155/500], Loss: 0.7726\n"
     ]
    },
    {
     "name": "stderr",
     "output_type": "stream",
     "text": [
      "100%|███████████████████████████████████████████████████████████████████████████████| 203/203 [00:00<00:00, 953.07it/s]\n",
      " 49%|██████████████████████████████████████▉                                        | 100/203 [00:00<00:00, 934.56it/s]"
     ]
    },
    {
     "name": "stdout",
     "output_type": "stream",
     "text": [
      "epoch [156/500], Loss: 0.8948\n"
     ]
    },
    {
     "name": "stderr",
     "output_type": "stream",
     "text": [
      "100%|███████████████████████████████████████████████████████████████████████████████| 203/203 [00:00<00:00, 966.67it/s]\n",
      "  0%|                                                                                          | 0/203 [00:00<?, ?it/s]"
     ]
    },
    {
     "name": "stdout",
     "output_type": "stream",
     "text": [
      "epoch [157/500], Loss: 1.0567\n"
     ]
    },
    {
     "name": "stderr",
     "output_type": "stream",
     "text": [
      "100%|██████████████████████████████████████████████████████████████████████████████| 203/203 [00:00<00:00, 1030.45it/s]\n",
      " 49%|██████████████████████████████████████▉                                        | 100/203 [00:00<00:00, 952.37it/s]"
     ]
    },
    {
     "name": "stdout",
     "output_type": "stream",
     "text": [
      "epoch [158/500], Loss: 0.8693\n"
     ]
    },
    {
     "name": "stderr",
     "output_type": "stream",
     "text": [
      "100%|███████████████████████████████████████████████████████████████████████████████| 203/203 [00:00<00:00, 867.53it/s]\n",
      " 49%|██████████████████████████████████████▉                                        | 100/203 [00:00<00:00, 602.42it/s]"
     ]
    },
    {
     "name": "stdout",
     "output_type": "stream",
     "text": [
      "epoch [159/500], Loss: 0.4690\n"
     ]
    },
    {
     "name": "stderr",
     "output_type": "stream",
     "text": [
      "100%|███████████████████████████████████████████████████████████████████████████████| 203/203 [00:00<00:00, 692.84it/s]\n",
      " 49%|██████████████████████████████████████▉                                        | 100/203 [00:00<00:00, 840.34it/s]"
     ]
    },
    {
     "name": "stdout",
     "output_type": "stream",
     "text": [
      "epoch [160/500], Loss: 0.5801\n"
     ]
    },
    {
     "name": "stderr",
     "output_type": "stream",
     "text": [
      "100%|███████████████████████████████████████████████████████████████████████████████| 203/203 [00:00<00:00, 878.78it/s]\n",
      " 49%|██████████████████████████████████████▉                                        | 100/203 [00:00<00:00, 943.38it/s]"
     ]
    },
    {
     "name": "stdout",
     "output_type": "stream",
     "text": [
      "epoch [161/500], Loss: 0.7788\n"
     ]
    },
    {
     "name": "stderr",
     "output_type": "stream",
     "text": [
      "100%|███████████████████████████████████████████████████████████████████████████████| 203/203 [00:00<00:00, 910.31it/s]\n",
      " 49%|██████████████████████████████████████▉                                        | 100/203 [00:00<00:00, 763.35it/s]"
     ]
    },
    {
     "name": "stdout",
     "output_type": "stream",
     "text": [
      "epoch [162/500], Loss: 0.5926\n"
     ]
    },
    {
     "name": "stderr",
     "output_type": "stream",
     "text": [
      "100%|███████████████████████████████████████████████████████████████████████████████| 203/203 [00:00<00:00, 792.97it/s]\n",
      " 49%|██████████████████████████████████████▉                                        | 100/203 [00:00<00:00, 869.56it/s]"
     ]
    },
    {
     "name": "stdout",
     "output_type": "stream",
     "text": [
      "epoch [163/500], Loss: 0.3980\n"
     ]
    },
    {
     "name": "stderr",
     "output_type": "stream",
     "text": [
      "100%|███████████████████████████████████████████████████████████████████████████████| 203/203 [00:00<00:00, 926.93it/s]\n",
      "  0%|                                                                                          | 0/203 [00:00<?, ?it/s]"
     ]
    },
    {
     "name": "stdout",
     "output_type": "stream",
     "text": [
      "epoch [164/500], Loss: 0.4371\n"
     ]
    },
    {
     "name": "stderr",
     "output_type": "stream",
     "text": [
      "100%|███████████████████████████████████████████████████████████████████████████████| 203/203 [00:00<00:00, 966.56it/s]\n",
      " 49%|██████████████████████████████████████▉                                        | 100/203 [00:00<00:00, 909.08it/s]"
     ]
    },
    {
     "name": "stdout",
     "output_type": "stream",
     "text": [
      "epoch [165/500], Loss: 0.3698\n"
     ]
    },
    {
     "name": "stderr",
     "output_type": "stream",
     "text": [
      "100%|███████████████████████████████████████████████████████████████████████████████| 203/203 [00:00<00:00, 939.81it/s]\n",
      " 49%|██████████████████████████████████████▉                                        | 100/203 [00:00<00:00, 952.38it/s]"
     ]
    },
    {
     "name": "stdout",
     "output_type": "stream",
     "text": [
      "epoch [166/500], Loss: 0.6349\n"
     ]
    },
    {
     "name": "stderr",
     "output_type": "stream",
     "text": [
      "100%|███████████████████████████████████████████████████████████████████████████████| 203/203 [00:00<00:00, 898.22it/s]\n",
      " 49%|██████████████████████████████████████▉                                        | 100/203 [00:00<00:00, 884.94it/s]"
     ]
    },
    {
     "name": "stdout",
     "output_type": "stream",
     "text": [
      "epoch [167/500], Loss: 0.9244\n"
     ]
    },
    {
     "name": "stderr",
     "output_type": "stream",
     "text": [
      "100%|███████████████████████████████████████████████████████████████████████████████| 203/203 [00:00<00:00, 918.54it/s]\n",
      " 49%|██████████████████████████████████████▉                                        | 100/203 [00:00<00:00, 943.40it/s]"
     ]
    },
    {
     "name": "stdout",
     "output_type": "stream",
     "text": [
      "epoch [168/500], Loss: 0.7610\n"
     ]
    },
    {
     "name": "stderr",
     "output_type": "stream",
     "text": [
      "100%|███████████████████████████████████████████████████████████████████████████████| 203/203 [00:00<00:00, 914.42it/s]\n",
      " 99%|█████████████████████████████████████████████████████████████████████████████▊ | 200/203 [00:00<00:00, 990.09it/s]"
     ]
    },
    {
     "name": "stdout",
     "output_type": "stream",
     "text": [
      "epoch [169/500], Loss: 0.6202\n"
     ]
    },
    {
     "name": "stderr",
     "output_type": "stream",
     "text": [
      "100%|██████████████████████████████████████████████████████████████████████████████| 203/203 [00:00<00:00, 1000.00it/s]\n",
      " 49%|██████████████████████████████████████▉                                        | 100/203 [00:00<00:00, 952.38it/s]"
     ]
    },
    {
     "name": "stdout",
     "output_type": "stream",
     "text": [
      "epoch [170/500], Loss: 0.5326\n"
     ]
    },
    {
     "name": "stderr",
     "output_type": "stream",
     "text": [
      "100%|███████████████████████████████████████████████████████████████████████████████| 203/203 [00:00<00:00, 975.96it/s]\n",
      "  0%|                                                                                          | 0/203 [00:00<?, ?it/s]"
     ]
    },
    {
     "name": "stdout",
     "output_type": "stream",
     "text": [
      "epoch [171/500], Loss: 0.4912\n"
     ]
    },
    {
     "name": "stderr",
     "output_type": "stream",
     "text": [
      "100%|██████████████████████████████████████████████████████████████████████████████| 203/203 [00:00<00:00, 1035.70it/s]\n",
      " 49%|██████████████████████████████████████▉                                        | 100/203 [00:00<00:00, 980.36it/s]"
     ]
    },
    {
     "name": "stdout",
     "output_type": "stream",
     "text": [
      "epoch [172/500], Loss: 0.5312\n"
     ]
    },
    {
     "name": "stderr",
     "output_type": "stream",
     "text": [
      "100%|██████████████████████████████████████████████████████████████████████████████| 203/203 [00:00<00:00, 1035.52it/s]\n",
      " 49%|██████████████████████████████████████▉                                        | 100/203 [00:00<00:00, 892.84it/s]"
     ]
    },
    {
     "name": "stdout",
     "output_type": "stream",
     "text": [
      "epoch [173/500], Loss: 0.5338\n"
     ]
    },
    {
     "name": "stderr",
     "output_type": "stream",
     "text": [
      "100%|███████████████████████████████████████████████████████████████████████████████| 203/203 [00:00<00:00, 926.93it/s]\n",
      "  0%|                                                                                          | 0/203 [00:00<?, ?it/s]"
     ]
    },
    {
     "name": "stdout",
     "output_type": "stream",
     "text": [
      "epoch [174/500], Loss: 0.4589\n"
     ]
    },
    {
     "name": "stderr",
     "output_type": "stream",
     "text": [
      "100%|██████████████████████████████████████████████████████████████████████████████| 203/203 [00:00<00:00, 1000.00it/s]\n",
      "  0%|                                                                                          | 0/203 [00:00<?, ?it/s]"
     ]
    },
    {
     "name": "stdout",
     "output_type": "stream",
     "text": [
      "epoch [175/500], Loss: 0.5003\n"
     ]
    },
    {
     "name": "stderr",
     "output_type": "stream",
     "text": [
      "100%|██████████████████████████████████████████████████████████████████████████████| 203/203 [00:00<00:00, 1020.09it/s]\n",
      "  0%|                                                                                          | 0/203 [00:00<?, ?it/s]"
     ]
    },
    {
     "name": "stdout",
     "output_type": "stream",
     "text": [
      "epoch [176/500], Loss: 0.5623\n"
     ]
    },
    {
     "name": "stderr",
     "output_type": "stream",
     "text": [
      "100%|██████████████████████████████████████████████████████████████████████████████| 203/203 [00:00<00:00, 1009.95it/s]\n",
      "  0%|                                                                                          | 0/203 [00:00<?, ?it/s]"
     ]
    },
    {
     "name": "stdout",
     "output_type": "stream",
     "text": [
      "epoch [177/500], Loss: 0.9411\n"
     ]
    },
    {
     "name": "stderr",
     "output_type": "stream",
     "text": [
      "100%|██████████████████████████████████████████████████████████████████████████████| 203/203 [00:00<00:00, 1020.10it/s]\n",
      "  0%|                                                                                          | 0/203 [00:00<?, ?it/s]"
     ]
    },
    {
     "name": "stdout",
     "output_type": "stream",
     "text": [
      "epoch [178/500], Loss: 0.8214\n"
     ]
    },
    {
     "name": "stderr",
     "output_type": "stream",
     "text": [
      "100%|██████████████████████████████████████████████████████████████████████████████| 203/203 [00:00<00:00, 1014.95it/s]\n",
      "  0%|                                                                                          | 0/203 [00:00<?, ?it/s]"
     ]
    },
    {
     "name": "stdout",
     "output_type": "stream",
     "text": [
      "epoch [179/500], Loss: 0.4515\n"
     ]
    },
    {
     "name": "stderr",
     "output_type": "stream",
     "text": [
      "100%|██████████████████████████████████████████████████████████████████████████████| 203/203 [00:00<00:00, 1035.60it/s]\n",
      " 99%|████████████████████████████████████████████████████████████████████████████▊ | 200/203 [00:00<00:00, 1075.28it/s]"
     ]
    },
    {
     "name": "stdout",
     "output_type": "stream",
     "text": [
      "epoch [180/500], Loss: 0.6664\n"
     ]
    },
    {
     "name": "stderr",
     "output_type": "stream",
     "text": [
      "100%|██████████████████████████████████████████████████████████████████████████████| 203/203 [00:00<00:00, 1085.57it/s]\n",
      " 49%|██████████████████████████████████████▉                                        | 100/203 [00:00<00:00, 925.93it/s]"
     ]
    },
    {
     "name": "stdout",
     "output_type": "stream",
     "text": [
      "epoch [181/500], Loss: 0.4963\n"
     ]
    },
    {
     "name": "stderr",
     "output_type": "stream",
     "text": [
      "100%|███████████████████████████████████████████████████████████████████████████████| 203/203 [00:00<00:00, 910.32it/s]\n",
      " 49%|██████████████████████████████████████▉                                        | 100/203 [00:00<00:00, 917.41it/s]"
     ]
    },
    {
     "name": "stdout",
     "output_type": "stream",
     "text": [
      "epoch [182/500], Loss: 0.4566\n"
     ]
    },
    {
     "name": "stderr",
     "output_type": "stream",
     "text": [
      "100%|███████████████████████████████████████████████████████████████████████████████| 203/203 [00:00<00:00, 922.73it/s]\n",
      " 49%|██████████████████████████████████████▉                                        | 100/203 [00:00<00:00, 990.09it/s]"
     ]
    },
    {
     "name": "stdout",
     "output_type": "stream",
     "text": [
      "epoch [183/500], Loss: 0.5934\n"
     ]
    },
    {
     "name": "stderr",
     "output_type": "stream",
     "text": [
      "100%|███████████████████████████████████████████████████████████████████████████████| 203/203 [00:00<00:00, 944.19it/s]\n",
      " 49%|██████████████████████████████████████▉                                        | 100/203 [00:00<00:00, 727.26it/s]"
     ]
    },
    {
     "name": "stdout",
     "output_type": "stream",
     "text": [
      "epoch [184/500], Loss: 0.5481\n"
     ]
    },
    {
     "name": "stderr",
     "output_type": "stream",
     "text": [
      "100%|███████████████████████████████████████████████████████████████████████████████| 203/203 [00:00<00:00, 776.28it/s]\n",
      " 49%|██████████████████████████████████████▉                                        | 100/203 [00:00<00:00, 917.42it/s]"
     ]
    },
    {
     "name": "stdout",
     "output_type": "stream",
     "text": [
      "epoch [185/500], Loss: 0.6853\n"
     ]
    },
    {
     "name": "stderr",
     "output_type": "stream",
     "text": [
      "100%|███████████████████████████████████████████████████████████████████████████████| 203/203 [00:00<00:00, 962.09it/s]\n",
      " 49%|██████████████████████████████████████▉                                        | 100/203 [00:00<00:00, 990.10it/s]"
     ]
    },
    {
     "name": "stdout",
     "output_type": "stream",
     "text": [
      "epoch [186/500], Loss: 0.6947\n"
     ]
    },
    {
     "name": "stderr",
     "output_type": "stream",
     "text": [
      "100%|███████████████████████████████████████████████████████████████████████████████| 203/203 [00:00<00:00, 985.44it/s]\n",
      "  0%|                                                                                          | 0/203 [00:00<?, ?it/s]"
     ]
    },
    {
     "name": "stdout",
     "output_type": "stream",
     "text": [
      "epoch [187/500], Loss: 0.5669\n"
     ]
    },
    {
     "name": "stderr",
     "output_type": "stream",
     "text": [
      "100%|███████████████████████████████████████████████████████████████████████████████| 203/203 [00:00<00:00, 980.68it/s]\n",
      " 49%|██████████████████████████████████████▉                                        | 100/203 [00:00<00:00, 952.52it/s]"
     ]
    },
    {
     "name": "stdout",
     "output_type": "stream",
     "text": [
      "epoch [188/500], Loss: 0.6280\n"
     ]
    },
    {
     "name": "stderr",
     "output_type": "stream",
     "text": [
      "100%|███████████████████████████████████████████████████████████████████████████████| 203/203 [00:00<00:00, 953.12it/s]\n",
      " 49%|██████████████████████████████████████▉                                        | 100/203 [00:00<00:00, 961.50it/s]"
     ]
    },
    {
     "name": "stdout",
     "output_type": "stream",
     "text": [
      "epoch [189/500], Loss: 0.5338\n"
     ]
    },
    {
     "name": "stderr",
     "output_type": "stream",
     "text": [
      "100%|███████████████████████████████████████████████████████████████████████████████| 203/203 [00:00<00:00, 995.09it/s]\n",
      " 49%|██████████████████████████████████████▉                                        | 100/203 [00:00<00:00, 934.57it/s]"
     ]
    },
    {
     "name": "stdout",
     "output_type": "stream",
     "text": [
      "epoch [190/500], Loss: 0.4031\n"
     ]
    },
    {
     "name": "stderr",
     "output_type": "stream",
     "text": [
      "100%|███████████████████████████████████████████████████████████████████████████████| 203/203 [00:00<00:00, 948.60it/s]\n",
      " 49%|██████████████████████████████████████▉                                        | 100/203 [00:00<00:00, 909.09it/s]"
     ]
    },
    {
     "name": "stdout",
     "output_type": "stream",
     "text": [
      "epoch [191/500], Loss: 0.4878\n"
     ]
    },
    {
     "name": "stderr",
     "output_type": "stream",
     "text": [
      "100%|███████████████████████████████████████████████████████████████████████████████| 203/203 [00:00<00:00, 914.42it/s]\n",
      " 49%|██████████████████████████████████████▉                                        | 100/203 [00:00<00:00, 980.39it/s]"
     ]
    },
    {
     "name": "stdout",
     "output_type": "stream",
     "text": [
      "epoch [192/500], Loss: 0.7010\n"
     ]
    },
    {
     "name": "stderr",
     "output_type": "stream",
     "text": [
      "100%|███████████████████████████████████████████████████████████████████████████████| 203/203 [00:00<00:00, 971.31it/s]\n",
      " 49%|██████████████████████████████████████▉                                        | 100/203 [00:00<00:00, 943.38it/s]"
     ]
    },
    {
     "name": "stdout",
     "output_type": "stream",
     "text": [
      "epoch [193/500], Loss: 0.6990\n"
     ]
    },
    {
     "name": "stderr",
     "output_type": "stream",
     "text": [
      "100%|███████████████████████████████████████████████████████████████████████████████| 203/203 [00:00<00:00, 939.80it/s]\n",
      "  0%|                                                                                          | 0/203 [00:00<?, ?it/s]"
     ]
    },
    {
     "name": "stdout",
     "output_type": "stream",
     "text": [
      "epoch [194/500], Loss: 0.4532\n"
     ]
    },
    {
     "name": "stderr",
     "output_type": "stream",
     "text": [
      "100%|███████████████████████████████████████████████████████████████████████████████| 203/203 [00:00<00:00, 980.68it/s]\n",
      " 49%|██████████████████████████████████████▉                                        | 100/203 [00:00<00:00, 980.39it/s]"
     ]
    },
    {
     "name": "stdout",
     "output_type": "stream",
     "text": [
      "epoch [195/500], Loss: 0.6297\n"
     ]
    },
    {
     "name": "stderr",
     "output_type": "stream",
     "text": [
      "100%|███████████████████████████████████████████████████████████████████████████████| 203/203 [00:00<00:00, 995.10it/s]\n",
      " 99%|█████████████████████████████████████████████████████████████████████████████▊ | 200/203 [00:00<00:00, 988.38it/s]"
     ]
    },
    {
     "name": "stdout",
     "output_type": "stream",
     "text": [
      "epoch [196/500], Loss: 0.9825\n"
     ]
    },
    {
     "name": "stderr",
     "output_type": "stream",
     "text": [
      "100%|██████████████████████████████████████████████████████████████████████████████| 203/203 [00:00<00:00, 1004.95it/s]\n",
      " 49%|██████████████████████████████████████▉                                        | 100/203 [00:00<00:00, 970.87it/s]"
     ]
    },
    {
     "name": "stdout",
     "output_type": "stream",
     "text": [
      "epoch [197/500], Loss: 0.7895\n"
     ]
    },
    {
     "name": "stderr",
     "output_type": "stream",
     "text": [
      "100%|███████████████████████████████████████████████████████████████████████████████| 203/203 [00:00<00:00, 914.42it/s]\n",
      " 49%|██████████████████████████████████████▉                                        | 100/203 [00:00<00:00, 990.12it/s]"
     ]
    },
    {
     "name": "stdout",
     "output_type": "stream",
     "text": [
      "epoch [198/500], Loss: 0.5224\n"
     ]
    },
    {
     "name": "stderr",
     "output_type": "stream",
     "text": [
      "100%|███████████████████████████████████████████████████████████████████████████████| 203/203 [00:00<00:00, 985.44it/s]\n",
      " 49%|██████████████████████████████████████▉                                        | 100/203 [00:00<00:00, 892.82it/s]"
     ]
    },
    {
     "name": "stdout",
     "output_type": "stream",
     "text": [
      "epoch [199/500], Loss: 0.4210\n"
     ]
    },
    {
     "name": "stderr",
     "output_type": "stream",
     "text": [
      "100%|███████████████████████████████████████████████████████████████████████████████| 203/203 [00:00<00:00, 906.25it/s]\n",
      "  0%|                                                                                          | 0/203 [00:00<?, ?it/s]"
     ]
    },
    {
     "name": "stdout",
     "output_type": "stream",
     "text": [
      "epoch [200/500], Loss: 0.6844\n"
     ]
    },
    {
     "name": "stderr",
     "output_type": "stream",
     "text": [
      "100%|███████████████████████████████████████████████████████████████████████████████| 203/203 [00:00<00:00, 966.67it/s]\n",
      " 49%|██████████████████████████████████████▉                                        | 100/203 [00:00<00:00, 980.36it/s]"
     ]
    },
    {
     "name": "stdout",
     "output_type": "stream",
     "text": [
      "epoch [201/500], Loss: 0.8398\n"
     ]
    },
    {
     "name": "stderr",
     "output_type": "stream",
     "text": [
      "100%|███████████████████████████████████████████████████████████████████████████████| 203/203 [00:00<00:00, 990.23it/s]\n",
      " 49%|██████████████████████████████████████▉                                        | 100/203 [00:00<00:00, 869.57it/s]"
     ]
    },
    {
     "name": "stdout",
     "output_type": "stream",
     "text": [
      "epoch [202/500], Loss: 0.6271\n"
     ]
    },
    {
     "name": "stderr",
     "output_type": "stream",
     "text": [
      "100%|███████████████████████████████████████████████████████████████████████████████| 203/203 [00:00<00:00, 882.60it/s]\n",
      "  0%|                                                                                          | 0/203 [00:00<?, ?it/s]"
     ]
    },
    {
     "name": "stdout",
     "output_type": "stream",
     "text": [
      "epoch [203/500], Loss: 0.4901\n"
     ]
    },
    {
     "name": "stderr",
     "output_type": "stream",
     "text": [
      "100%|███████████████████████████████████████████████████████████████████████████████| 203/203 [00:00<00:00, 990.08it/s]\n",
      "  0%|                                                                                          | 0/203 [00:00<?, ?it/s]"
     ]
    },
    {
     "name": "stdout",
     "output_type": "stream",
     "text": [
      "epoch [204/500], Loss: 0.3564\n"
     ]
    },
    {
     "name": "stderr",
     "output_type": "stream",
     "text": [
      "100%|███████████████████████████████████████████████████████████████████████████████| 203/203 [00:00<00:00, 957.65it/s]\n",
      " 49%|██████████████████████████████████████▉                                        | 100/203 [00:00<00:00, 869.55it/s]"
     ]
    },
    {
     "name": "stdout",
     "output_type": "stream",
     "text": [
      "epoch [205/500], Loss: 0.4968\n"
     ]
    },
    {
     "name": "stderr",
     "output_type": "stream",
     "text": [
      "100%|███████████████████████████████████████████████████████████████████████████████| 203/203 [00:00<00:00, 894.27it/s]\n",
      " 49%|██████████████████████████████████████▉                                        | 100/203 [00:00<00:00, 970.86it/s]"
     ]
    },
    {
     "name": "stdout",
     "output_type": "stream",
     "text": [
      "epoch [206/500], Loss: 0.7303\n"
     ]
    },
    {
     "name": "stderr",
     "output_type": "stream",
     "text": [
      "100%|███████████████████████████████████████████████████████████████████████████████| 203/203 [00:00<00:00, 914.42it/s]\n",
      " 49%|██████████████████████████████████████▉                                        | 100/203 [00:00<00:00, 934.59it/s]"
     ]
    },
    {
     "name": "stdout",
     "output_type": "stream",
     "text": [
      "epoch [207/500], Loss: 0.6204\n"
     ]
    },
    {
     "name": "stderr",
     "output_type": "stream",
     "text": [
      "100%|███████████████████████████████████████████████████████████████████████████████| 203/203 [00:00<00:00, 948.60it/s]\n",
      " 49%|██████████████████████████████████████▉                                        | 100/203 [00:00<00:00, 877.20it/s]"
     ]
    },
    {
     "name": "stdout",
     "output_type": "stream",
     "text": [
      "epoch [208/500], Loss: 0.3478\n"
     ]
    },
    {
     "name": "stderr",
     "output_type": "stream",
     "text": [
      "100%|███████████████████████████████████████████████████████████████████████████████| 203/203 [00:00<00:00, 902.09it/s]\n",
      " 80%|██████████████████████████████████████████████████████████████▏               | 162/203 [00:00<00:00, 1604.00it/s]"
     ]
    },
    {
     "name": "stdout",
     "output_type": "stream",
     "text": [
      "epoch [209/500], Loss: 0.4165\n"
     ]
    },
    {
     "name": "stderr",
     "output_type": "stream",
     "text": [
      "100%|███████████████████████████████████████████████████████████████████████████████| 203/203 [00:00<00:00, 957.55it/s]\n",
      " 49%|██████████████████████████████████████▉                                        | 100/203 [00:00<00:00, 943.40it/s]"
     ]
    },
    {
     "name": "stdout",
     "output_type": "stream",
     "text": [
      "epoch [210/500], Loss: 0.4428\n"
     ]
    },
    {
     "name": "stderr",
     "output_type": "stream",
     "text": [
      "100%|███████████████████████████████████████████████████████████████████████████████| 203/203 [00:00<00:00, 953.06it/s]\n",
      " 49%|██████████████████████████████████████▉                                        | 100/203 [00:00<00:00, 909.08it/s]"
     ]
    },
    {
     "name": "stdout",
     "output_type": "stream",
     "text": [
      "epoch [211/500], Loss: 0.5841\n"
     ]
    },
    {
     "name": "stderr",
     "output_type": "stream",
     "text": [
      "100%|███████████████████████████████████████████████████████████████████████████████| 203/203 [00:00<00:00, 898.22it/s]\n",
      " 49%|██████████████████████████████████████▉                                        | 100/203 [00:00<00:00, 943.41it/s]"
     ]
    },
    {
     "name": "stdout",
     "output_type": "stream",
     "text": [
      "epoch [212/500], Loss: 0.6819\n"
     ]
    },
    {
     "name": "stderr",
     "output_type": "stream",
     "text": [
      "100%|███████████████████████████████████████████████████████████████████████████████| 203/203 [00:00<00:00, 922.73it/s]\n",
      " 49%|██████████████████████████████████████▉                                        | 100/203 [00:00<00:00, 900.85it/s]"
     ]
    },
    {
     "name": "stdout",
     "output_type": "stream",
     "text": [
      "epoch [213/500], Loss: 0.7145\n"
     ]
    },
    {
     "name": "stderr",
     "output_type": "stream",
     "text": [
      "100%|███████████████████████████████████████████████████████████████████████████████| 203/203 [00:00<00:00, 944.18it/s]\n",
      " 49%|██████████████████████████████████████▉                                        | 100/203 [00:00<00:00, 990.09it/s]"
     ]
    },
    {
     "name": "stdout",
     "output_type": "stream",
     "text": [
      "epoch [214/500], Loss: 0.5563\n"
     ]
    },
    {
     "name": "stderr",
     "output_type": "stream",
     "text": [
      "100%|███████████████████████████████████████████████████████████████████████████████| 203/203 [00:00<00:00, 971.29it/s]\n",
      " 49%|██████████████████████████████████████▉                                        | 100/203 [00:00<00:00, 943.39it/s]"
     ]
    },
    {
     "name": "stdout",
     "output_type": "stream",
     "text": [
      "epoch [215/500], Loss: 0.4541\n"
     ]
    },
    {
     "name": "stderr",
     "output_type": "stream",
     "text": [
      "100%|███████████████████████████████████████████████████████████████████████████████| 203/203 [00:00<00:00, 966.67it/s]\n",
      "  0%|                                                                                          | 0/203 [00:00<?, ?it/s]"
     ]
    },
    {
     "name": "stdout",
     "output_type": "stream",
     "text": [
      "epoch [216/500], Loss: 0.6835\n"
     ]
    },
    {
     "name": "stderr",
     "output_type": "stream",
     "text": [
      "100%|██████████████████████████████████████████████████████████████████████████████| 203/203 [00:00<00:00, 1030.50it/s]\n",
      " 49%|██████████████████████████████████████▉                                        | 100/203 [00:00<00:00, 999.99it/s]"
     ]
    },
    {
     "name": "stdout",
     "output_type": "stream",
     "text": [
      "epoch [217/500], Loss: 0.6968\n"
     ]
    },
    {
     "name": "stderr",
     "output_type": "stream",
     "text": [
      "100%|███████████████████████████████████████████████████████████████████████████████| 203/203 [00:00<00:00, 995.01it/s]\n",
      "  0%|                                                                                          | 0/203 [00:00<?, ?it/s]"
     ]
    },
    {
     "name": "stdout",
     "output_type": "stream",
     "text": [
      "epoch [218/500], Loss: 0.5212\n"
     ]
    },
    {
     "name": "stderr",
     "output_type": "stream",
     "text": [
      "100%|██████████████████████████████████████████████████████████████████████████████| 203/203 [00:00<00:00, 1004.94it/s]\n",
      " 99%|████████████████████████████████████████████████████████████████████████████▊ | 200/203 [00:00<00:00, 1111.11it/s]"
     ]
    },
    {
     "name": "stdout",
     "output_type": "stream",
     "text": [
      "epoch [219/500], Loss: 0.4335\n"
     ]
    },
    {
     "name": "stderr",
     "output_type": "stream",
     "text": [
      "100%|██████████████████████████████████████████████████████████████████████████████| 203/203 [00:00<00:00, 1121.56it/s]\n",
      " 99%|████████████████████████████████████████████████████████████████████████████▊ | 200/203 [00:00<00:00, 1020.42it/s]"
     ]
    },
    {
     "name": "stdout",
     "output_type": "stream",
     "text": [
      "epoch [220/500], Loss: 0.4718\n"
     ]
    },
    {
     "name": "stderr",
     "output_type": "stream",
     "text": [
      "100%|██████████████████████████████████████████████████████████████████████████████| 203/203 [00:00<00:00, 1030.47it/s]\n",
      "  0%|                                                                                          | 0/203 [00:00<?, ?it/s]"
     ]
    },
    {
     "name": "stdout",
     "output_type": "stream",
     "text": [
      "epoch [221/500], Loss: 0.5484\n"
     ]
    },
    {
     "name": "stderr",
     "output_type": "stream",
     "text": [
      "100%|███████████████████████████████████████████████████████████████████████████████| 203/203 [00:00<00:00, 966.68it/s]\n",
      " 49%|██████████████████████████████████████▉                                        | 100/203 [00:00<00:00, 970.82it/s]"
     ]
    },
    {
     "name": "stdout",
     "output_type": "stream",
     "text": [
      "epoch [222/500], Loss: 0.5382\n"
     ]
    },
    {
     "name": "stderr",
     "output_type": "stream",
     "text": [
      "100%|███████████████████████████████████████████████████████████████████████████████| 203/203 [00:00<00:00, 962.08it/s]\n",
      " 49%|██████████████████████████████████████▉                                        | 100/203 [00:00<00:00, 980.39it/s]"
     ]
    },
    {
     "name": "stdout",
     "output_type": "stream",
     "text": [
      "epoch [223/500], Loss: 0.5577\n"
     ]
    },
    {
     "name": "stderr",
     "output_type": "stream",
     "text": [
      "100%|███████████████████████████████████████████████████████████████████████████████| 203/203 [00:00<00:00, 939.82it/s]\n",
      " 49%|██████████████████████████████████████▉                                        | 100/203 [00:00<00:00, 934.54it/s]"
     ]
    },
    {
     "name": "stdout",
     "output_type": "stream",
     "text": [
      "epoch [224/500], Loss: 0.6137\n"
     ]
    },
    {
     "name": "stderr",
     "output_type": "stream",
     "text": [
      "100%|███████████████████████████████████████████████████████████████████████████████| 203/203 [00:00<00:00, 980.65it/s]\n",
      " 49%|██████████████████████████████████████▉                                        | 100/203 [00:00<00:00, 934.57it/s]"
     ]
    },
    {
     "name": "stdout",
     "output_type": "stream",
     "text": [
      "epoch [225/500], Loss: 0.5562\n"
     ]
    },
    {
     "name": "stderr",
     "output_type": "stream",
     "text": [
      "100%|███████████████████████████████████████████████████████████████████████████████| 203/203 [00:00<00:00, 931.19it/s]\n",
      " 49%|██████████████████████████████████████▉                                        | 100/203 [00:00<00:00, 952.40it/s]"
     ]
    },
    {
     "name": "stdout",
     "output_type": "stream",
     "text": [
      "epoch [226/500], Loss: 0.5670\n"
     ]
    },
    {
     "name": "stderr",
     "output_type": "stream",
     "text": [
      "100%|███████████████████████████████████████████████████████████████████████████████| 203/203 [00:00<00:00, 971.32it/s]\n",
      "100%|██████████████████████████████████████████████████████████████████████████████| 203/203 [00:00<00:00, 1020.10it/s]"
     ]
    },
    {
     "name": "stdout",
     "output_type": "stream",
     "text": [
      "epoch [227/500], Loss: 0.5750\n"
     ]
    },
    {
     "name": "stderr",
     "output_type": "stream",
     "text": [
      "\n",
      " 99%|████████████████████████████████████████████████████████████████████████████▊ | 200/203 [00:00<00:00, 1052.66it/s]"
     ]
    },
    {
     "name": "stdout",
     "output_type": "stream",
     "text": [
      "epoch [228/500], Loss: 0.6111\n"
     ]
    },
    {
     "name": "stderr",
     "output_type": "stream",
     "text": [
      "100%|██████████████████████████████████████████████████████████████████████████████| 203/203 [00:00<00:00, 1062.86it/s]\n",
      " 49%|██████████████████████████████████████▉                                        | 100/203 [00:00<00:00, 934.58it/s]"
     ]
    },
    {
     "name": "stdout",
     "output_type": "stream",
     "text": [
      "epoch [229/500], Loss: 0.4735\n"
     ]
    },
    {
     "name": "stderr",
     "output_type": "stream",
     "text": [
      "100%|███████████████████████████████████████████████████████████████████████████████| 203/203 [00:00<00:00, 962.08it/s]\n",
      "  0%|                                                                                          | 0/203 [00:00<?, ?it/s]"
     ]
    },
    {
     "name": "stdout",
     "output_type": "stream",
     "text": [
      "epoch [230/500], Loss: 0.4492\n"
     ]
    },
    {
     "name": "stderr",
     "output_type": "stream",
     "text": [
      "100%|██████████████████████████████████████████████████████████████████████████████| 203/203 [00:00<00:00, 1051.81it/s]\n",
      "  0%|                                                                                          | 0/203 [00:00<?, ?it/s]"
     ]
    },
    {
     "name": "stdout",
     "output_type": "stream",
     "text": [
      "epoch [231/500], Loss: 0.4792\n"
     ]
    },
    {
     "name": "stderr",
     "output_type": "stream",
     "text": [
      "100%|██████████████████████████████████████████████████████████████████████████████| 203/203 [00:00<00:00, 1015.00it/s]\n",
      " 49%|██████████████████████████████████████▉                                        | 100/203 [00:00<00:00, 917.43it/s]"
     ]
    },
    {
     "name": "stdout",
     "output_type": "stream",
     "text": [
      "epoch [232/500], Loss: 0.4473\n"
     ]
    },
    {
     "name": "stderr",
     "output_type": "stream",
     "text": [
      "100%|███████████████████████████████████████████████████████████████████████████████| 203/203 [00:00<00:00, 935.47it/s]\n",
      " 49%|██████████████████████████████████████▉                                        | 100/203 [00:00<00:00, 862.05it/s]"
     ]
    },
    {
     "name": "stdout",
     "output_type": "stream",
     "text": [
      "epoch [233/500], Loss: 0.6242\n"
     ]
    },
    {
     "name": "stderr",
     "output_type": "stream",
     "text": [
      "100%|███████████████████████████████████████████████████████████████████████████████| 203/203 [00:00<00:00, 890.35it/s]\n",
      " 49%|██████████████████████████████████████▉                                        | 100/203 [00:00<00:00, 943.39it/s]"
     ]
    },
    {
     "name": "stdout",
     "output_type": "stream",
     "text": [
      "epoch [234/500], Loss: 0.6710\n"
     ]
    },
    {
     "name": "stderr",
     "output_type": "stream",
     "text": [
      "100%|███████████████████████████████████████████████████████████████████████████████| 203/203 [00:00<00:00, 886.47it/s]\n",
      " 49%|██████████████████████████████████████▉                                        | 100/203 [00:00<00:00, 952.38it/s]"
     ]
    },
    {
     "name": "stdout",
     "output_type": "stream",
     "text": [
      "epoch [235/500], Loss: 0.5356\n"
     ]
    },
    {
     "name": "stderr",
     "output_type": "stream",
     "text": [
      "100%|███████████████████████████████████████████████████████████████████████████████| 203/203 [00:00<00:00, 962.09it/s]\n",
      " 49%|██████████████████████████████████████▉                                        | 100/203 [00:00<00:00, 900.90it/s]"
     ]
    },
    {
     "name": "stdout",
     "output_type": "stream",
     "text": [
      "epoch [236/500], Loss: 0.6121\n"
     ]
    },
    {
     "name": "stderr",
     "output_type": "stream",
     "text": [
      "100%|███████████████████████████████████████████████████████████████████████████████| 203/203 [00:00<00:00, 906.26it/s]\n",
      "  0%|                                                                                          | 0/203 [00:00<?, ?it/s]"
     ]
    },
    {
     "name": "stdout",
     "output_type": "stream",
     "text": [
      "epoch [237/500], Loss: 0.7685\n"
     ]
    },
    {
     "name": "stderr",
     "output_type": "stream",
     "text": [
      "100%|███████████████████████████████████████████████████████████████████████████████| 203/203 [00:00<00:00, 931.27it/s]\n",
      " 49%|██████████████████████████████████████▉                                        | 100/203 [00:00<00:00, 819.67it/s]"
     ]
    },
    {
     "name": "stdout",
     "output_type": "stream",
     "text": [
      "epoch [238/500], Loss: 0.6781\n"
     ]
    },
    {
     "name": "stderr",
     "output_type": "stream",
     "text": [
      "100%|███████████████████████████████████████████████████████████████████████████████| 203/203 [00:00<00:00, 849.36it/s]\n",
      " 49%|██████████████████████████████████████▉                                        | 100/203 [00:00<00:00, 877.17it/s]"
     ]
    },
    {
     "name": "stdout",
     "output_type": "stream",
     "text": [
      "epoch [239/500], Loss: 0.5705\n"
     ]
    },
    {
     "name": "stderr",
     "output_type": "stream",
     "text": [
      "100%|███████████████████████████████████████████████████████████████████████████████| 203/203 [00:00<00:00, 910.31it/s]\n",
      " 49%|██████████████████████████████████████▉                                        | 100/203 [00:00<00:00, 854.69it/s]"
     ]
    },
    {
     "name": "stdout",
     "output_type": "stream",
     "text": [
      "epoch [240/500], Loss: 0.4869\n"
     ]
    },
    {
     "name": "stderr",
     "output_type": "stream",
     "text": [
      "100%|███████████████████████████████████████████████████████████████████████████████| 203/203 [00:00<00:00, 878.79it/s]\n",
      " 49%|██████████████████████████████████████▉                                        | 100/203 [00:00<00:00, 833.33it/s]"
     ]
    },
    {
     "name": "stdout",
     "output_type": "stream",
     "text": [
      "epoch [241/500], Loss: 0.4120\n"
     ]
    },
    {
     "name": "stderr",
     "output_type": "stream",
     "text": [
      "100%|███████████████████████████████████████████████████████████████████████████████| 203/203 [00:00<00:00, 852.94it/s]\n",
      " 49%|██████████████████████████████████████▉                                        | 100/203 [00:00<00:00, 746.26it/s]"
     ]
    },
    {
     "name": "stdout",
     "output_type": "stream",
     "text": [
      "epoch [242/500], Loss: 0.5834\n"
     ]
    },
    {
     "name": "stderr",
     "output_type": "stream",
     "text": [
      "100%|███████████████████████████████████████████████████████████████████████████████| 203/203 [00:00<00:00, 867.52it/s]\n",
      " 49%|██████████████████████████████████████▉                                        | 100/203 [00:00<00:00, 934.56it/s]"
     ]
    },
    {
     "name": "stdout",
     "output_type": "stream",
     "text": [
      "epoch [243/500], Loss: 0.7447\n"
     ]
    },
    {
     "name": "stderr",
     "output_type": "stream",
     "text": [
      "100%|███████████████████████████████████████████████████████████████████████████████| 203/203 [00:00<00:00, 948.59it/s]\n",
      " 49%|██████████████████████████████████████▉                                        | 100/203 [00:00<00:00, 900.89it/s]"
     ]
    },
    {
     "name": "stdout",
     "output_type": "stream",
     "text": [
      "epoch [244/500], Loss: 0.4813\n"
     ]
    },
    {
     "name": "stderr",
     "output_type": "stream",
     "text": [
      "100%|███████████████████████████████████████████████████████████████████████████████| 203/203 [00:00<00:00, 922.73it/s]\n",
      " 49%|██████████████████████████████████████▉                                        | 100/203 [00:00<00:00, 934.57it/s]"
     ]
    },
    {
     "name": "stdout",
     "output_type": "stream",
     "text": [
      "epoch [245/500], Loss: 0.3154\n"
     ]
    },
    {
     "name": "stderr",
     "output_type": "stream",
     "text": [
      "100%|███████████████████████████████████████████████████████████████████████████████| 203/203 [00:00<00:00, 898.23it/s]\n",
      " 49%|██████████████████████████████████████▉                                        | 100/203 [00:00<00:00, 943.39it/s]"
     ]
    },
    {
     "name": "stdout",
     "output_type": "stream",
     "text": [
      "epoch [246/500], Loss: 0.5733\n"
     ]
    },
    {
     "name": "stderr",
     "output_type": "stream",
     "text": [
      "100%|███████████████████████████████████████████████████████████████████████████████| 203/203 [00:00<00:00, 914.41it/s]\n",
      " 49%|██████████████████████████████████████▉                                        | 100/203 [00:00<00:00, 892.86it/s]"
     ]
    },
    {
     "name": "stdout",
     "output_type": "stream",
     "text": [
      "epoch [247/500], Loss: 0.6485\n"
     ]
    },
    {
     "name": "stderr",
     "output_type": "stream",
     "text": [
      "100%|███████████████████████████████████████████████████████████████████████████████| 203/203 [00:00<00:00, 971.29it/s]\n",
      " 49%|██████████████████████████████████████▉                                        | 100/203 [00:00<00:00, 943.45it/s]"
     ]
    },
    {
     "name": "stdout",
     "output_type": "stream",
     "text": [
      "epoch [248/500], Loss: 0.6972\n"
     ]
    },
    {
     "name": "stderr",
     "output_type": "stream",
     "text": [
      "100%|███████████████████████████████████████████████████████████████████████████████| 203/203 [00:00<00:00, 944.23it/s]\n",
      "  0%|                                                                                          | 0/203 [00:00<?, ?it/s]"
     ]
    },
    {
     "name": "stdout",
     "output_type": "stream",
     "text": [
      "epoch [249/500], Loss: 0.7017\n"
     ]
    },
    {
     "name": "stderr",
     "output_type": "stream",
     "text": [
      "100%|██████████████████████████████████████████████████████████████████████████████| 203/203 [00:00<00:00, 1004.95it/s]\n",
      " 49%|██████████████████████████████████████▉                                        | 100/203 [00:00<00:00, 934.60it/s]"
     ]
    },
    {
     "name": "stdout",
     "output_type": "stream",
     "text": [
      "epoch [250/500], Loss: 0.6019\n"
     ]
    },
    {
     "name": "stderr",
     "output_type": "stream",
     "text": [
      "100%|███████████████████████████████████████████████████████████████████████████████| 203/203 [00:00<00:00, 980.68it/s]\n",
      " 49%|██████████████████████████████████████▉                                        | 100/203 [00:00<00:00, 970.89it/s]"
     ]
    },
    {
     "name": "stdout",
     "output_type": "stream",
     "text": [
      "epoch [251/500], Loss: 0.7331\n"
     ]
    },
    {
     "name": "stderr",
     "output_type": "stream",
     "text": [
      "100%|███████████████████████████████████████████████████████████████████████████████| 203/203 [00:00<00:00, 990.26it/s]\n",
      "100%|███████████████████████████████████████████████████████████████████████████████| 203/203 [00:00<00:00, 971.29it/s]"
     ]
    },
    {
     "name": "stdout",
     "output_type": "stream",
     "text": [
      "epoch [252/500], Loss: 1.8782\n"
     ]
    },
    {
     "name": "stderr",
     "output_type": "stream",
     "text": [
      "\n",
      " 49%|██████████████████████████████████████▉                                        | 100/203 [00:00<00:00, 909.10it/s]"
     ]
    },
    {
     "name": "stdout",
     "output_type": "stream",
     "text": [
      "epoch [253/500], Loss: 1.9403\n"
     ]
    },
    {
     "name": "stderr",
     "output_type": "stream",
     "text": [
      "100%|███████████████████████████████████████████████████████████████████████████████| 203/203 [00:00<00:00, 939.81it/s]\n",
      " 49%|██████████████████████████████████████▉                                        | 100/203 [00:00<00:00, 934.78it/s]"
     ]
    },
    {
     "name": "stdout",
     "output_type": "stream",
     "text": [
      "epoch [254/500], Loss: 0.5888\n"
     ]
    },
    {
     "name": "stderr",
     "output_type": "stream",
     "text": [
      "100%|███████████████████████████████████████████████████████████████████████████████| 203/203 [00:00<00:00, 922.82it/s]\n",
      " 49%|██████████████████████████████████████▉                                        | 100/203 [00:00<00:00, 925.61it/s]"
     ]
    },
    {
     "name": "stdout",
     "output_type": "stream",
     "text": [
      "epoch [255/500], Loss: 0.4843\n"
     ]
    },
    {
     "name": "stderr",
     "output_type": "stream",
     "text": [
      "100%|███████████████████████████████████████████████████████████████████████████████| 203/203 [00:00<00:00, 902.21it/s]\n",
      " 49%|██████████████████████████████████████▉                                        | 100/203 [00:00<00:00, 943.38it/s]"
     ]
    },
    {
     "name": "stdout",
     "output_type": "stream",
     "text": [
      "epoch [256/500], Loss: 0.6959\n"
     ]
    },
    {
     "name": "stderr",
     "output_type": "stream",
     "text": [
      "100%|███████████████████████████████████████████████████████████████████████████████| 203/203 [00:00<00:00, 939.81it/s]\n",
      "  0%|                                                                                          | 0/203 [00:00<?, ?it/s]"
     ]
    },
    {
     "name": "stdout",
     "output_type": "stream",
     "text": [
      "epoch [257/500], Loss: 0.5928\n"
     ]
    },
    {
     "name": "stderr",
     "output_type": "stream",
     "text": [
      "100%|███████████████████████████████████████████████████████████████████████████████| 203/203 [00:00<00:00, 957.54it/s]\n",
      "  0%|                                                                                          | 0/203 [00:00<?, ?it/s]"
     ]
    },
    {
     "name": "stdout",
     "output_type": "stream",
     "text": [
      "epoch [258/500], Loss: 0.5758\n"
     ]
    },
    {
     "name": "stderr",
     "output_type": "stream",
     "text": [
      "100%|███████████████████████████████████████████████████████████████████████████████| 203/203 [00:00<00:00, 971.29it/s]\n",
      " 49%|██████████████████████████████████████▉                                        | 100/203 [00:00<00:00, 819.67it/s]"
     ]
    },
    {
     "name": "stdout",
     "output_type": "stream",
     "text": [
      "epoch [259/500], Loss: 0.6402\n"
     ]
    },
    {
     "name": "stderr",
     "output_type": "stream",
     "text": [
      "100%|███████████████████████████████████████████████████████████████████████████████| 203/203 [00:00<00:00, 910.31it/s]\n",
      " 99%|█████████████████████████████████████████████████████████████████████████████▊ | 200/203 [00:00<00:00, 964.79it/s]"
     ]
    },
    {
     "name": "stdout",
     "output_type": "stream",
     "text": [
      "epoch [260/500], Loss: 0.5605\n"
     ]
    },
    {
     "name": "stderr",
     "output_type": "stream",
     "text": [
      "100%|███████████████████████████████████████████████████████████████████████████████| 203/203 [00:00<00:00, 971.28it/s]\n",
      " 49%|██████████████████████████████████████▉                                        | 100/203 [00:00<00:00, 917.43it/s]"
     ]
    },
    {
     "name": "stdout",
     "output_type": "stream",
     "text": [
      "epoch [261/500], Loss: 0.4147\n"
     ]
    },
    {
     "name": "stderr",
     "output_type": "stream",
     "text": [
      "100%|███████████████████████████████████████████████████████████████████████████████| 203/203 [00:00<00:00, 975.96it/s]\n",
      " 49%|██████████████████████████████████████▉                                        | 100/203 [00:00<00:00, 917.43it/s]"
     ]
    },
    {
     "name": "stdout",
     "output_type": "stream",
     "text": [
      "epoch [262/500], Loss: 0.5090\n"
     ]
    },
    {
     "name": "stderr",
     "output_type": "stream",
     "text": [
      "100%|███████████████████████████████████████████████████████████████████████████████| 203/203 [00:00<00:00, 875.00it/s]\n",
      " 49%|██████████████████████████████████████▉                                        | 100/203 [00:00<00:00, 917.43it/s]"
     ]
    },
    {
     "name": "stdout",
     "output_type": "stream",
     "text": [
      "epoch [263/500], Loss: 0.6495\n"
     ]
    },
    {
     "name": "stderr",
     "output_type": "stream",
     "text": [
      "100%|███████████████████████████████████████████████████████████████████████████████| 203/203 [00:00<00:00, 926.94it/s]\n",
      " 49%|██████████████████████████████████████▉                                        | 100/203 [00:00<00:00, 970.88it/s]"
     ]
    },
    {
     "name": "stdout",
     "output_type": "stream",
     "text": [
      "epoch [264/500], Loss: 0.4691\n"
     ]
    },
    {
     "name": "stderr",
     "output_type": "stream",
     "text": [
      "100%|███████████████████████████████████████████████████████████████████████████████| 203/203 [00:00<00:00, 975.96it/s]\n",
      " 49%|██████████████████████████████████████▉                                        | 100/203 [00:00<00:00, 943.43it/s]"
     ]
    },
    {
     "name": "stdout",
     "output_type": "stream",
     "text": [
      "epoch [265/500], Loss: 0.3571\n"
     ]
    },
    {
     "name": "stderr",
     "output_type": "stream",
     "text": [
      "100%|██████████████████████████████████████████████████████████████████████████████| 203/203 [00:00<00:00, 1015.01it/s]\n",
      " 49%|██████████████████████████████████████▉                                        | 100/203 [00:00<00:00, 952.37it/s]"
     ]
    },
    {
     "name": "stdout",
     "output_type": "stream",
     "text": [
      "epoch [266/500], Loss: 0.5878\n"
     ]
    },
    {
     "name": "stderr",
     "output_type": "stream",
     "text": [
      "100%|███████████████████████████████████████████████████████████████████████████████| 203/203 [00:00<00:00, 944.19it/s]\n",
      " 49%|██████████████████████████████████████▉                                        | 100/203 [00:00<00:00, 900.92it/s]"
     ]
    },
    {
     "name": "stdout",
     "output_type": "stream",
     "text": [
      "epoch [267/500], Loss: 0.5139\n"
     ]
    },
    {
     "name": "stderr",
     "output_type": "stream",
     "text": [
      "100%|███████████████████████████████████████████████████████████████████████████████| 203/203 [00:00<00:00, 939.82it/s]\n",
      " 49%|██████████████████████████████████████▉                                        | 100/203 [00:00<00:00, 934.59it/s]"
     ]
    },
    {
     "name": "stdout",
     "output_type": "stream",
     "text": [
      "epoch [268/500], Loss: 0.6520\n"
     ]
    },
    {
     "name": "stderr",
     "output_type": "stream",
     "text": [
      "100%|███████████████████████████████████████████████████████████████████████████████| 203/203 [00:00<00:00, 962.10it/s]\n",
      " 49%|██████████████████████████████████████▉                                        | 100/203 [00:00<00:00, 961.55it/s]"
     ]
    },
    {
     "name": "stdout",
     "output_type": "stream",
     "text": [
      "epoch [269/500], Loss: 0.8865\n"
     ]
    },
    {
     "name": "stderr",
     "output_type": "stream",
     "text": [
      "100%|███████████████████████████████████████████████████████████████████████████████| 203/203 [00:00<00:00, 931.20it/s]\n",
      "100%|███████████████████████████████████████████████████████████████████████████████| 203/203 [00:00<00:00, 985.44it/s]"
     ]
    },
    {
     "name": "stdout",
     "output_type": "stream",
     "text": [
      "epoch [270/500], Loss: 0.5842\n"
     ]
    },
    {
     "name": "stderr",
     "output_type": "stream",
     "text": [
      "\n",
      " 49%|██████████████████████████████████████▉                                        | 100/203 [00:00<00:00, 909.08it/s]"
     ]
    },
    {
     "name": "stdout",
     "output_type": "stream",
     "text": [
      "epoch [271/500], Loss: 0.7205\n"
     ]
    },
    {
     "name": "stderr",
     "output_type": "stream",
     "text": [
      "100%|███████████████████████████████████████████████████████████████████████████████| 203/203 [00:00<00:00, 926.93it/s]\n",
      " 49%|██████████████████████████████████████▉                                        | 100/203 [00:00<00:00, 909.09it/s]"
     ]
    },
    {
     "name": "stdout",
     "output_type": "stream",
     "text": [
      "epoch [272/500], Loss: 0.9743\n"
     ]
    },
    {
     "name": "stderr",
     "output_type": "stream",
     "text": [
      "100%|███████████████████████████████████████████████████████████████████████████████| 203/203 [00:00<00:00, 902.22it/s]\n",
      " 49%|██████████████████████████████████████▉                                        | 100/203 [00:00<00:00, 925.75it/s]"
     ]
    },
    {
     "name": "stdout",
     "output_type": "stream",
     "text": [
      "epoch [273/500], Loss: 0.6593\n"
     ]
    },
    {
     "name": "stderr",
     "output_type": "stream",
     "text": [
      "100%|███████████████████████████████████████████████████████████████████████████████| 203/203 [00:00<00:00, 922.73it/s]\n",
      " 99%|█████████████████████████████████████████████████████████████████████████████▊ | 200/203 [00:00<00:00, 961.53it/s]"
     ]
    },
    {
     "name": "stdout",
     "output_type": "stream",
     "text": [
      "epoch [274/500], Loss: 0.5815\n"
     ]
    },
    {
     "name": "stderr",
     "output_type": "stream",
     "text": [
      "100%|███████████████████████████████████████████████████████████████████████████████| 203/203 [00:00<00:00, 971.29it/s]\n",
      "  0%|                                                                                          | 0/203 [00:00<?, ?it/s]"
     ]
    },
    {
     "name": "stdout",
     "output_type": "stream",
     "text": [
      "epoch [275/500], Loss: 0.7314\n"
     ]
    },
    {
     "name": "stderr",
     "output_type": "stream",
     "text": [
      "100%|██████████████████████████████████████████████████████████████████████████████| 203/203 [00:00<00:00, 1009.95it/s]\n",
      " 49%|██████████████████████████████████████▉                                        | 100/203 [00:00<00:00, 925.62it/s]"
     ]
    },
    {
     "name": "stdout",
     "output_type": "stream",
     "text": [
      "epoch [276/500], Loss: 0.6704\n"
     ]
    },
    {
     "name": "stderr",
     "output_type": "stream",
     "text": [
      "100%|███████████████████████████████████████████████████████████████████████████████| 203/203 [00:00<00:00, 935.48it/s]\n",
      "  0%|                                                                                          | 0/203 [00:00<?, ?it/s]"
     ]
    },
    {
     "name": "stdout",
     "output_type": "stream",
     "text": [
      "epoch [277/500], Loss: 0.6254\n"
     ]
    },
    {
     "name": "stderr",
     "output_type": "stream",
     "text": [
      "100%|██████████████████████████████████████████████████████████████████████████████| 203/203 [00:00<00:00, 1041.06it/s]\n",
      "  0%|                                                                                          | 0/203 [00:00<?, ?it/s]"
     ]
    },
    {
     "name": "stdout",
     "output_type": "stream",
     "text": [
      "epoch [278/500], Loss: 0.6085\n"
     ]
    },
    {
     "name": "stderr",
     "output_type": "stream",
     "text": [
      "100%|██████████████████████████████████████████████████████████████████████████████| 203/203 [00:00<00:00, 1004.95it/s]\n",
      " 49%|██████████████████████████████████████▉                                        | 100/203 [00:00<00:00, 980.31it/s]"
     ]
    },
    {
     "name": "stdout",
     "output_type": "stream",
     "text": [
      "epoch [279/500], Loss: 0.5703\n"
     ]
    },
    {
     "name": "stderr",
     "output_type": "stream",
     "text": [
      "100%|███████████████████████████████████████████████████████████████████████████████| 203/203 [00:00<00:00, 962.07it/s]\n",
      "  0%|                                                                                          | 0/203 [00:00<?, ?it/s]"
     ]
    },
    {
     "name": "stdout",
     "output_type": "stream",
     "text": [
      "epoch [280/500], Loss: 0.6015\n"
     ]
    },
    {
     "name": "stderr",
     "output_type": "stream",
     "text": [
      "100%|███████████████████████████████████████████████████████████████████████████████| 203/203 [00:00<00:00, 962.09it/s]\n",
      " 49%|██████████████████████████████████████▉                                        | 100/203 [00:00<00:00, 952.36it/s]"
     ]
    },
    {
     "name": "stdout",
     "output_type": "stream",
     "text": [
      "epoch [281/500], Loss: 0.7317\n"
     ]
    },
    {
     "name": "stderr",
     "output_type": "stream",
     "text": [
      "100%|███████████████████████████████████████████████████████████████████████████████| 203/203 [00:00<00:00, 914.41it/s]\n",
      "  0%|                                                                                          | 0/203 [00:00<?, ?it/s]"
     ]
    },
    {
     "name": "stdout",
     "output_type": "stream",
     "text": [
      "epoch [282/500], Loss: 0.6405\n"
     ]
    },
    {
     "name": "stderr",
     "output_type": "stream",
     "text": [
      "100%|███████████████████████████████████████████████████████████████████████████████| 203/203 [00:00<00:00, 995.09it/s]\n",
      " 49%|██████████████████████████████████████▉                                        | 100/203 [00:00<00:00, 961.55it/s]"
     ]
    },
    {
     "name": "stdout",
     "output_type": "stream",
     "text": [
      "epoch [283/500], Loss: 0.4657\n"
     ]
    },
    {
     "name": "stderr",
     "output_type": "stream",
     "text": [
      "100%|███████████████████████████████████████████████████████████████████████████████| 203/203 [00:00<00:00, 966.67it/s]\n",
      " 49%|██████████████████████████████████████▉                                        | 100/203 [00:00<00:00, 980.39it/s]"
     ]
    },
    {
     "name": "stdout",
     "output_type": "stream",
     "text": [
      "epoch [284/500], Loss: 0.4586\n"
     ]
    },
    {
     "name": "stderr",
     "output_type": "stream",
     "text": [
      "100%|███████████████████████████████████████████████████████████████████████████████| 203/203 [00:00<00:00, 990.24it/s]\n",
      " 49%|██████████████████████████████████████▉                                        | 100/203 [00:00<00:00, 943.40it/s]"
     ]
    },
    {
     "name": "stdout",
     "output_type": "stream",
     "text": [
      "epoch [285/500], Loss: 0.4955\n"
     ]
    },
    {
     "name": "stderr",
     "output_type": "stream",
     "text": [
      "100%|███████████████████████████████████████████████████████████████████████████████| 203/203 [00:00<00:00, 948.60it/s]\n",
      "  0%|                                                                                          | 0/203 [00:00<?, ?it/s]"
     ]
    },
    {
     "name": "stdout",
     "output_type": "stream",
     "text": [
      "epoch [286/500], Loss: 0.5165\n"
     ]
    },
    {
     "name": "stderr",
     "output_type": "stream",
     "text": [
      "100%|██████████████████████████████████████████████████████████████████████████████| 203/203 [00:00<00:00, 1051.83it/s]\n",
      " 49%|██████████████████████████████████████▉                                        | 100/203 [00:00<00:00, 980.33it/s]"
     ]
    },
    {
     "name": "stdout",
     "output_type": "stream",
     "text": [
      "epoch [287/500], Loss: 0.4585\n"
     ]
    },
    {
     "name": "stderr",
     "output_type": "stream",
     "text": [
      "100%|███████████████████████████████████████████████████████████████████████████████| 203/203 [00:00<00:00, 966.58it/s]\n",
      " 49%|██████████████████████████████████████▉                                        | 100/203 [00:00<00:00, 970.87it/s]"
     ]
    },
    {
     "name": "stdout",
     "output_type": "stream",
     "text": [
      "epoch [288/500], Loss: 0.5972\n"
     ]
    },
    {
     "name": "stderr",
     "output_type": "stream",
     "text": [
      "100%|███████████████████████████████████████████████████████████████████████████████| 203/203 [00:00<00:00, 980.68it/s]\n",
      " 99%|████████████████████████████████████████████████████████████████████████████▊ | 200/203 [00:00<00:00, 1010.11it/s]"
     ]
    },
    {
     "name": "stdout",
     "output_type": "stream",
     "text": [
      "epoch [289/500], Loss: 0.5833\n"
     ]
    },
    {
     "name": "stderr",
     "output_type": "stream",
     "text": [
      "100%|██████████████████████████████████████████████████████████████████████████████| 203/203 [00:00<00:00, 1020.11it/s]\n",
      " 49%|██████████████████████████████████████▉                                        | 100/203 [00:00<00:00, 961.55it/s]"
     ]
    },
    {
     "name": "stdout",
     "output_type": "stream",
     "text": [
      "epoch [290/500], Loss: 0.4384\n"
     ]
    },
    {
     "name": "stderr",
     "output_type": "stream",
     "text": [
      "100%|███████████████████████████████████████████████████████████████████████████████| 203/203 [00:00<00:00, 995.09it/s]\n",
      " 49%|██████████████████████████████████████▉                                        | 100/203 [00:00<00:00, 999.98it/s]"
     ]
    },
    {
     "name": "stdout",
     "output_type": "stream",
     "text": [
      "epoch [291/500], Loss: 0.4396\n"
     ]
    },
    {
     "name": "stderr",
     "output_type": "stream",
     "text": [
      "100%|███████████████████████████████████████████████████████████████████████████████| 203/203 [00:00<00:00, 957.55it/s]\n",
      " 49%|██████████████████████████████████████▉                                        | 100/203 [00:00<00:00, 952.41it/s]"
     ]
    },
    {
     "name": "stdout",
     "output_type": "stream",
     "text": [
      "epoch [292/500], Loss: 0.7090\n"
     ]
    },
    {
     "name": "stderr",
     "output_type": "stream",
     "text": [
      "100%|███████████████████████████████████████████████████████████████████████████████| 203/203 [00:00<00:00, 975.96it/s]\n",
      " 49%|██████████████████████████████████████▉                                        | 100/203 [00:00<00:00, 925.93it/s]"
     ]
    },
    {
     "name": "stdout",
     "output_type": "stream",
     "text": [
      "epoch [293/500], Loss: 0.7339\n"
     ]
    },
    {
     "name": "stderr",
     "output_type": "stream",
     "text": [
      "100%|███████████████████████████████████████████████████████████████████████████████| 203/203 [00:00<00:00, 957.55it/s]\n",
      " 49%|██████████████████████████████████████▉                                        | 100/203 [00:00<00:00, 934.28it/s]"
     ]
    },
    {
     "name": "stdout",
     "output_type": "stream",
     "text": [
      "epoch [294/500], Loss: 0.4599\n"
     ]
    },
    {
     "name": "stderr",
     "output_type": "stream",
     "text": [
      "100%|███████████████████████████████████████████████████████████████████████████████| 203/203 [00:00<00:00, 871.24it/s]\n",
      " 49%|██████████████████████████████████████▉                                        | 100/203 [00:00<00:00, 961.55it/s]"
     ]
    },
    {
     "name": "stdout",
     "output_type": "stream",
     "text": [
      "epoch [295/500], Loss: 0.4981\n"
     ]
    },
    {
     "name": "stderr",
     "output_type": "stream",
     "text": [
      "100%|███████████████████████████████████████████████████████████████████████████████| 203/203 [00:00<00:00, 939.82it/s]\n",
      " 49%|██████████████████████████████████████▉                                        | 100/203 [00:00<00:00, 990.11it/s]"
     ]
    },
    {
     "name": "stdout",
     "output_type": "stream",
     "text": [
      "epoch [296/500], Loss: 0.4711\n"
     ]
    },
    {
     "name": "stderr",
     "output_type": "stream",
     "text": [
      "100%|███████████████████████████████████████████████████████████████████████████████| 203/203 [00:00<00:00, 995.10it/s]\n",
      " 49%|██████████████████████████████████████▉                                        | 100/203 [00:00<00:00, 990.07it/s]"
     ]
    },
    {
     "name": "stdout",
     "output_type": "stream",
     "text": [
      "epoch [297/500], Loss: 0.5019\n"
     ]
    },
    {
     "name": "stderr",
     "output_type": "stream",
     "text": [
      "100%|██████████████████████████████████████████████████████████████████████████████| 203/203 [00:00<00:00, 1020.04it/s]\n",
      " 49%|██████████████████████████████████████▉                                        | 100/203 [00:00<00:00, 980.42it/s]"
     ]
    },
    {
     "name": "stdout",
     "output_type": "stream",
     "text": [
      "epoch [298/500], Loss: 0.4403\n"
     ]
    },
    {
     "name": "stderr",
     "output_type": "stream",
     "text": [
      "100%|██████████████████████████████████████████████████████████████████████████████| 203/203 [00:00<00:00, 1004.97it/s]\n",
      " 99%|█████████████████████████████████████████████████████████████████████████████▊ | 200/203 [00:00<00:00, 974.58it/s]"
     ]
    },
    {
     "name": "stdout",
     "output_type": "stream",
     "text": [
      "epoch [299/500], Loss: 0.4248\n"
     ]
    },
    {
     "name": "stderr",
     "output_type": "stream",
     "text": [
      "100%|███████████████████████████████████████████████████████████████████████████████| 203/203 [00:00<00:00, 985.28it/s]\n",
      " 49%|██████████████████████████████████████▉                                        | 100/203 [00:00<00:00, 970.88it/s]"
     ]
    },
    {
     "name": "stdout",
     "output_type": "stream",
     "text": [
      "epoch [300/500], Loss: 0.5847\n"
     ]
    },
    {
     "name": "stderr",
     "output_type": "stream",
     "text": [
      "100%|███████████████████████████████████████████████████████████████████████████████| 203/203 [00:00<00:00, 985.43it/s]\n",
      " 99%|█████████████████████████████████████████████████████████████████████████████▊ | 200/203 [00:00<00:00, 948.66it/s]"
     ]
    },
    {
     "name": "stdout",
     "output_type": "stream",
     "text": [
      "epoch [301/500], Loss: 0.4860\n"
     ]
    },
    {
     "name": "stderr",
     "output_type": "stream",
     "text": [
      "100%|███████████████████████████████████████████████████████████████████████████████| 203/203 [00:00<00:00, 957.55it/s]\n",
      " 99%|████████████████████████████████████████████████████████████████████████████▊ | 200/203 [00:00<00:00, 1036.26it/s]"
     ]
    },
    {
     "name": "stdout",
     "output_type": "stream",
     "text": [
      "epoch [302/500], Loss: 0.5616\n"
     ]
    },
    {
     "name": "stderr",
     "output_type": "stream",
     "text": [
      "100%|██████████████████████████████████████████████████████████████████████████████| 203/203 [00:00<00:00, 1046.38it/s]\n",
      " 49%|██████████████████████████████████████▉                                        | 100/203 [00:00<00:00, 943.37it/s]"
     ]
    },
    {
     "name": "stdout",
     "output_type": "stream",
     "text": [
      "epoch [303/500], Loss: 0.6175\n"
     ]
    },
    {
     "name": "stderr",
     "output_type": "stream",
     "text": [
      "100%|███████████████████████████████████████████████████████████████████████████████| 203/203 [00:00<00:00, 990.23it/s]\n",
      " 49%|██████████████████████████████████████▉                                        | 100/203 [00:00<00:00, 980.40it/s]"
     ]
    },
    {
     "name": "stdout",
     "output_type": "stream",
     "text": [
      "epoch [304/500], Loss: 0.5339\n"
     ]
    },
    {
     "name": "stderr",
     "output_type": "stream",
     "text": [
      "100%|███████████████████████████████████████████████████████████████████████████████| 203/203 [00:00<00:00, 948.47it/s]\n",
      " 49%|██████████████████████████████████████▉                                        | 100/203 [00:00<00:00, 909.09it/s]"
     ]
    },
    {
     "name": "stdout",
     "output_type": "stream",
     "text": [
      "epoch [305/500], Loss: 1.1581\n"
     ]
    },
    {
     "name": "stderr",
     "output_type": "stream",
     "text": [
      "100%|███████████████████████████████████████████████████████████████████████████████| 203/203 [00:00<00:00, 966.67it/s]\n",
      " 49%|██████████████████████████████████████▉                                        | 100/203 [00:00<00:00, 970.88it/s]"
     ]
    },
    {
     "name": "stdout",
     "output_type": "stream",
     "text": [
      "epoch [306/500], Loss: 1.2112\n"
     ]
    },
    {
     "name": "stderr",
     "output_type": "stream",
     "text": [
      "100%|██████████████████████████████████████████████████████████████████████████████| 203/203 [00:00<00:00, 1004.95it/s]\n",
      "  0%|                                                                                          | 0/203 [00:00<?, ?it/s]"
     ]
    },
    {
     "name": "stdout",
     "output_type": "stream",
     "text": [
      "epoch [307/500], Loss: 0.5437\n"
     ]
    },
    {
     "name": "stderr",
     "output_type": "stream",
     "text": [
      "100%|██████████████████████████████████████████████████████████████████████████████| 203/203 [00:00<00:00, 1030.45it/s]\n",
      " 49%|██████████████████████████████████████▉                                        | 100/203 [00:00<00:00, 862.04it/s]"
     ]
    },
    {
     "name": "stdout",
     "output_type": "stream",
     "text": [
      "epoch [308/500], Loss: 0.3712\n"
     ]
    },
    {
     "name": "stderr",
     "output_type": "stream",
     "text": [
      "100%|███████████████████████████████████████████████████████████████████████████████| 203/203 [00:00<00:00, 882.61it/s]\n",
      " 49%|██████████████████████████████████████▉                                        | 100/203 [00:00<00:00, 970.86it/s]"
     ]
    },
    {
     "name": "stdout",
     "output_type": "stream",
     "text": [
      "epoch [309/500], Loss: 0.4779\n"
     ]
    },
    {
     "name": "stderr",
     "output_type": "stream",
     "text": [
      "100%|███████████████████████████████████████████████████████████████████████████████| 203/203 [00:00<00:00, 995.09it/s]\n",
      " 49%|██████████████████████████████████████▉                                        | 100/203 [00:00<00:00, 952.38it/s]"
     ]
    },
    {
     "name": "stdout",
     "output_type": "stream",
     "text": [
      "epoch [310/500], Loss: 0.5678\n"
     ]
    },
    {
     "name": "stderr",
     "output_type": "stream",
     "text": [
      "100%|███████████████████████████████████████████████████████████████████████████████| 203/203 [00:00<00:00, 944.18it/s]\n",
      " 49%|██████████████████████████████████████▉                                        | 100/203 [00:00<00:00, 970.87it/s]"
     ]
    },
    {
     "name": "stdout",
     "output_type": "stream",
     "text": [
      "epoch [311/500], Loss: 0.5279\n"
     ]
    },
    {
     "name": "stderr",
     "output_type": "stream",
     "text": [
      "100%|███████████████████████████████████████████████████████████████████████████████| 203/203 [00:00<00:00, 975.97it/s]\n",
      "  0%|                                                                                          | 0/203 [00:00<?, ?it/s]"
     ]
    },
    {
     "name": "stdout",
     "output_type": "stream",
     "text": [
      "epoch [312/500], Loss: 0.5160\n"
     ]
    },
    {
     "name": "stderr",
     "output_type": "stream",
     "text": [
      "100%|███████████████████████████████████████████████████████████████████████████████| 203/203 [00:00<00:00, 953.06it/s]\n",
      "  0%|                                                                                          | 0/203 [00:00<?, ?it/s]"
     ]
    },
    {
     "name": "stdout",
     "output_type": "stream",
     "text": [
      "epoch [313/500], Loss: 0.4289\n"
     ]
    },
    {
     "name": "stderr",
     "output_type": "stream",
     "text": [
      "100%|███████████████████████████████████████████████████████████████████████████████| 203/203 [00:00<00:00, 980.67it/s]\n",
      " 99%|████████████████████████████████████████████████████████████████████████████▊ | 200/203 [00:00<00:00, 1015.22it/s]"
     ]
    },
    {
     "name": "stdout",
     "output_type": "stream",
     "text": [
      "epoch [314/500], Loss: 0.3603\n"
     ]
    },
    {
     "name": "stderr",
     "output_type": "stream",
     "text": [
      "100%|██████████████████████████████████████████████████████████████████████████████| 203/203 [00:00<00:00, 1025.25it/s]\n",
      " 49%|██████████████████████████████████████▉                                        | 100/203 [00:00<00:00, 793.63it/s]"
     ]
    },
    {
     "name": "stdout",
     "output_type": "stream",
     "text": [
      "epoch [315/500], Loss: 0.5486\n"
     ]
    },
    {
     "name": "stderr",
     "output_type": "stream",
     "text": [
      "100%|███████████████████████████████████████████████████████████████████████████████| 203/203 [00:00<00:00, 818.54it/s]\n",
      " 49%|██████████████████████████████████████▉                                        | 100/203 [00:00<00:00, 917.45it/s]"
     ]
    },
    {
     "name": "stdout",
     "output_type": "stream",
     "text": [
      "epoch [316/500], Loss: 0.8510\n"
     ]
    },
    {
     "name": "stderr",
     "output_type": "stream",
     "text": [
      "100%|███████████████████████████████████████████████████████████████████████████████| 203/203 [00:00<00:00, 948.60it/s]\n",
      " 49%|██████████████████████████████████████▉                                        | 100/203 [00:00<00:00, 961.51it/s]"
     ]
    },
    {
     "name": "stdout",
     "output_type": "stream",
     "text": [
      "epoch [317/500], Loss: 0.7669\n"
     ]
    },
    {
     "name": "stderr",
     "output_type": "stream",
     "text": [
      "100%|███████████████████████████████████████████████████████████████████████████████| 203/203 [00:00<00:00, 990.23it/s]\n",
      " 49%|██████████████████████████████████████▉                                        | 100/203 [00:00<00:00, 925.91it/s]"
     ]
    },
    {
     "name": "stdout",
     "output_type": "stream",
     "text": [
      "epoch [318/500], Loss: 0.6849\n"
     ]
    },
    {
     "name": "stderr",
     "output_type": "stream",
     "text": [
      "100%|███████████████████████████████████████████████████████████████████████████████| 203/203 [00:00<00:00, 957.54it/s]\n",
      " 49%|██████████████████████████████████████▉                                        | 100/203 [00:00<00:00, 934.53it/s]"
     ]
    },
    {
     "name": "stdout",
     "output_type": "stream",
     "text": [
      "epoch [319/500], Loss: 0.8219\n"
     ]
    },
    {
     "name": "stderr",
     "output_type": "stream",
     "text": [
      "100%|███████████████████████████████████████████████████████████████████████████████| 203/203 [00:00<00:00, 890.34it/s]\n",
      " 49%|██████████████████████████████████████▉                                        | 100/203 [00:00<00:00, 917.43it/s]"
     ]
    },
    {
     "name": "stdout",
     "output_type": "stream",
     "text": [
      "epoch [320/500], Loss: 0.9225\n"
     ]
    },
    {
     "name": "stderr",
     "output_type": "stream",
     "text": [
      "100%|███████████████████████████████████████████████████████████████████████████████| 203/203 [00:00<00:00, 935.48it/s]\n",
      " 49%|██████████████████████████████████████▉                                        | 100/203 [00:00<00:00, 980.38it/s]"
     ]
    },
    {
     "name": "stdout",
     "output_type": "stream",
     "text": [
      "epoch [321/500], Loss: 0.9564\n"
     ]
    },
    {
     "name": "stderr",
     "output_type": "stream",
     "text": [
      "100%|███████████████████████████████████████████████████████████████████████████████| 203/203 [00:00<00:00, 980.68it/s]\n",
      " 49%|██████████████████████████████████████▉                                        | 100/203 [00:00<00:00, 877.19it/s]"
     ]
    },
    {
     "name": "stdout",
     "output_type": "stream",
     "text": [
      "epoch [322/500], Loss: 0.6526\n"
     ]
    },
    {
     "name": "stderr",
     "output_type": "stream",
     "text": [
      "100%|███████████████████████████████████████████████████████████████████████████████| 203/203 [00:00<00:00, 971.29it/s]\n",
      " 49%|██████████████████████████████████████▉                                        | 100/203 [00:00<00:00, 952.49it/s]"
     ]
    },
    {
     "name": "stdout",
     "output_type": "stream",
     "text": [
      "epoch [323/500], Loss: 0.4661\n"
     ]
    },
    {
     "name": "stderr",
     "output_type": "stream",
     "text": [
      "100%|███████████████████████████████████████████████████████████████████████████████| 203/203 [00:00<00:00, 902.28it/s]\n",
      " 49%|██████████████████████████████████████▉                                        | 100/203 [00:00<00:00, 925.90it/s]"
     ]
    },
    {
     "name": "stdout",
     "output_type": "stream",
     "text": [
      "epoch [324/500], Loss: 0.5337\n"
     ]
    },
    {
     "name": "stderr",
     "output_type": "stream",
     "text": [
      "100%|███████████████████████████████████████████████████████████████████████████████| 203/203 [00:00<00:00, 931.18it/s]\n",
      "  0%|                                                                                          | 0/203 [00:00<?, ?it/s]"
     ]
    },
    {
     "name": "stdout",
     "output_type": "stream",
     "text": [
      "epoch [325/500], Loss: 0.4477\n"
     ]
    },
    {
     "name": "stderr",
     "output_type": "stream",
     "text": [
      "100%|██████████████████████████████████████████████████████████████████████████████| 203/203 [00:00<00:00, 1020.10it/s]\n",
      " 49%|██████████████████████████████████████▉                                        | 100/203 [00:00<00:00, 961.24it/s]"
     ]
    },
    {
     "name": "stdout",
     "output_type": "stream",
     "text": [
      "epoch [326/500], Loss: 0.8261\n"
     ]
    },
    {
     "name": "stderr",
     "output_type": "stream",
     "text": [
      "100%|███████████████████████████████████████████████████████████████████████████████| 203/203 [00:00<00:00, 995.10it/s]\n",
      " 49%|██████████████████████████████████████▉                                        | 100/203 [00:00<00:00, 961.54it/s]"
     ]
    },
    {
     "name": "stdout",
     "output_type": "stream",
     "text": [
      "epoch [327/500], Loss: 0.8557\n"
     ]
    },
    {
     "name": "stderr",
     "output_type": "stream",
     "text": [
      "100%|███████████████████████████████████████████████████████████████████████████████| 203/203 [00:00<00:00, 962.08it/s]\n",
      " 49%|██████████████████████████████████████▉                                        | 100/203 [00:00<00:00, 869.57it/s]"
     ]
    },
    {
     "name": "stdout",
     "output_type": "stream",
     "text": [
      "epoch [328/500], Loss: 0.7879\n"
     ]
    },
    {
     "name": "stderr",
     "output_type": "stream",
     "text": [
      "100%|███████████████████████████████████████████████████████████████████████████████| 203/203 [00:00<00:00, 944.19it/s]\n",
      "100%|██████████████████████████████████████████████████████████████████████████████| 203/203 [00:00<00:00, 1035.71it/s]"
     ]
    },
    {
     "name": "stdout",
     "output_type": "stream",
     "text": [
      "epoch [329/500], Loss: 0.9424\n"
     ]
    },
    {
     "name": "stderr",
     "output_type": "stream",
     "text": [
      "\n",
      "100%|██████████████████████████████████████████████████████████████████████████████| 203/203 [00:00<00:00, 1009.96it/s]"
     ]
    },
    {
     "name": "stdout",
     "output_type": "stream",
     "text": [
      "epoch [330/500], Loss: 0.7315\n"
     ]
    },
    {
     "name": "stderr",
     "output_type": "stream",
     "text": [
      "\n",
      " 49%|██████████████████████████████████████▉                                        | 100/203 [00:00<00:00, 980.39it/s]"
     ]
    },
    {
     "name": "stdout",
     "output_type": "stream",
     "text": [
      "epoch [331/500], Loss: 0.7846\n"
     ]
    },
    {
     "name": "stderr",
     "output_type": "stream",
     "text": [
      "100%|███████████████████████████████████████████████████████████████████████████████| 203/203 [00:00<00:00, 966.67it/s]\n",
      " 49%|██████████████████████████████████████▉                                        | 100/203 [00:00<00:00, 990.07it/s]"
     ]
    },
    {
     "name": "stdout",
     "output_type": "stream",
     "text": [
      "epoch [332/500], Loss: 0.8365\n"
     ]
    },
    {
     "name": "stderr",
     "output_type": "stream",
     "text": [
      "100%|███████████████████████████████████████████████████████████████████████████████| 203/203 [00:00<00:00, 931.19it/s]\n",
      " 49%|██████████████████████████████████████▉                                        | 100/203 [00:00<00:00, 854.68it/s]"
     ]
    },
    {
     "name": "stdout",
     "output_type": "stream",
     "text": [
      "epoch [333/500], Loss: 0.7024\n"
     ]
    },
    {
     "name": "stderr",
     "output_type": "stream",
     "text": [
      "100%|███████████████████████████████████████████████████████████████████████████████| 203/203 [00:00<00:00, 910.31it/s]\n",
      " 49%|██████████████████████████████████████▉                                        | 100/203 [00:00<00:00, 877.18it/s]"
     ]
    },
    {
     "name": "stdout",
     "output_type": "stream",
     "text": [
      "epoch [334/500], Loss: 0.4591\n"
     ]
    },
    {
     "name": "stderr",
     "output_type": "stream",
     "text": [
      "100%|███████████████████████████████████████████████████████████████████████████████| 203/203 [00:00<00:00, 875.00it/s]\n",
      " 49%|██████████████████████████████████████▉                                        | 100/203 [00:00<00:00, 980.38it/s]"
     ]
    },
    {
     "name": "stdout",
     "output_type": "stream",
     "text": [
      "epoch [335/500], Loss: 0.6834\n"
     ]
    },
    {
     "name": "stderr",
     "output_type": "stream",
     "text": [
      "100%|███████████████████████████████████████████████████████████████████████████████| 203/203 [00:00<00:00, 990.25it/s]\n",
      "  0%|                                                                                          | 0/203 [00:00<?, ?it/s]"
     ]
    },
    {
     "name": "stdout",
     "output_type": "stream",
     "text": [
      "epoch [336/500], Loss: 0.6913\n"
     ]
    },
    {
     "name": "stderr",
     "output_type": "stream",
     "text": [
      "100%|██████████████████████████████████████████████████████████████████████████████| 203/203 [00:00<00:00, 1062.83it/s]\n",
      " 99%|████████████████████████████████████████████████████████████████████████████▊ | 200/203 [00:00<00:00, 1010.20it/s]"
     ]
    },
    {
     "name": "stdout",
     "output_type": "stream",
     "text": [
      "epoch [337/500], Loss: 0.4109\n"
     ]
    },
    {
     "name": "stderr",
     "output_type": "stream",
     "text": [
      "100%|██████████████████████████████████████████████████████████████████████████████| 203/203 [00:00<00:00, 1020.21it/s]\n",
      " 49%|██████████████████████████████████████▉                                        | 100/203 [00:00<00:00, 999.98it/s]"
     ]
    },
    {
     "name": "stdout",
     "output_type": "stream",
     "text": [
      "epoch [338/500], Loss: 0.4961\n"
     ]
    },
    {
     "name": "stderr",
     "output_type": "stream",
     "text": [
      "100%|██████████████████████████████████████████████████████████████████████████████| 203/203 [00:00<00:00, 1020.09it/s]\n",
      " 99%|█████████████████████████████████████████████████████████████████████████████▊ | 200/203 [00:00<00:00, 960.43it/s]"
     ]
    },
    {
     "name": "stdout",
     "output_type": "stream",
     "text": [
      "epoch [339/500], Loss: 0.7485\n"
     ]
    },
    {
     "name": "stderr",
     "output_type": "stream",
     "text": [
      "100%|███████████████████████████████████████████████████████████████████████████████| 203/203 [00:00<00:00, 975.95it/s]\n",
      " 49%|██████████████████████████████████████▉                                        | 100/203 [00:00<00:00, 999.97it/s]"
     ]
    },
    {
     "name": "stdout",
     "output_type": "stream",
     "text": [
      "epoch [340/500], Loss: 0.7568\n"
     ]
    },
    {
     "name": "stderr",
     "output_type": "stream",
     "text": [
      "100%|███████████████████████████████████████████████████████████████████████████████| 203/203 [00:00<00:00, 990.24it/s]\n",
      " 49%|██████████████████████████████████████▉                                        | 100/203 [00:00<00:00, 934.65it/s]"
     ]
    },
    {
     "name": "stdout",
     "output_type": "stream",
     "text": [
      "epoch [341/500], Loss: 0.6366\n"
     ]
    },
    {
     "name": "stderr",
     "output_type": "stream",
     "text": [
      "100%|██████████████████████████████████████████████████████████████████████████████| 203/203 [00:00<00:00, 1015.04it/s]\n",
      " 49%|██████████████████████████████████████▉                                        | 100/203 [00:00<00:00, 970.87it/s]"
     ]
    },
    {
     "name": "stdout",
     "output_type": "stream",
     "text": [
      "epoch [342/500], Loss: 0.6464\n"
     ]
    },
    {
     "name": "stderr",
     "output_type": "stream",
     "text": [
      "100%|███████████████████████████████████████████████████████████████████████████████| 203/203 [00:00<00:00, 971.29it/s]\n",
      " 49%|██████████████████████████████████████▉                                        | 100/203 [00:00<00:00, 952.06it/s]"
     ]
    },
    {
     "name": "stdout",
     "output_type": "stream",
     "text": [
      "epoch [343/500], Loss: 0.6344\n"
     ]
    },
    {
     "name": "stderr",
     "output_type": "stream",
     "text": [
      "100%|███████████████████████████████████████████████████████████████████████████████| 203/203 [00:00<00:00, 948.60it/s]\n",
      " 49%|██████████████████████████████████████▉                                        | 100/203 [00:00<00:00, 901.05it/s]"
     ]
    },
    {
     "name": "stdout",
     "output_type": "stream",
     "text": [
      "epoch [344/500], Loss: 0.6323\n"
     ]
    },
    {
     "name": "stderr",
     "output_type": "stream",
     "text": [
      "100%|███████████████████████████████████████████████████████████████████████████████| 203/203 [00:00<00:00, 805.61it/s]\n",
      " 49%|██████████████████████████████████████▉                                        | 100/203 [00:00<00:00, 961.55it/s]"
     ]
    },
    {
     "name": "stdout",
     "output_type": "stream",
     "text": [
      "epoch [345/500], Loss: 0.5201\n"
     ]
    },
    {
     "name": "stderr",
     "output_type": "stream",
     "text": [
      "100%|███████████████████████████████████████████████████████████████████████████████| 203/203 [00:00<00:00, 971.30it/s]\n",
      " 49%|██████████████████████████████████████▉                                        | 100/203 [00:00<00:00, 917.43it/s]"
     ]
    },
    {
     "name": "stdout",
     "output_type": "stream",
     "text": [
      "epoch [346/500], Loss: 0.5894\n"
     ]
    },
    {
     "name": "stderr",
     "output_type": "stream",
     "text": [
      "100%|███████████████████████████████████████████████████████████████████████████████| 203/203 [00:00<00:00, 894.26it/s]\n",
      " 49%|██████████████████████████████████████▉                                        | 100/203 [00:00<00:00, 826.47it/s]"
     ]
    },
    {
     "name": "stdout",
     "output_type": "stream",
     "text": [
      "epoch [347/500], Loss: 0.6864\n"
     ]
    },
    {
     "name": "stderr",
     "output_type": "stream",
     "text": [
      "100%|███████████████████████████████████████████████████████████████████████████████| 203/203 [00:00<00:00, 849.38it/s]\n",
      "  0%|                                                                                          | 0/203 [00:00<?, ?it/s]"
     ]
    },
    {
     "name": "stdout",
     "output_type": "stream",
     "text": [
      "epoch [348/500], Loss: 0.5119\n"
     ]
    },
    {
     "name": "stderr",
     "output_type": "stream",
     "text": [
      "100%|███████████████████████████████████████████████████████████████████████████████| 203/203 [00:00<00:00, 962.08it/s]\n",
      " 49%|██████████████████████████████████████▍                                       | 100/203 [00:00<00:00, 1000.00it/s]"
     ]
    },
    {
     "name": "stdout",
     "output_type": "stream",
     "text": [
      "epoch [349/500], Loss: 0.4467\n"
     ]
    },
    {
     "name": "stderr",
     "output_type": "stream",
     "text": [
      "100%|███████████████████████████████████████████████████████████████████████████████| 203/203 [00:00<00:00, 953.05it/s]\n",
      "100%|███████████████████████████████████████████████████████████████████████████████| 203/203 [00:00<00:00, 999.98it/s]"
     ]
    },
    {
     "name": "stdout",
     "output_type": "stream",
     "text": [
      "epoch [350/500], Loss: 0.4973\n"
     ]
    },
    {
     "name": "stderr",
     "output_type": "stream",
     "text": [
      "\n",
      " 49%|██████████████████████████████████████▉                                        | 100/203 [00:00<00:00, 961.54it/s]"
     ]
    },
    {
     "name": "stdout",
     "output_type": "stream",
     "text": [
      "epoch [351/500], Loss: 0.6259\n"
     ]
    },
    {
     "name": "stderr",
     "output_type": "stream",
     "text": [
      "100%|██████████████████████████████████████████████████████████████████████████████| 203/203 [00:00<00:00, 1030.43it/s]\n",
      " 49%|██████████████████████████████████████▉                                        | 100/203 [00:00<00:00, 943.39it/s]"
     ]
    },
    {
     "name": "stdout",
     "output_type": "stream",
     "text": [
      "epoch [352/500], Loss: 0.5822\n"
     ]
    },
    {
     "name": "stderr",
     "output_type": "stream",
     "text": [
      "100%|███████████████████████████████████████████████████████████████████████████████| 203/203 [00:00<00:00, 939.82it/s]\n",
      " 49%|██████████████████████████████████████▉                                        | 100/203 [00:00<00:00, 970.86it/s]"
     ]
    },
    {
     "name": "stdout",
     "output_type": "stream",
     "text": [
      "epoch [353/500], Loss: 0.4295\n"
     ]
    },
    {
     "name": "stderr",
     "output_type": "stream",
     "text": [
      "100%|███████████████████████████████████████████████████████████████████████████████| 203/203 [00:00<00:00, 966.65it/s]\n",
      " 49%|██████████████████████████████████████▉                                        | 100/203 [00:00<00:00, 934.59it/s]"
     ]
    },
    {
     "name": "stdout",
     "output_type": "stream",
     "text": [
      "epoch [354/500], Loss: 0.5690\n"
     ]
    },
    {
     "name": "stderr",
     "output_type": "stream",
     "text": [
      "100%|███████████████████████████████████████████████████████████████████████████████| 203/203 [00:00<00:00, 990.26it/s]\n",
      "  0%|                                                                                          | 0/203 [00:00<?, ?it/s]"
     ]
    },
    {
     "name": "stdout",
     "output_type": "stream",
     "text": [
      "epoch [355/500], Loss: 0.4988\n"
     ]
    },
    {
     "name": "stderr",
     "output_type": "stream",
     "text": [
      "100%|██████████████████████████████████████████████████████████████████████████████| 203/203 [00:00<00:00, 1025.24it/s]\n",
      " 49%|██████████████████████████████████████▉                                        | 100/203 [00:00<00:00, 952.40it/s]"
     ]
    },
    {
     "name": "stdout",
     "output_type": "stream",
     "text": [
      "epoch [356/500], Loss: 0.4872\n"
     ]
    },
    {
     "name": "stderr",
     "output_type": "stream",
     "text": [
      "100%|███████████████████████████████████████████████████████████████████████████████| 203/203 [00:00<00:00, 931.19it/s]\n",
      " 49%|██████████████████████████████████████▉                                        | 100/203 [00:00<00:00, 980.47it/s]"
     ]
    },
    {
     "name": "stdout",
     "output_type": "stream",
     "text": [
      "epoch [357/500], Loss: 0.5644\n"
     ]
    },
    {
     "name": "stderr",
     "output_type": "stream",
     "text": [
      "100%|██████████████████████████████████████████████████████████████████████████████| 203/203 [00:00<00:00, 1009.99it/s]\n",
      " 49%|██████████████████████████████████████▉                                        | 100/203 [00:00<00:00, 900.90it/s]"
     ]
    },
    {
     "name": "stdout",
     "output_type": "stream",
     "text": [
      "epoch [358/500], Loss: 0.5796\n"
     ]
    },
    {
     "name": "stderr",
     "output_type": "stream",
     "text": [
      "100%|███████████████████████████████████████████████████████████████████████████████| 203/203 [00:00<00:00, 931.19it/s]\n",
      " 49%|██████████████████████████████████████▉                                        | 100/203 [00:00<00:00, 952.39it/s]"
     ]
    },
    {
     "name": "stdout",
     "output_type": "stream",
     "text": [
      "epoch [359/500], Loss: 0.7124\n"
     ]
    },
    {
     "name": "stderr",
     "output_type": "stream",
     "text": [
      "100%|███████████████████████████████████████████████████████████████████████████████| 203/203 [00:00<00:00, 995.10it/s]\n",
      " 49%|██████████████████████████████████████▉                                        | 100/203 [00:00<00:00, 990.08it/s]"
     ]
    },
    {
     "name": "stdout",
     "output_type": "stream",
     "text": [
      "epoch [360/500], Loss: 0.5764\n"
     ]
    },
    {
     "name": "stderr",
     "output_type": "stream",
     "text": [
      "100%|███████████████████████████████████████████████████████████████████████████████| 203/203 [00:00<00:00, 971.27it/s]\n",
      " 49%|██████████████████████████████████████▉                                        | 100/203 [00:00<00:00, 980.38it/s]"
     ]
    },
    {
     "name": "stdout",
     "output_type": "stream",
     "text": [
      "epoch [361/500], Loss: 0.5459\n"
     ]
    },
    {
     "name": "stderr",
     "output_type": "stream",
     "text": [
      "100%|███████████████████████████████████████████████████████████████████████████████| 203/203 [00:00<00:00, 948.59it/s]\n",
      "  0%|                                                                                          | 0/203 [00:00<?, ?it/s]"
     ]
    },
    {
     "name": "stdout",
     "output_type": "stream",
     "text": [
      "epoch [362/500], Loss: 0.7056\n"
     ]
    },
    {
     "name": "stderr",
     "output_type": "stream",
     "text": [
      "100%|███████████████████████████████████████████████████████████████████████████████| 203/203 [00:00<00:00, 962.08it/s]\n",
      "  0%|                                                                                          | 0/203 [00:00<?, ?it/s]"
     ]
    },
    {
     "name": "stdout",
     "output_type": "stream",
     "text": [
      "epoch [363/500], Loss: 0.6768\n"
     ]
    },
    {
     "name": "stderr",
     "output_type": "stream",
     "text": [
      "100%|██████████████████████████████████████████████████████████████████████████████| 203/203 [00:00<00:00, 1004.86it/s]\n",
      "  0%|                                                                                          | 0/203 [00:00<?, ?it/s]"
     ]
    },
    {
     "name": "stdout",
     "output_type": "stream",
     "text": [
      "epoch [364/500], Loss: 0.5100\n"
     ]
    },
    {
     "name": "stderr",
     "output_type": "stream",
     "text": [
      "100%|███████████████████████████████████████████████████████████████████████████████| 203/203 [00:00<00:00, 995.12it/s]\n",
      " 99%|████████████████████████████████████████████████████████████████████████████▊ | 200/203 [00:00<00:00, 1005.03it/s]"
     ]
    },
    {
     "name": "stdout",
     "output_type": "stream",
     "text": [
      "epoch [365/500], Loss: 0.3279\n"
     ]
    },
    {
     "name": "stderr",
     "output_type": "stream",
     "text": [
      "100%|██████████████████████████████████████████████████████████████████████████████| 203/203 [00:00<00:00, 1015.01it/s]\n",
      "100%|██████████████████████████████████████████████████████████████████████████████| 203/203 [00:00<00:00, 1004.94it/s]"
     ]
    },
    {
     "name": "stdout",
     "output_type": "stream",
     "text": [
      "epoch [366/500], Loss: 0.5289\n"
     ]
    },
    {
     "name": "stderr",
     "output_type": "stream",
     "text": [
      "\n",
      " 49%|██████████████████████████████████████▉                                        | 100/203 [00:00<00:00, 990.09it/s]"
     ]
    },
    {
     "name": "stdout",
     "output_type": "stream",
     "text": [
      "epoch [367/500], Loss: 0.8567\n"
     ]
    },
    {
     "name": "stderr",
     "output_type": "stream",
     "text": [
      "100%|██████████████████████████████████████████████████████████████████████████████| 203/203 [00:00<00:00, 1019.92it/s]\n",
      " 49%|██████████████████████████████████████▉                                        | 100/203 [00:00<00:00, 925.92it/s]"
     ]
    },
    {
     "name": "stdout",
     "output_type": "stream",
     "text": [
      "epoch [368/500], Loss: 0.7544\n"
     ]
    },
    {
     "name": "stderr",
     "output_type": "stream",
     "text": [
      "100%|███████████████████████████████████████████████████████████████████████████████| 203/203 [00:00<00:00, 906.25it/s]\n",
      "  0%|                                                                                          | 0/203 [00:00<?, ?it/s]"
     ]
    },
    {
     "name": "stdout",
     "output_type": "stream",
     "text": [
      "epoch [369/500], Loss: 0.5427\n"
     ]
    },
    {
     "name": "stderr",
     "output_type": "stream",
     "text": [
      "100%|███████████████████████████████████████████████████████████████████████████████| 203/203 [00:00<00:00, 971.23it/s]\n",
      " 49%|██████████████████████████████████████▉                                        | 100/203 [00:00<00:00, 990.07it/s]"
     ]
    },
    {
     "name": "stdout",
     "output_type": "stream",
     "text": [
      "epoch [370/500], Loss: 0.5502\n"
     ]
    },
    {
     "name": "stderr",
     "output_type": "stream",
     "text": [
      "100%|███████████████████████████████████████████████████████████████████████████████| 203/203 [00:00<00:00, 975.95it/s]\n",
      " 49%|██████████████████████████████████████▉                                        | 100/203 [00:00<00:00, 917.56it/s]"
     ]
    },
    {
     "name": "stdout",
     "output_type": "stream",
     "text": [
      "epoch [371/500], Loss: 0.4288\n"
     ]
    },
    {
     "name": "stderr",
     "output_type": "stream",
     "text": [
      "100%|███████████████████████████████████████████████████████████████████████████████| 203/203 [00:00<00:00, 939.87it/s]\n",
      "  0%|                                                                                          | 0/203 [00:00<?, ?it/s]"
     ]
    },
    {
     "name": "stdout",
     "output_type": "stream",
     "text": [
      "epoch [372/500], Loss: 0.3621\n"
     ]
    },
    {
     "name": "stderr",
     "output_type": "stream",
     "text": [
      "100%|███████████████████████████████████████████████████████████████████████████████| 203/203 [00:00<00:00, 995.10it/s]\n",
      "  0%|                                                                                          | 0/203 [00:00<?, ?it/s]"
     ]
    },
    {
     "name": "stdout",
     "output_type": "stream",
     "text": [
      "epoch [373/500], Loss: 0.5179\n"
     ]
    },
    {
     "name": "stderr",
     "output_type": "stream",
     "text": [
      "100%|███████████████████████████████████████████████████████████████████████████████| 203/203 [00:00<00:00, 980.66it/s]\n",
      " 49%|██████████████████████████████████████▉                                        | 100/203 [00:00<00:00, 934.65it/s]"
     ]
    },
    {
     "name": "stdout",
     "output_type": "stream",
     "text": [
      "epoch [374/500], Loss: 0.5967\n"
     ]
    },
    {
     "name": "stderr",
     "output_type": "stream",
     "text": [
      "100%|███████████████████████████████████████████████████████████████████████████████| 203/203 [00:00<00:00, 939.85it/s]\n",
      " 49%|██████████████████████████████████████▉                                        | 100/203 [00:00<00:00, 980.34it/s]"
     ]
    },
    {
     "name": "stdout",
     "output_type": "stream",
     "text": [
      "epoch [375/500], Loss: 0.4943\n"
     ]
    },
    {
     "name": "stderr",
     "output_type": "stream",
     "text": [
      "100%|███████████████████████████████████████████████████████████████████████████████| 203/203 [00:00<00:00, 985.43it/s]\n",
      " 49%|██████████████████████████████████████▉                                        | 100/203 [00:00<00:00, 925.91it/s]"
     ]
    },
    {
     "name": "stdout",
     "output_type": "stream",
     "text": [
      "epoch [376/500], Loss: 0.3496\n"
     ]
    },
    {
     "name": "stderr",
     "output_type": "stream",
     "text": [
      "100%|███████████████████████████████████████████████████████████████████████████████| 203/203 [00:00<00:00, 922.72it/s]\n",
      " 49%|██████████████████████████████████████▉                                        | 100/203 [00:00<00:00, 847.46it/s]"
     ]
    },
    {
     "name": "stdout",
     "output_type": "stream",
     "text": [
      "epoch [377/500], Loss: 0.3692\n"
     ]
    },
    {
     "name": "stderr",
     "output_type": "stream",
     "text": [
      "100%|███████████████████████████████████████████████████████████████████████████████| 203/203 [00:00<00:00, 902.22it/s]\n",
      "  0%|                                                                                          | 0/203 [00:00<?, ?it/s]"
     ]
    },
    {
     "name": "stdout",
     "output_type": "stream",
     "text": [
      "epoch [378/500], Loss: 0.6792\n"
     ]
    },
    {
     "name": "stderr",
     "output_type": "stream",
     "text": [
      "100%|██████████████████████████████████████████████████████████████████████████████| 203/203 [00:00<00:00, 1046.39it/s]\n",
      " 49%|██████████████████████████████████████▉                                        | 100/203 [00:00<00:00, 970.84it/s]"
     ]
    },
    {
     "name": "stdout",
     "output_type": "stream",
     "text": [
      "epoch [379/500], Loss: 0.7584\n"
     ]
    },
    {
     "name": "stderr",
     "output_type": "stream",
     "text": [
      "100%|██████████████████████████████████████████████████████████████████████████████| 203/203 [00:00<00:00, 1009.77it/s]\n",
      " 70%|██████████████████████████████████████████████████████▌                       | 142/203 [00:00<00:00, 1419.53it/s]"
     ]
    },
    {
     "name": "stdout",
     "output_type": "stream",
     "text": [
      "epoch [380/500], Loss: 0.6139\n"
     ]
    },
    {
     "name": "stderr",
     "output_type": "stream",
     "text": [
      "100%|██████████████████████████████████████████████████████████████████████████████| 203/203 [00:00<00:00, 1004.95it/s]\n",
      " 49%|██████████████████████████████████████▉                                        | 100/203 [00:00<00:00, 980.42it/s]"
     ]
    },
    {
     "name": "stdout",
     "output_type": "stream",
     "text": [
      "epoch [381/500], Loss: 0.5715\n"
     ]
    },
    {
     "name": "stderr",
     "output_type": "stream",
     "text": [
      "100%|███████████████████████████████████████████████████████████████████████████████| 203/203 [00:00<00:00, 962.10it/s]\n",
      "  0%|                                                                                          | 0/203 [00:00<?, ?it/s]"
     ]
    },
    {
     "name": "stdout",
     "output_type": "stream",
     "text": [
      "epoch [382/500], Loss: 0.7224\n"
     ]
    },
    {
     "name": "stderr",
     "output_type": "stream",
     "text": [
      "100%|███████████████████████████████████████████████████████████████████████████████| 203/203 [00:00<00:00, 980.68it/s]\n",
      " 49%|██████████████████████████████████████▉                                        | 100/203 [00:00<00:00, 980.40it/s]"
     ]
    },
    {
     "name": "stdout",
     "output_type": "stream",
     "text": [
      "epoch [383/500], Loss: 0.5646\n"
     ]
    },
    {
     "name": "stderr",
     "output_type": "stream",
     "text": [
      "100%|███████████████████████████████████████████████████████████████████████████████| 203/203 [00:00<00:00, 975.96it/s]\n",
      " 49%|██████████████████████████████████████▉                                        | 100/203 [00:00<00:00, 925.92it/s]"
     ]
    },
    {
     "name": "stdout",
     "output_type": "stream",
     "text": [
      "epoch [384/500], Loss: 0.3519\n"
     ]
    },
    {
     "name": "stderr",
     "output_type": "stream",
     "text": [
      "100%|███████████████████████████████████████████████████████████████████████████████| 203/203 [00:00<00:00, 931.19it/s]\n",
      "100%|███████████████████████████████████████████████████████████████████████████████| 203/203 [00:00<00:00, 966.67it/s]"
     ]
    },
    {
     "name": "stdout",
     "output_type": "stream",
     "text": [
      "epoch [385/500], Loss: 0.4943\n"
     ]
    },
    {
     "name": "stderr",
     "output_type": "stream",
     "text": [
      "\n",
      " 49%|██████████████████████████████████████▉                                        | 100/203 [00:00<00:00, 961.53it/s]"
     ]
    },
    {
     "name": "stdout",
     "output_type": "stream",
     "text": [
      "epoch [386/500], Loss: 0.5365\n"
     ]
    },
    {
     "name": "stderr",
     "output_type": "stream",
     "text": [
      "100%|███████████████████████████████████████████████████████████████████████████████| 203/203 [00:00<00:00, 931.19it/s]\n",
      "  0%|                                                                                          | 0/203 [00:00<?, ?it/s]"
     ]
    },
    {
     "name": "stdout",
     "output_type": "stream",
     "text": [
      "epoch [387/500], Loss: 0.5424\n"
     ]
    },
    {
     "name": "stderr",
     "output_type": "stream",
     "text": [
      "100%|███████████████████████████████████████████████████████████████████████████████| 203/203 [00:00<00:00, 971.31it/s]\n",
      " 49%|██████████████████████████████████████▉                                        | 100/203 [00:00<00:00, 909.11it/s]"
     ]
    },
    {
     "name": "stdout",
     "output_type": "stream",
     "text": [
      "epoch [388/500], Loss: 0.6831\n"
     ]
    },
    {
     "name": "stderr",
     "output_type": "stream",
     "text": [
      "100%|███████████████████████████████████████████████████████████████████████████████| 203/203 [00:00<00:00, 867.53it/s]\n",
      " 49%|██████████████████████████████████████▉                                        | 100/203 [00:00<00:00, 934.59it/s]"
     ]
    },
    {
     "name": "stdout",
     "output_type": "stream",
     "text": [
      "epoch [389/500], Loss: 0.8646\n"
     ]
    },
    {
     "name": "stderr",
     "output_type": "stream",
     "text": [
      "100%|███████████████████████████████████████████████████████████████████████████████| 203/203 [00:00<00:00, 971.29it/s]\n",
      " 99%|█████████████████████████████████████████████████████████████████████████████▊ | 200/203 [00:00<00:00, 938.69it/s]"
     ]
    },
    {
     "name": "stdout",
     "output_type": "stream",
     "text": [
      "epoch [390/500], Loss: 0.8591\n"
     ]
    },
    {
     "name": "stderr",
     "output_type": "stream",
     "text": [
      "100%|███████████████████████████████████████████████████████████████████████████████| 203/203 [00:00<00:00, 953.05it/s]\n",
      "  0%|                                                                                          | 0/203 [00:00<?, ?it/s]"
     ]
    },
    {
     "name": "stdout",
     "output_type": "stream",
     "text": [
      "epoch [391/500], Loss: 0.8164\n"
     ]
    },
    {
     "name": "stderr",
     "output_type": "stream",
     "text": [
      "100%|██████████████████████████████████████████████████████████████████████████████| 203/203 [00:00<00:00, 1009.94it/s]\n",
      " 49%|██████████████████████████████████████▉                                        | 100/203 [00:00<00:00, 971.07it/s]"
     ]
    },
    {
     "name": "stdout",
     "output_type": "stream",
     "text": [
      "epoch [392/500], Loss: 0.7357\n"
     ]
    },
    {
     "name": "stderr",
     "output_type": "stream",
     "text": [
      "100%|███████████████████████████████████████████████████████████████████████████████| 203/203 [00:00<00:00, 980.70it/s]\n",
      " 49%|██████████████████████████████████████▉                                        | 100/203 [00:00<00:00, 900.90it/s]"
     ]
    },
    {
     "name": "stdout",
     "output_type": "stream",
     "text": [
      "epoch [393/500], Loss: 0.6711\n"
     ]
    },
    {
     "name": "stderr",
     "output_type": "stream",
     "text": [
      "100%|███████████████████████████████████████████████████████████████████████████████| 203/203 [00:00<00:00, 898.23it/s]\n",
      " 49%|██████████████████████████████████████▉                                        | 100/203 [00:00<00:00, 900.89it/s]"
     ]
    },
    {
     "name": "stdout",
     "output_type": "stream",
     "text": [
      "epoch [394/500], Loss: 0.7155\n"
     ]
    },
    {
     "name": "stderr",
     "output_type": "stream",
     "text": [
      "100%|███████████████████████████████████████████████████████████████████████████████| 203/203 [00:00<00:00, 894.27it/s]\n",
      " 49%|██████████████████████████████████████▉                                        | 100/203 [00:00<00:00, 688.90it/s]"
     ]
    },
    {
     "name": "stdout",
     "output_type": "stream",
     "text": [
      "epoch [395/500], Loss: 0.6681\n"
     ]
    },
    {
     "name": "stderr",
     "output_type": "stream",
     "text": [
      "100%|███████████████████████████████████████████████████████████████████████████████| 203/203 [00:00<00:00, 805.05it/s]\n",
      "  0%|                                                                                          | 0/203 [00:00<?, ?it/s]"
     ]
    },
    {
     "name": "stdout",
     "output_type": "stream",
     "text": [
      "epoch [396/500], Loss: 0.5198\n"
     ]
    },
    {
     "name": "stderr",
     "output_type": "stream",
     "text": [
      "100%|███████████████████████████████████████████████████████████████████████████████| 203/203 [00:00<00:00, 995.09it/s]\n",
      " 49%|██████████████████████████████████████▉                                        | 100/203 [00:00<00:00, 892.83it/s]"
     ]
    },
    {
     "name": "stdout",
     "output_type": "stream",
     "text": [
      "epoch [397/500], Loss: 0.5663\n"
     ]
    },
    {
     "name": "stderr",
     "output_type": "stream",
     "text": [
      "100%|███████████████████████████████████████████████████████████████████████████████| 203/203 [00:00<00:00, 922.71it/s]\n",
      " 49%|██████████████████████████████████████▉                                        | 100/203 [00:00<00:00, 812.99it/s]"
     ]
    },
    {
     "name": "stdout",
     "output_type": "stream",
     "text": [
      "epoch [398/500], Loss: 0.6060\n"
     ]
    },
    {
     "name": "stderr",
     "output_type": "stream",
     "text": [
      "100%|███████████████████████████████████████████████████████████████████████████████| 203/203 [00:00<00:00, 849.38it/s]\n",
      " 49%|██████████████████████████████████████▉                                        | 100/203 [00:00<00:00, 840.30it/s]"
     ]
    },
    {
     "name": "stdout",
     "output_type": "stream",
     "text": [
      "epoch [399/500], Loss: 0.5741\n"
     ]
    },
    {
     "name": "stderr",
     "output_type": "stream",
     "text": [
      "100%|███████████████████████████████████████████████████████████████████████████████| 203/203 [00:00<00:00, 845.83it/s]\n",
      " 49%|██████████████████████████████████████▉                                        | 100/203 [00:00<00:00, 869.56it/s]"
     ]
    },
    {
     "name": "stdout",
     "output_type": "stream",
     "text": [
      "epoch [400/500], Loss: 0.5439\n"
     ]
    },
    {
     "name": "stderr",
     "output_type": "stream",
     "text": [
      "100%|███████████████████████████████████████████████████████████████████████████████| 203/203 [00:00<00:00, 890.36it/s]\n",
      " 49%|██████████████████████████████████████▉                                        | 100/203 [00:00<00:00, 961.53it/s]"
     ]
    },
    {
     "name": "stdout",
     "output_type": "stream",
     "text": [
      "epoch [401/500], Loss: 0.5134\n"
     ]
    },
    {
     "name": "stderr",
     "output_type": "stream",
     "text": [
      "100%|███████████████████████████████████████████████████████████████████████████████| 203/203 [00:00<00:00, 902.22it/s]\n",
      " 49%|██████████████████████████████████████▉                                        | 100/203 [00:00<00:00, 925.92it/s]"
     ]
    },
    {
     "name": "stdout",
     "output_type": "stream",
     "text": [
      "epoch [402/500], Loss: 0.6859\n"
     ]
    },
    {
     "name": "stderr",
     "output_type": "stream",
     "text": [
      "100%|███████████████████████████████████████████████████████████████████████████████| 203/203 [00:00<00:00, 957.54it/s]\n",
      " 49%|██████████████████████████████████████▉                                        | 100/203 [00:00<00:00, 934.58it/s]"
     ]
    },
    {
     "name": "stdout",
     "output_type": "stream",
     "text": [
      "epoch [403/500], Loss: 0.6249\n"
     ]
    },
    {
     "name": "stderr",
     "output_type": "stream",
     "text": [
      "100%|███████████████████████████████████████████████████████████████████████████████| 203/203 [00:00<00:00, 975.96it/s]\n",
      " 49%|██████████████████████████████████████▉                                        | 100/203 [00:00<00:00, 878.95it/s]"
     ]
    },
    {
     "name": "stdout",
     "output_type": "stream",
     "text": [
      "epoch [404/500], Loss: 0.4559\n"
     ]
    },
    {
     "name": "stderr",
     "output_type": "stream",
     "text": [
      "100%|███████████████████████████████████████████████████████████████████████████████| 203/203 [00:00<00:00, 883.53it/s]\n",
      "  0%|                                                                                          | 0/203 [00:00<?, ?it/s]"
     ]
    },
    {
     "name": "stdout",
     "output_type": "stream",
     "text": [
      "epoch [405/500], Loss: 0.5264\n"
     ]
    },
    {
     "name": "stderr",
     "output_type": "stream",
     "text": [
      "100%|██████████████████████████████████████████████████████████████████████████████| 203/203 [00:00<00:00, 1041.03it/s]\n",
      " 99%|█████████████████████████████████████████████████████████████████████████████▊ | 200/203 [00:00<00:00, 952.32it/s]"
     ]
    },
    {
     "name": "stdout",
     "output_type": "stream",
     "text": [
      "epoch [406/500], Loss: 0.5557\n"
     ]
    },
    {
     "name": "stderr",
     "output_type": "stream",
     "text": [
      "100%|███████████████████████████████████████████████████████████████████████████████| 203/203 [00:00<00:00, 962.10it/s]\n",
      "  0%|                                                                                          | 0/203 [00:00<?, ?it/s]"
     ]
    },
    {
     "name": "stdout",
     "output_type": "stream",
     "text": [
      "epoch [407/500], Loss: 0.8164\n"
     ]
    },
    {
     "name": "stderr",
     "output_type": "stream",
     "text": [
      "100%|███████████████████████████████████████████████████████████████████████████████| 203/203 [00:00<00:00, 948.59it/s]\n",
      " 49%|██████████████████████████████████████▉                                        | 100/203 [00:00<00:00, 877.13it/s]"
     ]
    },
    {
     "name": "stdout",
     "output_type": "stream",
     "text": [
      "epoch [408/500], Loss: 0.6954\n"
     ]
    },
    {
     "name": "stderr",
     "output_type": "stream",
     "text": [
      "100%|███████████████████████████████████████████████████████████████████████████████| 203/203 [00:00<00:00, 906.25it/s]\n",
      " 49%|██████████████████████████████████████▉                                        | 100/203 [00:00<00:00, 826.45it/s]"
     ]
    },
    {
     "name": "stdout",
     "output_type": "stream",
     "text": [
      "epoch [409/500], Loss: 0.4336\n"
     ]
    },
    {
     "name": "stderr",
     "output_type": "stream",
     "text": [
      "100%|███████████████████████████████████████████████████████████████████████████████| 203/203 [00:00<00:00, 906.26it/s]\n",
      " 49%|██████████████████████████████████████▉                                        | 100/203 [00:00<00:00, 833.33it/s]"
     ]
    },
    {
     "name": "stdout",
     "output_type": "stream",
     "text": [
      "epoch [410/500], Loss: 0.4788\n"
     ]
    },
    {
     "name": "stderr",
     "output_type": "stream",
     "text": [
      "100%|███████████████████████████████████████████████████████████████████████████████| 203/203 [00:00<00:00, 860.17it/s]\n",
      " 49%|██████████████████████████████████████▍                                       | 100/203 [00:00<00:00, 1000.00it/s]"
     ]
    },
    {
     "name": "stdout",
     "output_type": "stream",
     "text": [
      "epoch [411/500], Loss: 0.5020\n"
     ]
    },
    {
     "name": "stderr",
     "output_type": "stream",
     "text": [
      "100%|███████████████████████████████████████████████████████████████████████████████| 203/203 [00:00<00:00, 990.24it/s]\n",
      " 49%|██████████████████████████████████████▉                                        | 100/203 [00:00<00:00, 917.61it/s]"
     ]
    },
    {
     "name": "stdout",
     "output_type": "stream",
     "text": [
      "epoch [412/500], Loss: 0.5637\n"
     ]
    },
    {
     "name": "stderr",
     "output_type": "stream",
     "text": [
      "100%|███████████████████████████████████████████████████████████████████████████████| 203/203 [00:00<00:00, 927.05it/s]\n",
      " 49%|██████████████████████████████████████▉                                        | 100/203 [00:00<00:00, 952.28it/s]"
     ]
    },
    {
     "name": "stdout",
     "output_type": "stream",
     "text": [
      "epoch [413/500], Loss: 0.4608\n"
     ]
    },
    {
     "name": "stderr",
     "output_type": "stream",
     "text": [
      "100%|███████████████████████████████████████████████████████████████████████████████| 203/203 [00:00<00:00, 966.67it/s]\n",
      " 49%|██████████████████████████████████████▍                                       | 100/203 [00:00<00:00, 1000.00it/s]"
     ]
    },
    {
     "name": "stdout",
     "output_type": "stream",
     "text": [
      "epoch [414/500], Loss: 0.6643\n"
     ]
    },
    {
     "name": "stderr",
     "output_type": "stream",
     "text": [
      "100%|███████████████████████████████████████████████████████████████████████████████| 203/203 [00:00<00:00, 966.66it/s]\n",
      " 49%|██████████████████████████████████████▉                                        | 100/203 [00:00<00:00, 990.10it/s]"
     ]
    },
    {
     "name": "stdout",
     "output_type": "stream",
     "text": [
      "epoch [415/500], Loss: 0.8643\n"
     ]
    },
    {
     "name": "stderr",
     "output_type": "stream",
     "text": [
      "100%|███████████████████████████████████████████████████████████████████████████████| 203/203 [00:00<00:00, 962.09it/s]\n",
      " 49%|██████████████████████████████████████▉                                        | 100/203 [00:00<00:00, 934.58it/s]"
     ]
    },
    {
     "name": "stdout",
     "output_type": "stream",
     "text": [
      "epoch [416/500], Loss: 0.7304\n"
     ]
    },
    {
     "name": "stderr",
     "output_type": "stream",
     "text": [
      "100%|███████████████████████████████████████████████████████████████████████████████| 203/203 [00:00<00:00, 918.55it/s]\n",
      " 49%|██████████████████████████████████████▉                                        | 100/203 [00:00<00:00, 925.86it/s]"
     ]
    },
    {
     "name": "stdout",
     "output_type": "stream",
     "text": [
      "epoch [417/500], Loss: 0.5053\n"
     ]
    },
    {
     "name": "stderr",
     "output_type": "stream",
     "text": [
      "100%|███████████████████████████████████████████████████████████████████████████████| 203/203 [00:00<00:00, 953.04it/s]\n",
      " 49%|██████████████████████████████████████▉                                        | 100/203 [00:00<00:00, 917.40it/s]"
     ]
    },
    {
     "name": "stdout",
     "output_type": "stream",
     "text": [
      "epoch [418/500], Loss: 0.3266\n"
     ]
    },
    {
     "name": "stderr",
     "output_type": "stream",
     "text": [
      "100%|███████████████████████████████████████████████████████████████████████████████| 203/203 [00:00<00:00, 842.32it/s]\n",
      " 49%|██████████████████████████████████████▉                                        | 100/203 [00:00<00:00, 793.65it/s]"
     ]
    },
    {
     "name": "stdout",
     "output_type": "stream",
     "text": [
      "epoch [419/500], Loss: 0.4508\n"
     ]
    },
    {
     "name": "stderr",
     "output_type": "stream",
     "text": [
      "100%|███████████████████████████████████████████████████████████████████████████████| 203/203 [00:00<00:00, 835.39it/s]\n",
      " 49%|██████████████████████████████████████▉                                        | 100/203 [00:00<00:00, 900.89it/s]"
     ]
    },
    {
     "name": "stdout",
     "output_type": "stream",
     "text": [
      "epoch [420/500], Loss: 0.4684\n"
     ]
    },
    {
     "name": "stderr",
     "output_type": "stream",
     "text": [
      "100%|███████████████████████████████████████████████████████████████████████████████| 203/203 [00:00<00:00, 918.56it/s]\n",
      " 49%|██████████████████████████████████████▉                                        | 100/203 [00:00<00:00, 925.93it/s]"
     ]
    },
    {
     "name": "stdout",
     "output_type": "stream",
     "text": [
      "epoch [421/500], Loss: 0.3766\n"
     ]
    },
    {
     "name": "stderr",
     "output_type": "stream",
     "text": [
      "100%|███████████████████████████████████████████████████████████████████████████████| 203/203 [00:00<00:00, 990.23it/s]\n",
      " 49%|██████████████████████████████████████▉                                        | 100/203 [00:00<00:00, 862.09it/s]"
     ]
    },
    {
     "name": "stdout",
     "output_type": "stream",
     "text": [
      "epoch [422/500], Loss: 0.5102\n"
     ]
    },
    {
     "name": "stderr",
     "output_type": "stream",
     "text": [
      "100%|███████████████████████████████████████████████████████████████████████████████| 203/203 [00:00<00:00, 975.97it/s]\n",
      " 49%|██████████████████████████████████████▉                                        | 100/203 [00:00<00:00, 980.41it/s]"
     ]
    },
    {
     "name": "stdout",
     "output_type": "stream",
     "text": [
      "epoch [423/500], Loss: 0.6981\n"
     ]
    },
    {
     "name": "stderr",
     "output_type": "stream",
     "text": [
      "100%|███████████████████████████████████████████████████████████████████████████████| 203/203 [00:00<00:00, 953.06it/s]\n",
      " 49%|██████████████████████████████████████▉                                        | 100/203 [00:00<00:00, 952.37it/s]"
     ]
    },
    {
     "name": "stdout",
     "output_type": "stream",
     "text": [
      "epoch [424/500], Loss: 0.7783\n"
     ]
    },
    {
     "name": "stderr",
     "output_type": "stream",
     "text": [
      "100%|███████████████████████████████████████████████████████████████████████████████| 203/203 [00:00<00:00, 935.47it/s]\n",
      " 49%|██████████████████████████████████████▉                                        | 100/203 [00:00<00:00, 952.37it/s]"
     ]
    },
    {
     "name": "stdout",
     "output_type": "stream",
     "text": [
      "epoch [425/500], Loss: 0.5900\n"
     ]
    },
    {
     "name": "stderr",
     "output_type": "stream",
     "text": [
      "100%|███████████████████████████████████████████████████████████████████████████████| 203/203 [00:00<00:00, 957.53it/s]\n",
      " 49%|██████████████████████████████████████▉                                        | 100/203 [00:00<00:00, 943.38it/s]"
     ]
    },
    {
     "name": "stdout",
     "output_type": "stream",
     "text": [
      "epoch [426/500], Loss: 0.5213\n"
     ]
    },
    {
     "name": "stderr",
     "output_type": "stream",
     "text": [
      "100%|███████████████████████████████████████████████████████████████████████████████| 203/203 [00:00<00:00, 966.66it/s]\n",
      " 49%|██████████████████████████████████████▉                                        | 100/203 [00:00<00:00, 952.36it/s]"
     ]
    },
    {
     "name": "stdout",
     "output_type": "stream",
     "text": [
      "epoch [427/500], Loss: 0.5122\n"
     ]
    },
    {
     "name": "stderr",
     "output_type": "stream",
     "text": [
      "100%|███████████████████████████████████████████████████████████████████████████████| 203/203 [00:00<00:00, 898.22it/s]\n",
      " 49%|██████████████████████████████████████▉                                        | 100/203 [00:00<00:00, 854.72it/s]"
     ]
    },
    {
     "name": "stdout",
     "output_type": "stream",
     "text": [
      "epoch [428/500], Loss: 0.4071\n"
     ]
    },
    {
     "name": "stderr",
     "output_type": "stream",
     "text": [
      "100%|███████████████████████████████████████████████████████████████████████████████| 203/203 [00:00<00:00, 918.56it/s]\n",
      " 49%|██████████████████████████████████████▉                                        | 100/203 [00:00<00:00, 934.60it/s]"
     ]
    },
    {
     "name": "stdout",
     "output_type": "stream",
     "text": [
      "epoch [429/500], Loss: 0.4139\n"
     ]
    },
    {
     "name": "stderr",
     "output_type": "stream",
     "text": [
      "100%|███████████████████████████████████████████████████████████████████████████████| 203/203 [00:00<00:00, 914.42it/s]\n",
      " 49%|██████████████████████████████████████▉                                        | 100/203 [00:00<00:00, 934.56it/s]"
     ]
    },
    {
     "name": "stdout",
     "output_type": "stream",
     "text": [
      "epoch [430/500], Loss: 0.5207\n"
     ]
    },
    {
     "name": "stderr",
     "output_type": "stream",
     "text": [
      "100%|███████████████████████████████████████████████████████████████████████████████| 203/203 [00:00<00:00, 935.48it/s]\n",
      "  0%|                                                                                          | 0/203 [00:00<?, ?it/s]"
     ]
    },
    {
     "name": "stdout",
     "output_type": "stream",
     "text": [
      "epoch [431/500], Loss: 0.5128\n"
     ]
    },
    {
     "name": "stderr",
     "output_type": "stream",
     "text": [
      "100%|██████████████████████████████████████████████████████████████████████████████| 203/203 [00:00<00:00, 1020.10it/s]\n",
      "  0%|                                                                                          | 0/203 [00:00<?, ?it/s]"
     ]
    },
    {
     "name": "stdout",
     "output_type": "stream",
     "text": [
      "epoch [432/500], Loss: 0.4281\n"
     ]
    },
    {
     "name": "stderr",
     "output_type": "stream",
     "text": [
      "100%|███████████████████████████████████████████████████████████████████████████████| 203/203 [00:00<00:00, 971.30it/s]\n",
      " 49%|██████████████████████████████████████▉                                        | 100/203 [00:00<00:00, 917.46it/s]"
     ]
    },
    {
     "name": "stdout",
     "output_type": "stream",
     "text": [
      "epoch [433/500], Loss: 0.4977\n"
     ]
    },
    {
     "name": "stderr",
     "output_type": "stream",
     "text": [
      "100%|███████████████████████████████████████████████████████████████████████████████| 203/203 [00:00<00:00, 910.33it/s]\n",
      " 49%|██████████████████████████████████████▉                                        | 100/203 [00:00<00:00, 980.05it/s]"
     ]
    },
    {
     "name": "stdout",
     "output_type": "stream",
     "text": [
      "epoch [434/500], Loss: 0.7091\n"
     ]
    },
    {
     "name": "stderr",
     "output_type": "stream",
     "text": [
      "100%|███████████████████████████████████████████████████████████████████████████████| 203/203 [00:00<00:00, 995.10it/s]\n",
      "  0%|                                                                                          | 0/203 [00:00<?, ?it/s]"
     ]
    },
    {
     "name": "stdout",
     "output_type": "stream",
     "text": [
      "epoch [435/500], Loss: 0.8320\n"
     ]
    },
    {
     "name": "stderr",
     "output_type": "stream",
     "text": [
      "100%|███████████████████████████████████████████████████████████████████████████████| 203/203 [00:00<00:00, 948.59it/s]\n",
      "  0%|                                                                                          | 0/203 [00:00<?, ?it/s]"
     ]
    },
    {
     "name": "stdout",
     "output_type": "stream",
     "text": [
      "epoch [436/500], Loss: 1.0191\n"
     ]
    },
    {
     "name": "stderr",
     "output_type": "stream",
     "text": [
      "100%|██████████████████████████████████████████████████████████████████████████████| 203/203 [00:00<00:00, 1035.65it/s]\n",
      " 49%|██████████████████████████████████████▉                                        | 100/203 [00:00<00:00, 952.36it/s]"
     ]
    },
    {
     "name": "stdout",
     "output_type": "stream",
     "text": [
      "epoch [437/500], Loss: 0.8917\n"
     ]
    },
    {
     "name": "stderr",
     "output_type": "stream",
     "text": [
      "100%|███████████████████████████████████████████████████████████████████████████████| 203/203 [00:00<00:00, 948.59it/s]\n",
      " 49%|██████████████████████████████████████▉                                        | 100/203 [00:00<00:00, 990.10it/s]"
     ]
    },
    {
     "name": "stdout",
     "output_type": "stream",
     "text": [
      "epoch [438/500], Loss: 0.5575\n"
     ]
    },
    {
     "name": "stderr",
     "output_type": "stream",
     "text": [
      "100%|███████████████████████████████████████████████████████████████████████████████| 203/203 [00:00<00:00, 999.99it/s]\n",
      "  0%|                                                                                          | 0/203 [00:00<?, ?it/s]"
     ]
    },
    {
     "name": "stdout",
     "output_type": "stream",
     "text": [
      "epoch [439/500], Loss: 0.5328\n"
     ]
    },
    {
     "name": "stderr",
     "output_type": "stream",
     "text": [
      "100%|██████████████████████████████████████████████████████████████████████████████| 203/203 [00:00<00:00, 1004.93it/s]\n",
      " 49%|██████████████████████████████████████▉                                        | 100/203 [00:00<00:00, 990.09it/s]"
     ]
    },
    {
     "name": "stdout",
     "output_type": "stream",
     "text": [
      "epoch [440/500], Loss: 0.6062\n"
     ]
    },
    {
     "name": "stderr",
     "output_type": "stream",
     "text": [
      "100%|███████████████████████████████████████████████████████████████████████████████| 203/203 [00:00<00:00, 985.44it/s]\n",
      " 49%|██████████████████████████████████████▉                                        | 100/203 [00:00<00:00, 884.95it/s]"
     ]
    },
    {
     "name": "stdout",
     "output_type": "stream",
     "text": [
      "epoch [441/500], Loss: 0.4902\n"
     ]
    },
    {
     "name": "stderr",
     "output_type": "stream",
     "text": [
      "100%|███████████████████████████████████████████████████████████████████████████████| 203/203 [00:00<00:00, 948.59it/s]\n",
      " 49%|██████████████████████████████████████▉                                        | 100/203 [00:00<00:00, 961.22it/s]"
     ]
    },
    {
     "name": "stdout",
     "output_type": "stream",
     "text": [
      "epoch [442/500], Loss: 0.5529\n"
     ]
    },
    {
     "name": "stderr",
     "output_type": "stream",
     "text": [
      "100%|███████████████████████████████████████████████████████████████████████████████| 203/203 [00:00<00:00, 995.08it/s]\n",
      "  0%|                                                                                          | 0/203 [00:00<?, ?it/s]"
     ]
    },
    {
     "name": "stdout",
     "output_type": "stream",
     "text": [
      "epoch [443/500], Loss: 0.5510\n"
     ]
    },
    {
     "name": "stderr",
     "output_type": "stream",
     "text": [
      "100%|██████████████████████████████████████████████████████████████████████████████| 203/203 [00:00<00:00, 1079.77it/s]\n",
      " 99%|█████████████████████████████████████████████████████████████████████████████▊ | 200/203 [00:00<00:00, 963.72it/s]"
     ]
    },
    {
     "name": "stdout",
     "output_type": "stream",
     "text": [
      "epoch [444/500], Loss: 0.6236\n"
     ]
    },
    {
     "name": "stderr",
     "output_type": "stream",
     "text": [
      "100%|███████████████████████████████████████████████████████████████████████████████| 203/203 [00:00<00:00, 971.29it/s]\n",
      "  0%|                                                                                          | 0/203 [00:00<?, ?it/s]"
     ]
    },
    {
     "name": "stdout",
     "output_type": "stream",
     "text": [
      "epoch [445/500], Loss: 0.8382\n"
     ]
    },
    {
     "name": "stderr",
     "output_type": "stream",
     "text": [
      "100%|██████████████████████████████████████████████████████████████████████████████| 203/203 [00:00<00:00, 1000.00it/s]\n",
      "  0%|                                                                                          | 0/203 [00:00<?, ?it/s]"
     ]
    },
    {
     "name": "stdout",
     "output_type": "stream",
     "text": [
      "epoch [446/500], Loss: 0.5899\n"
     ]
    },
    {
     "name": "stderr",
     "output_type": "stream",
     "text": [
      "100%|███████████████████████████████████████████████████████████████████████████████| 203/203 [00:00<00:00, 985.42it/s]\n",
      " 49%|██████████████████████████████████████▉                                        | 100/203 [00:00<00:00, 980.39it/s]"
     ]
    },
    {
     "name": "stdout",
     "output_type": "stream",
     "text": [
      "epoch [447/500], Loss: 0.3691\n"
     ]
    },
    {
     "name": "stderr",
     "output_type": "stream",
     "text": [
      "100%|███████████████████████████████████████████████████████████████████████████████| 203/203 [00:00<00:00, 962.08it/s]\n",
      "  0%|                                                                                          | 0/203 [00:00<?, ?it/s]"
     ]
    },
    {
     "name": "stdout",
     "output_type": "stream",
     "text": [
      "epoch [448/500], Loss: 0.4618\n"
     ]
    },
    {
     "name": "stderr",
     "output_type": "stream",
     "text": [
      "100%|██████████████████████████████████████████████████████████████████████████████| 203/203 [00:00<00:00, 1035.74it/s]\n",
      " 49%|██████████████████████████████████████▉                                        | 100/203 [00:00<00:00, 943.40it/s]"
     ]
    },
    {
     "name": "stdout",
     "output_type": "stream",
     "text": [
      "epoch [449/500], Loss: 0.4044\n"
     ]
    },
    {
     "name": "stderr",
     "output_type": "stream",
     "text": [
      "100%|██████████████████████████████████████████████████████████████████████████████| 203/203 [00:00<00:00, 1014.98it/s]\n",
      "  0%|                                                                                          | 0/203 [00:00<?, ?it/s]"
     ]
    },
    {
     "name": "stdout",
     "output_type": "stream",
     "text": [
      "epoch [450/500], Loss: 0.3691\n"
     ]
    },
    {
     "name": "stderr",
     "output_type": "stream",
     "text": [
      "100%|███████████████████████████████████████████████████████████████████████████████| 203/203 [00:00<00:00, 995.09it/s]\n",
      " 49%|██████████████████████████████████████▉                                        | 100/203 [00:00<00:00, 961.53it/s]"
     ]
    },
    {
     "name": "stdout",
     "output_type": "stream",
     "text": [
      "epoch [451/500], Loss: 0.8060\n"
     ]
    },
    {
     "name": "stderr",
     "output_type": "stream",
     "text": [
      "100%|██████████████████████████████████████████████████████████████████████████████| 203/203 [00:00<00:00, 1009.93it/s]\n",
      " 49%|██████████████████████████████████████▉                                        | 100/203 [00:00<00:00, 934.57it/s]"
     ]
    },
    {
     "name": "stdout",
     "output_type": "stream",
     "text": [
      "epoch [452/500], Loss: 0.6933\n"
     ]
    },
    {
     "name": "stderr",
     "output_type": "stream",
     "text": [
      "100%|███████████████████████████████████████████████████████████████████████████████| 203/203 [00:00<00:00, 985.39it/s]\n",
      " 49%|██████████████████████████████████████▉                                        | 100/203 [00:00<00:00, 917.57it/s]"
     ]
    },
    {
     "name": "stdout",
     "output_type": "stream",
     "text": [
      "epoch [453/500], Loss: 0.5207\n"
     ]
    },
    {
     "name": "stderr",
     "output_type": "stream",
     "text": [
      "100%|███████████████████████████████████████████████████████████████████████████████| 203/203 [00:00<00:00, 906.33it/s]\n",
      " 49%|██████████████████████████████████████▉                                        | 100/203 [00:00<00:00, 884.96it/s]"
     ]
    },
    {
     "name": "stdout",
     "output_type": "stream",
     "text": [
      "epoch [454/500], Loss: 0.7137\n"
     ]
    },
    {
     "name": "stderr",
     "output_type": "stream",
     "text": [
      "100%|███████████████████████████████████████████████████████████████████████████████| 203/203 [00:00<00:00, 926.95it/s]\n",
      " 49%|██████████████████████████████████████▉                                        | 100/203 [00:00<00:00, 980.39it/s]"
     ]
    },
    {
     "name": "stdout",
     "output_type": "stream",
     "text": [
      "epoch [455/500], Loss: 0.6357\n"
     ]
    },
    {
     "name": "stderr",
     "output_type": "stream",
     "text": [
      "100%|███████████████████████████████████████████████████████████████████████████████| 203/203 [00:00<00:00, 985.44it/s]\n",
      " 49%|██████████████████████████████████████▉                                        | 100/203 [00:00<00:00, 925.95it/s]"
     ]
    },
    {
     "name": "stdout",
     "output_type": "stream",
     "text": [
      "epoch [456/500], Loss: 0.5981\n"
     ]
    },
    {
     "name": "stderr",
     "output_type": "stream",
     "text": [
      "100%|███████████████████████████████████████████████████████████████████████████████| 203/203 [00:00<00:00, 902.24it/s]\n",
      "  0%|                                                                                          | 0/203 [00:00<?, ?it/s]"
     ]
    },
    {
     "name": "stdout",
     "output_type": "stream",
     "text": [
      "epoch [457/500], Loss: 0.5444\n"
     ]
    },
    {
     "name": "stderr",
     "output_type": "stream",
     "text": [
      "100%|██████████████████████████████████████████████████████████████████████████████| 203/203 [00:00<00:00, 1015.00it/s]\n",
      " 49%|██████████████████████████████████████▉                                        | 100/203 [00:00<00:00, 934.58it/s]"
     ]
    },
    {
     "name": "stdout",
     "output_type": "stream",
     "text": [
      "epoch [458/500], Loss: 0.5267\n"
     ]
    },
    {
     "name": "stderr",
     "output_type": "stream",
     "text": [
      "100%|███████████████████████████████████████████████████████████████████████████████| 203/203 [00:00<00:00, 990.24it/s]\n",
      "  0%|                                                                                          | 0/203 [00:00<?, ?it/s]"
     ]
    },
    {
     "name": "stdout",
     "output_type": "stream",
     "text": [
      "epoch [459/500], Loss: 0.5422\n"
     ]
    },
    {
     "name": "stderr",
     "output_type": "stream",
     "text": [
      "100%|██████████████████████████████████████████████████████████████████████████████| 203/203 [00:00<00:00, 1014.99it/s]\n",
      " 49%|██████████████████████████████████████▉                                        | 100/203 [00:00<00:00, 917.47it/s]"
     ]
    },
    {
     "name": "stdout",
     "output_type": "stream",
     "text": [
      "epoch [460/500], Loss: 0.5662\n"
     ]
    },
    {
     "name": "stderr",
     "output_type": "stream",
     "text": [
      "100%|███████████████████████████████████████████████████████████████████████████████| 203/203 [00:00<00:00, 931.19it/s]\n",
      "  0%|                                                                                          | 0/203 [00:00<?, ?it/s]"
     ]
    },
    {
     "name": "stdout",
     "output_type": "stream",
     "text": [
      "epoch [461/500], Loss: 0.4222\n"
     ]
    },
    {
     "name": "stderr",
     "output_type": "stream",
     "text": [
      "100%|██████████████████████████████████████████████████████████████████████████████| 203/203 [00:00<00:00, 1025.29it/s]\n",
      " 99%|█████████████████████████████████████████████████████████████████████████████▊ | 200/203 [00:00<00:00, 995.02it/s]"
     ]
    },
    {
     "name": "stdout",
     "output_type": "stream",
     "text": [
      "epoch [462/500], Loss: 0.3010\n"
     ]
    },
    {
     "name": "stderr",
     "output_type": "stream",
     "text": [
      "100%|██████████████████████████████████████████████████████████████████████████████| 203/203 [00:00<00:00, 1004.95it/s]\n",
      "  0%|                                                                                          | 0/203 [00:00<?, ?it/s]"
     ]
    },
    {
     "name": "stdout",
     "output_type": "stream",
     "text": [
      "epoch [463/500], Loss: 0.4723\n"
     ]
    },
    {
     "name": "stderr",
     "output_type": "stream",
     "text": [
      "100%|███████████████████████████████████████████████████████████████████████████████| 203/203 [00:00<00:00, 995.10it/s]\n",
      "  0%|                                                                                          | 0/203 [00:00<?, ?it/s]"
     ]
    },
    {
     "name": "stdout",
     "output_type": "stream",
     "text": [
      "epoch [464/500], Loss: 0.4698\n"
     ]
    },
    {
     "name": "stderr",
     "output_type": "stream",
     "text": [
      "100%|██████████████████████████████████████████████████████████████████████████████| 203/203 [00:00<00:00, 1020.11it/s]\n",
      " 49%|██████████████████████████████████████▉                                        | 100/203 [00:00<00:00, 917.43it/s]"
     ]
    },
    {
     "name": "stdout",
     "output_type": "stream",
     "text": [
      "epoch [465/500], Loss: 1.8201\n"
     ]
    },
    {
     "name": "stderr",
     "output_type": "stream",
     "text": [
      "100%|███████████████████████████████████████████████████████████████████████████████| 203/203 [00:00<00:00, 910.31it/s]\n",
      " 49%|██████████████████████████████████████▉                                        | 100/203 [00:00<00:00, 952.39it/s]"
     ]
    },
    {
     "name": "stdout",
     "output_type": "stream",
     "text": [
      "epoch [466/500], Loss: 1.8051\n"
     ]
    },
    {
     "name": "stderr",
     "output_type": "stream",
     "text": [
      "100%|███████████████████████████████████████████████████████████████████████████████| 203/203 [00:00<00:00, 894.28it/s]\n",
      " 49%|██████████████████████████████████████▉                                        | 100/203 [00:00<00:00, 917.41it/s]"
     ]
    },
    {
     "name": "stdout",
     "output_type": "stream",
     "text": [
      "epoch [467/500], Loss: 0.4034\n"
     ]
    },
    {
     "name": "stderr",
     "output_type": "stream",
     "text": [
      "100%|███████████████████████████████████████████████████████████████████████████████| 203/203 [00:00<00:00, 902.22it/s]\n",
      " 49%|██████████████████████████████████████▉                                        | 100/203 [00:00<00:00, 854.73it/s]"
     ]
    },
    {
     "name": "stdout",
     "output_type": "stream",
     "text": [
      "epoch [468/500], Loss: 0.4624\n"
     ]
    },
    {
     "name": "stderr",
     "output_type": "stream",
     "text": [
      "100%|███████████████████████████████████████████████████████████████████████████████| 203/203 [00:00<00:00, 867.53it/s]\n",
      " 99%|█████████████████████████████████████████████████████████████████████████████▊ | 200/203 [00:00<00:00, 991.83it/s]"
     ]
    },
    {
     "name": "stdout",
     "output_type": "stream",
     "text": [
      "epoch [469/500], Loss: 0.7260\n"
     ]
    },
    {
     "name": "stderr",
     "output_type": "stream",
     "text": [
      "100%|███████████████████████████████████████████████████████████████████████████████| 203/203 [00:00<00:00, 999.99it/s]\n",
      "  0%|                                                                                          | 0/203 [00:00<?, ?it/s]"
     ]
    },
    {
     "name": "stdout",
     "output_type": "stream",
     "text": [
      "epoch [470/500], Loss: 0.9600\n"
     ]
    },
    {
     "name": "stderr",
     "output_type": "stream",
     "text": [
      "100%|███████████████████████████████████████████████████████████████████████████████| 203/203 [00:00<00:00, 985.51it/s]\n",
      " 49%|██████████████████████████████████████▉                                        | 100/203 [00:00<00:00, 925.93it/s]"
     ]
    },
    {
     "name": "stdout",
     "output_type": "stream",
     "text": [
      "epoch [471/500], Loss: 0.5931\n"
     ]
    },
    {
     "name": "stderr",
     "output_type": "stream",
     "text": [
      "100%|███████████████████████████████████████████████████████████████████████████████| 203/203 [00:00<00:00, 939.82it/s]\n",
      " 49%|██████████████████████████████████████▉                                        | 100/203 [00:00<00:00, 943.59it/s]"
     ]
    },
    {
     "name": "stdout",
     "output_type": "stream",
     "text": [
      "epoch [472/500], Loss: 0.5679\n"
     ]
    },
    {
     "name": "stderr",
     "output_type": "stream",
     "text": [
      "100%|███████████████████████████████████████████████████████████████████████████████| 203/203 [00:00<00:00, 953.15it/s]\n",
      " 49%|██████████████████████████████████████▉                                        | 100/203 [00:00<00:00, 961.52it/s]"
     ]
    },
    {
     "name": "stdout",
     "output_type": "stream",
     "text": [
      "epoch [473/500], Loss: 0.7885\n"
     ]
    },
    {
     "name": "stderr",
     "output_type": "stream",
     "text": [
      "100%|███████████████████████████████████████████████████████████████████████████████| 203/203 [00:00<00:00, 980.68it/s]\n",
      " 49%|██████████████████████████████████████▉                                        | 100/203 [00:00<00:00, 980.40it/s]"
     ]
    },
    {
     "name": "stdout",
     "output_type": "stream",
     "text": [
      "epoch [474/500], Loss: 0.5511\n"
     ]
    },
    {
     "name": "stderr",
     "output_type": "stream",
     "text": [
      "100%|███████████████████████████████████████████████████████████████████████████████| 203/203 [00:00<00:00, 995.11it/s]\n",
      " 49%|██████████████████████████████████████▉                                        | 100/203 [00:00<00:00, 980.39it/s]"
     ]
    },
    {
     "name": "stdout",
     "output_type": "stream",
     "text": [
      "epoch [475/500], Loss: 0.3025\n"
     ]
    },
    {
     "name": "stderr",
     "output_type": "stream",
     "text": [
      "100%|██████████████████████████████████████████████████████████████████████████████| 203/203 [00:00<00:00, 1025.06it/s]\n",
      "  0%|                                                                                          | 0/203 [00:00<?, ?it/s]"
     ]
    },
    {
     "name": "stdout",
     "output_type": "stream",
     "text": [
      "epoch [476/500], Loss: 0.3223\n"
     ]
    },
    {
     "name": "stderr",
     "output_type": "stream",
     "text": [
      "100%|██████████████████████████████████████████████████████████████████████████████| 203/203 [00:00<00:00, 1005.17it/s]\n",
      "  0%|                                                                                          | 0/203 [00:00<?, ?it/s]"
     ]
    },
    {
     "name": "stdout",
     "output_type": "stream",
     "text": [
      "epoch [477/500], Loss: 0.5098\n"
     ]
    },
    {
     "name": "stderr",
     "output_type": "stream",
     "text": [
      "100%|██████████████████████████████████████████████████████████████████████████████| 203/203 [00:00<00:00, 1046.47it/s]\n",
      " 49%|██████████████████████████████████████▉                                        | 100/203 [00:00<00:00, 990.08it/s]"
     ]
    },
    {
     "name": "stdout",
     "output_type": "stream",
     "text": [
      "epoch [478/500], Loss: 0.6927\n"
     ]
    },
    {
     "name": "stderr",
     "output_type": "stream",
     "text": [
      "100%|███████████████████████████████████████████████████████████████████████████████| 203/203 [00:00<00:00, 995.10it/s]\n",
      " 49%|██████████████████████████████████████▉                                        | 100/203 [00:00<00:00, 961.56it/s]"
     ]
    },
    {
     "name": "stdout",
     "output_type": "stream",
     "text": [
      "epoch [479/500], Loss: 0.5420\n"
     ]
    },
    {
     "name": "stderr",
     "output_type": "stream",
     "text": [
      "100%|███████████████████████████████████████████████████████████████████████████████| 203/203 [00:00<00:00, 962.09it/s]\n",
      " 49%|██████████████████████████████████████▉                                        | 100/203 [00:00<00:00, 892.86it/s]"
     ]
    },
    {
     "name": "stdout",
     "output_type": "stream",
     "text": [
      "epoch [480/500], Loss: 0.4212\n"
     ]
    },
    {
     "name": "stderr",
     "output_type": "stream",
     "text": [
      "100%|███████████████████████████████████████████████████████████████████████████████| 203/203 [00:00<00:00, 944.19it/s]\n",
      " 49%|██████████████████████████████████████▉                                        | 100/203 [00:00<00:00, 970.86it/s]"
     ]
    },
    {
     "name": "stdout",
     "output_type": "stream",
     "text": [
      "epoch [481/500], Loss: 0.4810\n"
     ]
    },
    {
     "name": "stderr",
     "output_type": "stream",
     "text": [
      "100%|███████████████████████████████████████████████████████████████████████████████| 203/203 [00:00<00:00, 926.93it/s]\n",
      " 49%|██████████████████████████████████████▉                                        | 100/203 [00:00<00:00, 909.10it/s]"
     ]
    },
    {
     "name": "stdout",
     "output_type": "stream",
     "text": [
      "epoch [482/500], Loss: 0.5111\n"
     ]
    },
    {
     "name": "stderr",
     "output_type": "stream",
     "text": [
      "100%|███████████████████████████████████████████████████████████████████████████████| 203/203 [00:00<00:00, 906.25it/s]\n",
      "  0%|                                                                                          | 0/203 [00:00<?, ?it/s]"
     ]
    },
    {
     "name": "stdout",
     "output_type": "stream",
     "text": [
      "epoch [483/500], Loss: 0.6365\n"
     ]
    },
    {
     "name": "stderr",
     "output_type": "stream",
     "text": [
      "100%|███████████████████████████████████████████████████████████████████████████████| 203/203 [00:00<00:00, 953.50it/s]\n",
      " 49%|██████████████████████████████████████▉                                        | 100/203 [00:00<00:00, 837.39it/s]"
     ]
    },
    {
     "name": "stdout",
     "output_type": "stream",
     "text": [
      "epoch [484/500], Loss: 0.7308\n"
     ]
    },
    {
     "name": "stderr",
     "output_type": "stream",
     "text": [
      "100%|███████████████████████████████████████████████████████████████████████████████| 203/203 [00:00<00:00, 896.58it/s]\n",
      "  0%|                                                                                          | 0/203 [00:00<?, ?it/s]"
     ]
    },
    {
     "name": "stdout",
     "output_type": "stream",
     "text": [
      "epoch [485/500], Loss: 0.6752\n"
     ]
    },
    {
     "name": "stderr",
     "output_type": "stream",
     "text": [
      "100%|██████████████████████████████████████████████████████████████████████████████| 203/203 [00:00<00:00, 1009.93it/s]\n",
      "  0%|                                                                                          | 0/203 [00:00<?, ?it/s]"
     ]
    },
    {
     "name": "stdout",
     "output_type": "stream",
     "text": [
      "epoch [486/500], Loss: 0.6224\n"
     ]
    },
    {
     "name": "stderr",
     "output_type": "stream",
     "text": [
      "100%|██████████████████████████████████████████████████████████████████████████████| 203/203 [00:00<00:00, 1014.99it/s]\n",
      "  0%|                                                                                          | 0/203 [00:00<?, ?it/s]"
     ]
    },
    {
     "name": "stdout",
     "output_type": "stream",
     "text": [
      "epoch [487/500], Loss: 0.5565\n"
     ]
    },
    {
     "name": "stderr",
     "output_type": "stream",
     "text": [
      "100%|██████████████████████████████████████████████████████████████████████████████| 203/203 [00:00<00:00, 1062.84it/s]\n",
      " 49%|██████████████████████████████████████▉                                        | 100/203 [00:00<00:00, 980.55it/s]"
     ]
    },
    {
     "name": "stdout",
     "output_type": "stream",
     "text": [
      "epoch [488/500], Loss: 0.3975\n"
     ]
    },
    {
     "name": "stderr",
     "output_type": "stream",
     "text": [
      "100%|██████████████████████████████████████████████████████████████████████████████| 203/203 [00:00<00:00, 1010.04it/s]\n",
      " 49%|██████████████████████████████████████▉                                        | 100/203 [00:00<00:00, 952.38it/s]"
     ]
    },
    {
     "name": "stdout",
     "output_type": "stream",
     "text": [
      "epoch [489/500], Loss: 0.5075\n"
     ]
    },
    {
     "name": "stderr",
     "output_type": "stream",
     "text": [
      "100%|███████████████████████████████████████████████████████████████████████████████| 203/203 [00:00<00:00, 980.66it/s]\n",
      "  0%|                                                                                          | 0/203 [00:00<?, ?it/s]"
     ]
    },
    {
     "name": "stdout",
     "output_type": "stream",
     "text": [
      "epoch [490/500], Loss: 0.7188\n"
     ]
    },
    {
     "name": "stderr",
     "output_type": "stream",
     "text": [
      "100%|██████████████████████████████████████████████████████████████████████████████| 203/203 [00:00<00:00, 1035.70it/s]\n",
      " 49%|██████████████████████████████████████▉                                        | 100/203 [00:00<00:00, 970.87it/s]"
     ]
    },
    {
     "name": "stdout",
     "output_type": "stream",
     "text": [
      "epoch [491/500], Loss: 0.6332\n"
     ]
    },
    {
     "name": "stderr",
     "output_type": "stream",
     "text": [
      "100%|███████████████████████████████████████████████████████████████████████████████| 203/203 [00:00<00:00, 980.66it/s]\n",
      "  0%|                                                                                          | 0/203 [00:00<?, ?it/s]"
     ]
    },
    {
     "name": "stdout",
     "output_type": "stream",
     "text": [
      "epoch [492/500], Loss: 0.5067\n"
     ]
    },
    {
     "name": "stderr",
     "output_type": "stream",
     "text": [
      "100%|██████████████████████████████████████████████████████████████████████████████| 203/203 [00:00<00:00, 1020.09it/s]\n",
      "  0%|                                                                                          | 0/203 [00:00<?, ?it/s]"
     ]
    },
    {
     "name": "stdout",
     "output_type": "stream",
     "text": [
      "epoch [493/500], Loss: 0.4075\n"
     ]
    },
    {
     "name": "stderr",
     "output_type": "stream",
     "text": [
      "100%|███████████████████████████████████████████████████████████████████████████████| 203/203 [00:00<00:00, 985.45it/s]\n",
      " 49%|██████████████████████████████████████▉                                        | 100/203 [00:00<00:00, 970.87it/s]"
     ]
    },
    {
     "name": "stdout",
     "output_type": "stream",
     "text": [
      "epoch [494/500], Loss: 0.6413\n"
     ]
    },
    {
     "name": "stderr",
     "output_type": "stream",
     "text": [
      "100%|███████████████████████████████████████████████████████████████████████████████| 203/203 [00:00<00:00, 975.95it/s]\n",
      " 49%|██████████████████████████████████████▉                                        | 100/203 [00:00<00:00, 952.39it/s]"
     ]
    },
    {
     "name": "stdout",
     "output_type": "stream",
     "text": [
      "epoch [495/500], Loss: 0.9114\n"
     ]
    },
    {
     "name": "stderr",
     "output_type": "stream",
     "text": [
      "100%|███████████████████████████████████████████████████████████████████████████████| 203/203 [00:00<00:00, 995.09it/s]\n",
      " 49%|██████████████████████████████████████▉                                        | 100/203 [00:00<00:00, 970.99it/s]"
     ]
    },
    {
     "name": "stdout",
     "output_type": "stream",
     "text": [
      "epoch [496/500], Loss: 0.7501\n"
     ]
    },
    {
     "name": "stderr",
     "output_type": "stream",
     "text": [
      "100%|███████████████████████████████████████████████████████████████████████████████| 203/203 [00:00<00:00, 980.75it/s]\n",
      " 49%|██████████████████████████████████████▉                                        | 100/203 [00:00<00:00, 925.92it/s]"
     ]
    },
    {
     "name": "stdout",
     "output_type": "stream",
     "text": [
      "epoch [497/500], Loss: 0.4581\n"
     ]
    },
    {
     "name": "stderr",
     "output_type": "stream",
     "text": [
      "100%|███████████████████████████████████████████████████████████████████████████████| 203/203 [00:00<00:00, 914.42it/s]\n",
      " 49%|██████████████████████████████████████▉                                        | 100/203 [00:00<00:00, 925.93it/s]"
     ]
    },
    {
     "name": "stdout",
     "output_type": "stream",
     "text": [
      "epoch [498/500], Loss: 0.5012\n"
     ]
    },
    {
     "name": "stderr",
     "output_type": "stream",
     "text": [
      "100%|███████████████████████████████████████████████████████████████████████████████| 203/203 [00:00<00:00, 922.73it/s]\n",
      " 49%|██████████████████████████████████████▉                                        | 100/203 [00:00<00:00, 990.08it/s]"
     ]
    },
    {
     "name": "stdout",
     "output_type": "stream",
     "text": [
      "epoch [499/500], Loss: 0.7995\n"
     ]
    },
    {
     "name": "stderr",
     "output_type": "stream",
     "text": [
      "100%|███████████████████████████████████████████████████████████████████████████████| 203/203 [00:00<00:00, 979.58it/s]"
     ]
    },
    {
     "name": "stdout",
     "output_type": "stream",
     "text": [
      "epoch [500/500], Loss: 0.7448\n"
     ]
    },
    {
     "name": "stderr",
     "output_type": "stream",
     "text": [
      "\n"
     ]
    }
   ],
   "source": [
    "import os\n",
    "import shutil\n",
    "import pickle as pk\n",
    "from torch.utils.tensorboard import SummaryWriter\n",
    "\n",
    "# 记录日志\n",
    "shutil.rmtree('textrnn') if os.path.exists('textrnn') else 1\n",
    "writer = SummaryWriter('./textrnn', comment='textrnn')\n",
    "\n",
    "# 构建模型\n",
    "model = TextRNN(parameter).to(parameter['cuda'])\n",
    "\n",
    "# 确定训练模式\n",
    "model.train()\n",
    "\n",
    "# 确定优化器和损失\n",
    "optimizer = torch.optim.SGD(model.parameters(),lr=0.1, momentum=0.95, nesterov=True)\n",
    "# optimizer = torch.optim.Adam(model.parameters(),lr = parameter['lr'], \\\n",
    "#                              weight_decay = 0.01)\n",
    "criterion = nn.CrossEntropyLoss()\n",
    "\n",
    "# 保存图\n",
    "train_yield = batch_yield(train_chars,train_labels,parameter)\n",
    "seqs,label,keys,epoch = next(train_yield)\n",
    "writer.add_graph(model, (seqs,))\n",
    "\n",
    "# 准备迭代器\n",
    "train_yield = batch_yield(train_chars,train_labels,parameter)\n",
    "\n",
    "\n",
    "# 开始训练\n",
    "loss_cal = []\n",
    "min_loss = float('inf')\n",
    "with writer:\n",
    "    while 1:\n",
    "        seqs,label,keys,epoch = next(train_yield)\n",
    "        if not keys:\n",
    "            break\n",
    "        out = model(seqs)\n",
    "        loss = criterion(out, label)\n",
    "        optimizer.zero_grad()\n",
    "        loss.backward()\n",
    "        optimizer.step()\n",
    "        loss_cal.append(loss.item())\n",
    "        if epoch is not None:\n",
    "            if (epoch+1)%1 == 0:\n",
    "                loss_cal = sum(loss_cal)/len(loss_cal)\n",
    "                if loss_cal < min_loss:\n",
    "                    min_loss = loss_cal\n",
    "                    torch.save(model.state_dict(), parameter['model_path']+'model-rnn.h5')\n",
    "                print('epoch [{}/{}], Loss: {:.4f}'.format(epoch+1, \\\n",
    "                                                       parameter['epoch'],loss_cal))\n",
    "            writer.add_scalar('loss',loss_cal,global_step=epoch+1)\n",
    "            loss_cal = [loss.item()]\n",
    "    writer.flush()\n",
    "    writer.close()\n",
    "    \n",
    "# torch.save(model.state_dict(), 'model-rnn.h5')"
   ]
  }
 ],
 "metadata": {
  "kernelspec": {
   "display_name": "YOLOv5",
   "language": "python",
   "name": "yolov5"
  },
  "language_info": {
   "codemirror_mode": {
    "name": "ipython",
    "version": 3
   },
   "file_extension": ".py",
   "mimetype": "text/x-python",
   "name": "python",
   "nbconvert_exporter": "python",
   "pygments_lexer": "ipython3",
   "version": "3.7.11"
  },
  "toc": {
   "base_numbering": 1,
   "nav_menu": {},
   "number_sections": true,
   "sideBar": true,
   "skip_h1_title": false,
   "title_cell": "Table of Contents",
   "title_sidebar": "Contents",
   "toc_cell": false,
   "toc_position": {},
   "toc_section_display": true,
   "toc_window_display": false
  },
  "varInspector": {
   "cols": {
    "lenName": 16,
    "lenType": 16,
    "lenVar": 40
   },
   "kernels_config": {
    "python": {
     "delete_cmd_postfix": "",
     "delete_cmd_prefix": "del ",
     "library": "var_list.py",
     "varRefreshCmd": "print(var_dic_list())"
    },
    "r": {
     "delete_cmd_postfix": ") ",
     "delete_cmd_prefix": "rm(",
     "library": "var_list.r",
     "varRefreshCmd": "cat(var_dic_list()) "
    }
   },
   "types_to_exclude": [
    "module",
    "function",
    "builtin_function_or_method",
    "instance",
    "_Feature"
   ],
   "window_display": false
  }
 },
 "nbformat": 4,
 "nbformat_minor": 2
}
